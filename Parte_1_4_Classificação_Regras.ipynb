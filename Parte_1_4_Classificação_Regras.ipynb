{
  "nbformat": 4,
  "nbformat_minor": 0,
  "metadata": {
    "colab": {
      "provenance": [],
      "include_colab_link": true
    },
    "kernelspec": {
      "name": "python3",
      "display_name": "Python 3"
    },
    "language_info": {
      "name": "python"
    }
  },
  "cells": [
    {
      "cell_type": "markdown",
      "metadata": {
        "id": "view-in-github",
        "colab_type": "text"
      },
      "source": [
        "<a href=\"https://colab.research.google.com/github/ThalesCavalcanti/MachineLearningGroundwork/blob/main/Parte_1_4_Classificac%CC%A7a%CC%83o_Regras.ipynb\" target=\"_parent\"><img src=\"https://colab.research.google.com/assets/colab-badge.svg\" alt=\"Open In Colab\"/></a>"
      ]
    },
    {
      "cell_type": "code",
      "execution_count": 1,
      "metadata": {
        "id": "jU1GITmUpiJ2",
        "colab": {
          "base_uri": "https://localhost:8080/"
        },
        "outputId": "30fa28d8-7224-4ac2-e4a9-c1171f1c0293"
      },
      "outputs": [
        {
          "output_type": "stream",
          "name": "stdout",
          "text": [
            "Collecting Orange3\n",
            "  Downloading orange3-3.39.0-cp311-cp311-manylinux_2_27_x86_64.manylinux_2_28_x86_64.whl.metadata (3.8 kB)\n",
            "Collecting AnyQt>=0.2.0 (from Orange3)\n",
            "  Downloading anyqt-0.2.1-py3-none-any.whl.metadata (1.7 kB)\n",
            "Collecting baycomp>=1.0.2 (from Orange3)\n",
            "  Downloading baycomp-1.0.3.tar.gz (15 kB)\n",
            "  Preparing metadata (setup.py) ... \u001b[?25l\u001b[?25hdone\n",
            "Requirement already satisfied: bottleneck>=1.3.4 in /usr/local/lib/python3.11/dist-packages (from Orange3) (1.4.2)\n",
            "Requirement already satisfied: chardet>=3.0.2 in /usr/local/lib/python3.11/dist-packages (from Orange3) (5.2.0)\n",
            "Requirement already satisfied: httpx>=0.21.0 in /usr/local/lib/python3.11/dist-packages (from Orange3) (0.28.1)\n",
            "Requirement already satisfied: joblib>=1.2.0 in /usr/local/lib/python3.11/dist-packages (from Orange3) (1.5.1)\n",
            "Requirement already satisfied: keyring in /usr/local/lib/python3.11/dist-packages (from Orange3) (25.6.0)\n",
            "Collecting keyrings.alt (from Orange3)\n",
            "  Downloading keyrings.alt-5.0.2-py3-none-any.whl.metadata (3.6 kB)\n",
            "Requirement already satisfied: matplotlib>=3.2.0 in /usr/local/lib/python3.11/dist-packages (from Orange3) (3.10.0)\n",
            "Requirement already satisfied: networkx in /usr/local/lib/python3.11/dist-packages (from Orange3) (3.5)\n",
            "Requirement already satisfied: numpy>=1.21.0 in /usr/local/lib/python3.11/dist-packages (from Orange3) (2.0.2)\n",
            "Collecting openTSNE!=0.7.0,>=0.6.2 (from Orange3)\n",
            "  Downloading openTSNE-1.0.2-cp311-cp311-manylinux_2_17_x86_64.manylinux2014_x86_64.whl.metadata (7.8 kB)\n",
            "Requirement already satisfied: openpyxl>=3.1.3 in /usr/local/lib/python3.11/dist-packages (from Orange3) (3.1.5)\n",
            "Collecting orange-canvas-core<0.3a,>=0.2.5 (from Orange3)\n",
            "  Downloading orange_canvas_core-0.2.6-py3-none-any.whl.metadata (2.3 kB)\n",
            "Collecting orange-widget-base>=4.25.0 (from Orange3)\n",
            "  Downloading orange_widget_base-4.26.0-py3-none-any.whl.metadata (1.8 kB)\n",
            "Requirement already satisfied: packaging in /usr/local/lib/python3.11/dist-packages (from Orange3) (25.0)\n",
            "Requirement already satisfied: pandas!=1.5.0,!=2.0.0,>=1.4.0 in /usr/local/lib/python3.11/dist-packages (from Orange3) (2.2.2)\n",
            "Requirement already satisfied: pip>=19.3 in /usr/local/lib/python3.11/dist-packages (from Orange3) (24.1.2)\n",
            "Requirement already satisfied: pygments>=2.8.0 in /usr/local/lib/python3.11/dist-packages (from Orange3) (2.19.2)\n",
            "Collecting pyqtgraph>=0.13.1 (from Orange3)\n",
            "  Downloading pyqtgraph-0.13.7-py3-none-any.whl.metadata (1.3 kB)\n",
            "Requirement already satisfied: python-louvain>=0.13 in /usr/local/lib/python3.11/dist-packages (from Orange3) (0.16)\n",
            "Requirement already satisfied: pyyaml in /usr/local/lib/python3.11/dist-packages (from Orange3) (6.0.2)\n",
            "Collecting qtconsole>=4.7.2 (from Orange3)\n",
            "  Downloading qtconsole-5.6.1-py3-none-any.whl.metadata (5.0 kB)\n",
            "Requirement already satisfied: requests in /usr/local/lib/python3.11/dist-packages (from Orange3) (2.32.3)\n",
            "Requirement already satisfied: scikit-learn>=1.5.1 in /usr/local/lib/python3.11/dist-packages (from Orange3) (1.6.1)\n",
            "Requirement already satisfied: scipy>=1.9 in /usr/local/lib/python3.11/dist-packages (from Orange3) (1.16.0)\n",
            "Collecting serverfiles (from Orange3)\n",
            "  Downloading serverfiles-0.3.1.tar.gz (11 kB)\n",
            "  Preparing metadata (setup.py) ... \u001b[?25l\u001b[?25hdone\n",
            "Collecting xgboost<2.1,>=1.7.4 (from Orange3)\n",
            "  Downloading xgboost-2.0.3-py3-none-manylinux2014_x86_64.whl.metadata (2.0 kB)\n",
            "Requirement already satisfied: xlrd>=1.2.0 in /usr/local/lib/python3.11/dist-packages (from Orange3) (2.0.2)\n",
            "Collecting xlsxwriter (from Orange3)\n",
            "  Downloading xlsxwriter-3.2.5-py3-none-any.whl.metadata (2.7 kB)\n",
            "Requirement already satisfied: anyio in /usr/local/lib/python3.11/dist-packages (from httpx>=0.21.0->Orange3) (4.9.0)\n",
            "Requirement already satisfied: certifi in /usr/local/lib/python3.11/dist-packages (from httpx>=0.21.0->Orange3) (2025.7.14)\n",
            "Requirement already satisfied: httpcore==1.* in /usr/local/lib/python3.11/dist-packages (from httpx>=0.21.0->Orange3) (1.0.9)\n",
            "Requirement already satisfied: idna in /usr/local/lib/python3.11/dist-packages (from httpx>=0.21.0->Orange3) (3.10)\n",
            "Requirement already satisfied: h11>=0.16 in /usr/local/lib/python3.11/dist-packages (from httpcore==1.*->httpx>=0.21.0->Orange3) (0.16.0)\n",
            "Requirement already satisfied: contourpy>=1.0.1 in /usr/local/lib/python3.11/dist-packages (from matplotlib>=3.2.0->Orange3) (1.3.2)\n",
            "Requirement already satisfied: cycler>=0.10 in /usr/local/lib/python3.11/dist-packages (from matplotlib>=3.2.0->Orange3) (0.12.1)\n",
            "Requirement already satisfied: fonttools>=4.22.0 in /usr/local/lib/python3.11/dist-packages (from matplotlib>=3.2.0->Orange3) (4.59.0)\n",
            "Requirement already satisfied: kiwisolver>=1.3.1 in /usr/local/lib/python3.11/dist-packages (from matplotlib>=3.2.0->Orange3) (1.4.8)\n",
            "Requirement already satisfied: pillow>=8 in /usr/local/lib/python3.11/dist-packages (from matplotlib>=3.2.0->Orange3) (11.3.0)\n",
            "Requirement already satisfied: pyparsing>=2.3.1 in /usr/local/lib/python3.11/dist-packages (from matplotlib>=3.2.0->Orange3) (3.2.3)\n",
            "Requirement already satisfied: python-dateutil>=2.7 in /usr/local/lib/python3.11/dist-packages (from matplotlib>=3.2.0->Orange3) (2.9.0.post0)\n",
            "Requirement already satisfied: et-xmlfile in /usr/local/lib/python3.11/dist-packages (from openpyxl>=3.1.3->Orange3) (2.0.0)\n",
            "Requirement already satisfied: docutils in /usr/local/lib/python3.11/dist-packages (from orange-canvas-core<0.3a,>=0.2.5->Orange3) (0.21.2)\n",
            "Collecting commonmark>=0.8.1 (from orange-canvas-core<0.3a,>=0.2.5->Orange3)\n",
            "  Downloading commonmark-0.9.1-py2.py3-none-any.whl.metadata (5.7 kB)\n",
            "Collecting requests-cache (from orange-canvas-core<0.3a,>=0.2.5->Orange3)\n",
            "  Downloading requests_cache-1.2.1-py3-none-any.whl.metadata (9.9 kB)\n",
            "Collecting dictdiffer (from orange-canvas-core<0.3a,>=0.2.5->Orange3)\n",
            "  Downloading dictdiffer-0.9.0-py2.py3-none-any.whl.metadata (4.8 kB)\n",
            "Collecting qasync>=0.10.0 (from orange-canvas-core<0.3a,>=0.2.5->Orange3)\n",
            "  Downloading qasync-0.27.1-py3-none-any.whl.metadata (4.2 kB)\n",
            "Requirement already satisfied: typing_extensions in /usr/local/lib/python3.11/dist-packages (from orange-canvas-core<0.3a,>=0.2.5->Orange3) (4.14.1)\n",
            "Collecting truststore (from orange-canvas-core<0.3a,>=0.2.5->Orange3)\n",
            "  Downloading truststore-0.10.3-py3-none-any.whl.metadata (4.4 kB)\n",
            "Requirement already satisfied: pytz>=2020.1 in /usr/local/lib/python3.11/dist-packages (from pandas!=1.5.0,!=2.0.0,>=1.4.0->Orange3) (2025.2)\n",
            "Requirement already satisfied: tzdata>=2022.7 in /usr/local/lib/python3.11/dist-packages (from pandas!=1.5.0,!=2.0.0,>=1.4.0->Orange3) (2025.2)\n",
            "Requirement already satisfied: traitlets!=5.2.1,!=5.2.2 in /usr/local/lib/python3.11/dist-packages (from qtconsole>=4.7.2->Orange3) (5.7.1)\n",
            "Requirement already satisfied: jupyter-core in /usr/local/lib/python3.11/dist-packages (from qtconsole>=4.7.2->Orange3) (5.8.1)\n",
            "Requirement already satisfied: jupyter-client>=4.1 in /usr/local/lib/python3.11/dist-packages (from qtconsole>=4.7.2->Orange3) (6.1.12)\n",
            "Requirement already satisfied: ipykernel>=4.1 in /usr/local/lib/python3.11/dist-packages (from qtconsole>=4.7.2->Orange3) (6.17.1)\n",
            "Collecting qtpy>=2.4.0 (from qtconsole>=4.7.2->Orange3)\n",
            "  Downloading QtPy-2.4.3-py3-none-any.whl.metadata (12 kB)\n",
            "Requirement already satisfied: threadpoolctl>=3.1.0 in /usr/local/lib/python3.11/dist-packages (from scikit-learn>=1.5.1->Orange3) (3.6.0)\n",
            "Requirement already satisfied: SecretStorage>=3.2 in /usr/local/lib/python3.11/dist-packages (from keyring->Orange3) (3.3.3)\n",
            "Requirement already satisfied: jeepney>=0.4.2 in /usr/local/lib/python3.11/dist-packages (from keyring->Orange3) (0.9.0)\n",
            "Requirement already satisfied: importlib_metadata>=4.11.4 in /usr/local/lib/python3.11/dist-packages (from keyring->Orange3) (8.7.0)\n",
            "Requirement already satisfied: jaraco.classes in /usr/local/lib/python3.11/dist-packages (from keyring->Orange3) (3.4.0)\n",
            "Requirement already satisfied: jaraco.functools in /usr/local/lib/python3.11/dist-packages (from keyring->Orange3) (4.2.1)\n",
            "Requirement already satisfied: jaraco.context in /usr/local/lib/python3.11/dist-packages (from keyring->Orange3) (6.0.1)\n",
            "Requirement already satisfied: charset-normalizer<4,>=2 in /usr/local/lib/python3.11/dist-packages (from requests->Orange3) (3.4.2)\n",
            "Requirement already satisfied: urllib3<3,>=1.21.1 in /usr/local/lib/python3.11/dist-packages (from requests->Orange3) (2.5.0)\n",
            "Requirement already satisfied: zipp>=3.20 in /usr/local/lib/python3.11/dist-packages (from importlib_metadata>=4.11.4->keyring->Orange3) (3.23.0)\n",
            "Requirement already satisfied: debugpy>=1.0 in /usr/local/lib/python3.11/dist-packages (from ipykernel>=4.1->qtconsole>=4.7.2->Orange3) (1.8.15)\n",
            "Requirement already satisfied: ipython>=7.23.1 in /usr/local/lib/python3.11/dist-packages (from ipykernel>=4.1->qtconsole>=4.7.2->Orange3) (7.34.0)\n",
            "Requirement already satisfied: matplotlib-inline>=0.1 in /usr/local/lib/python3.11/dist-packages (from ipykernel>=4.1->qtconsole>=4.7.2->Orange3) (0.1.7)\n",
            "Requirement already satisfied: nest-asyncio in /usr/local/lib/python3.11/dist-packages (from ipykernel>=4.1->qtconsole>=4.7.2->Orange3) (1.6.0)\n",
            "Requirement already satisfied: psutil in /usr/local/lib/python3.11/dist-packages (from ipykernel>=4.1->qtconsole>=4.7.2->Orange3) (5.9.5)\n",
            "Requirement already satisfied: pyzmq>=17 in /usr/local/lib/python3.11/dist-packages (from ipykernel>=4.1->qtconsole>=4.7.2->Orange3) (26.2.1)\n",
            "Requirement already satisfied: tornado>=6.1 in /usr/local/lib/python3.11/dist-packages (from ipykernel>=4.1->qtconsole>=4.7.2->Orange3) (6.4.2)\n",
            "Requirement already satisfied: platformdirs>=2.5 in /usr/local/lib/python3.11/dist-packages (from jupyter-core->qtconsole>=4.7.2->Orange3) (4.3.8)\n",
            "Requirement already satisfied: six>=1.5 in /usr/local/lib/python3.11/dist-packages (from python-dateutil>=2.7->matplotlib>=3.2.0->Orange3) (1.17.0)\n",
            "Requirement already satisfied: cryptography>=2.0 in /usr/local/lib/python3.11/dist-packages (from SecretStorage>=3.2->keyring->Orange3) (43.0.3)\n",
            "Requirement already satisfied: sniffio>=1.1 in /usr/local/lib/python3.11/dist-packages (from anyio->httpx>=0.21.0->Orange3) (1.3.1)\n",
            "Requirement already satisfied: more-itertools in /usr/local/lib/python3.11/dist-packages (from jaraco.classes->keyring->Orange3) (10.7.0)\n",
            "Requirement already satisfied: backports.tarfile in /usr/local/lib/python3.11/dist-packages (from jaraco.context->keyring->Orange3) (1.2.0)\n",
            "Requirement already satisfied: attrs>=21.2 in /usr/local/lib/python3.11/dist-packages (from requests-cache->orange-canvas-core<0.3a,>=0.2.5->Orange3) (25.3.0)\n",
            "Collecting cattrs>=22.2 (from requests-cache->orange-canvas-core<0.3a,>=0.2.5->Orange3)\n",
            "  Downloading cattrs-25.1.1-py3-none-any.whl.metadata (8.4 kB)\n",
            "Collecting url-normalize>=1.4 (from requests-cache->orange-canvas-core<0.3a,>=0.2.5->Orange3)\n",
            "  Downloading url_normalize-2.2.1-py3-none-any.whl.metadata (5.6 kB)\n",
            "Requirement already satisfied: cffi>=1.12 in /usr/local/lib/python3.11/dist-packages (from cryptography>=2.0->SecretStorage>=3.2->keyring->Orange3) (1.17.1)\n",
            "Requirement already satisfied: setuptools>=18.5 in /usr/local/lib/python3.11/dist-packages (from ipython>=7.23.1->ipykernel>=4.1->qtconsole>=4.7.2->Orange3) (75.2.0)\n",
            "Collecting jedi>=0.16 (from ipython>=7.23.1->ipykernel>=4.1->qtconsole>=4.7.2->Orange3)\n",
            "  Downloading jedi-0.19.2-py2.py3-none-any.whl.metadata (22 kB)\n",
            "Requirement already satisfied: decorator in /usr/local/lib/python3.11/dist-packages (from ipython>=7.23.1->ipykernel>=4.1->qtconsole>=4.7.2->Orange3) (4.4.2)\n",
            "Requirement already satisfied: pickleshare in /usr/local/lib/python3.11/dist-packages (from ipython>=7.23.1->ipykernel>=4.1->qtconsole>=4.7.2->Orange3) (0.7.5)\n",
            "Requirement already satisfied: prompt-toolkit!=3.0.0,!=3.0.1,<3.1.0,>=2.0.0 in /usr/local/lib/python3.11/dist-packages (from ipython>=7.23.1->ipykernel>=4.1->qtconsole>=4.7.2->Orange3) (3.0.51)\n",
            "Requirement already satisfied: backcall in /usr/local/lib/python3.11/dist-packages (from ipython>=7.23.1->ipykernel>=4.1->qtconsole>=4.7.2->Orange3) (0.2.0)\n",
            "Requirement already satisfied: pexpect>4.3 in /usr/local/lib/python3.11/dist-packages (from ipython>=7.23.1->ipykernel>=4.1->qtconsole>=4.7.2->Orange3) (4.9.0)\n",
            "Requirement already satisfied: pycparser in /usr/local/lib/python3.11/dist-packages (from cffi>=1.12->cryptography>=2.0->SecretStorage>=3.2->keyring->Orange3) (2.22)\n",
            "Requirement already satisfied: parso<0.9.0,>=0.8.4 in /usr/local/lib/python3.11/dist-packages (from jedi>=0.16->ipython>=7.23.1->ipykernel>=4.1->qtconsole>=4.7.2->Orange3) (0.8.4)\n",
            "Requirement already satisfied: ptyprocess>=0.5 in /usr/local/lib/python3.11/dist-packages (from pexpect>4.3->ipython>=7.23.1->ipykernel>=4.1->qtconsole>=4.7.2->Orange3) (0.7.0)\n",
            "Requirement already satisfied: wcwidth in /usr/local/lib/python3.11/dist-packages (from prompt-toolkit!=3.0.0,!=3.0.1,<3.1.0,>=2.0.0->ipython>=7.23.1->ipykernel>=4.1->qtconsole>=4.7.2->Orange3) (0.2.13)\n",
            "Downloading orange3-3.39.0-cp311-cp311-manylinux_2_27_x86_64.manylinux_2_28_x86_64.whl (6.6 MB)\n",
            "\u001b[2K   \u001b[90m━━━━━━━━━━━━━━━━━━━━━━━━━━━━━━━━━━━━━━━━\u001b[0m \u001b[32m6.6/6.6 MB\u001b[0m \u001b[31m27.3 MB/s\u001b[0m eta \u001b[36m0:00:00\u001b[0m\n",
            "\u001b[?25hDownloading anyqt-0.2.1-py3-none-any.whl (56 kB)\n",
            "\u001b[2K   \u001b[90m━━━━━━━━━━━━━━━━━━━━━━━━━━━━━━━━━━━━━━━━\u001b[0m \u001b[32m56.3/56.3 kB\u001b[0m \u001b[31m4.1 MB/s\u001b[0m eta \u001b[36m0:00:00\u001b[0m\n",
            "\u001b[?25hDownloading openTSNE-1.0.2-cp311-cp311-manylinux_2_17_x86_64.manylinux2014_x86_64.whl (3.2 MB)\n",
            "\u001b[2K   \u001b[90m━━━━━━━━━━━━━━━━━━━━━━━━━━━━━━━━━━━━━━━━\u001b[0m \u001b[32m3.2/3.2 MB\u001b[0m \u001b[31m68.8 MB/s\u001b[0m eta \u001b[36m0:00:00\u001b[0m\n",
            "\u001b[?25hDownloading orange_canvas_core-0.2.6-py3-none-any.whl (535 kB)\n",
            "\u001b[2K   \u001b[90m━━━━━━━━━━━━━━━━━━━━━━━━━━━━━━━━━━━━━━━━\u001b[0m \u001b[32m535.3/535.3 kB\u001b[0m \u001b[31m24.9 MB/s\u001b[0m eta \u001b[36m0:00:00\u001b[0m\n",
            "\u001b[?25hDownloading orange_widget_base-4.26.0-py3-none-any.whl (270 kB)\n",
            "\u001b[2K   \u001b[90m━━━━━━━━━━━━━━━━━━━━━━━━━━━━━━━━━━━━━━━━\u001b[0m \u001b[32m270.3/270.3 kB\u001b[0m \u001b[31m23.4 MB/s\u001b[0m eta \u001b[36m0:00:00\u001b[0m\n",
            "\u001b[?25hDownloading pyqtgraph-0.13.7-py3-none-any.whl (1.9 MB)\n",
            "\u001b[2K   \u001b[90m━━━━━━━━━━━━━━━━━━━━━━━━━━━━━━━━━━━━━━━━\u001b[0m \u001b[32m1.9/1.9 MB\u001b[0m \u001b[31m62.7 MB/s\u001b[0m eta \u001b[36m0:00:00\u001b[0m\n",
            "\u001b[?25hDownloading qtconsole-5.6.1-py3-none-any.whl (125 kB)\n",
            "\u001b[2K   \u001b[90m━━━━━━━━━━━━━━━━━━━━━━━━━━━━━━━━━━━━━━━━\u001b[0m \u001b[32m125.0/125.0 kB\u001b[0m \u001b[31m12.5 MB/s\u001b[0m eta \u001b[36m0:00:00\u001b[0m\n",
            "\u001b[?25hDownloading xgboost-2.0.3-py3-none-manylinux2014_x86_64.whl (297.1 MB)\n",
            "\u001b[2K   \u001b[90m━━━━━━━━━━━━━━━━━━━━━━━━━━━━━━━━━━━━━━━━\u001b[0m \u001b[32m297.1/297.1 MB\u001b[0m \u001b[31m5.2 MB/s\u001b[0m eta \u001b[36m0:00:00\u001b[0m\n",
            "\u001b[?25hDownloading keyrings.alt-5.0.2-py3-none-any.whl (17 kB)\n",
            "Downloading xlsxwriter-3.2.5-py3-none-any.whl (172 kB)\n",
            "\u001b[2K   \u001b[90m━━━━━━━━━━━━━━━━━━━━━━━━━━━━━━━━━━━━━━━━\u001b[0m \u001b[32m172.3/172.3 kB\u001b[0m \u001b[31m19.0 MB/s\u001b[0m eta \u001b[36m0:00:00\u001b[0m\n",
            "\u001b[?25hDownloading commonmark-0.9.1-py2.py3-none-any.whl (51 kB)\n",
            "\u001b[2K   \u001b[90m━━━━━━━━━━━━━━━━━━━━━━━━━━━━━━━━━━━━━━━━\u001b[0m \u001b[32m51.1/51.1 kB\u001b[0m \u001b[31m5.1 MB/s\u001b[0m eta \u001b[36m0:00:00\u001b[0m\n",
            "\u001b[?25hDownloading qasync-0.27.1-py3-none-any.whl (14 kB)\n",
            "Downloading QtPy-2.4.3-py3-none-any.whl (95 kB)\n",
            "\u001b[2K   \u001b[90m━━━━━━━━━━━━━━━━━━━━━━━━━━━━━━━━━━━━━━━━\u001b[0m \u001b[32m95.0/95.0 kB\u001b[0m \u001b[31m9.9 MB/s\u001b[0m eta \u001b[36m0:00:00\u001b[0m\n",
            "\u001b[?25hDownloading dictdiffer-0.9.0-py2.py3-none-any.whl (16 kB)\n",
            "Downloading requests_cache-1.2.1-py3-none-any.whl (61 kB)\n",
            "\u001b[2K   \u001b[90m━━━━━━━━━━━━━━━━━━━━━━━━━━━━━━━━━━━━━━━━\u001b[0m \u001b[32m61.4/61.4 kB\u001b[0m \u001b[31m6.0 MB/s\u001b[0m eta \u001b[36m0:00:00\u001b[0m\n",
            "\u001b[?25hDownloading truststore-0.10.3-py3-none-any.whl (18 kB)\n",
            "Downloading cattrs-25.1.1-py3-none-any.whl (69 kB)\n",
            "\u001b[2K   \u001b[90m━━━━━━━━━━━━━━━━━━━━━━━━━━━━━━━━━━━━━━━━\u001b[0m \u001b[32m69.4/69.4 kB\u001b[0m \u001b[31m7.0 MB/s\u001b[0m eta \u001b[36m0:00:00\u001b[0m\n",
            "\u001b[?25hDownloading url_normalize-2.2.1-py3-none-any.whl (14 kB)\n",
            "Downloading jedi-0.19.2-py2.py3-none-any.whl (1.6 MB)\n",
            "\u001b[2K   \u001b[90m━━━━━━━━━━━━━━━━━━━━━━━━━━━━━━━━━━━━━━━━\u001b[0m \u001b[32m1.6/1.6 MB\u001b[0m \u001b[31m71.0 MB/s\u001b[0m eta \u001b[36m0:00:00\u001b[0m\n",
            "\u001b[?25hBuilding wheels for collected packages: baycomp, serverfiles\n",
            "  Building wheel for baycomp (setup.py) ... \u001b[?25l\u001b[?25hdone\n",
            "  Created wheel for baycomp: filename=baycomp-1.0.3-py3-none-any.whl size=18027 sha256=3350e6d838abfa6db90e75c9bcf328ed267e34e7c666d1fbd834f9818c3cb079\n",
            "  Stored in directory: /root/.cache/pip/wheels/2b/a2/b8/9c0b9ffde746a4e0c20639b46eae34dda4e0588efebde8916e\n",
            "  Building wheel for serverfiles (setup.py) ... \u001b[?25l\u001b[?25hdone\n",
            "  Created wheel for serverfiles: filename=serverfiles-0.3.1-py3-none-any.whl size=6923 sha256=347b3cf4886cd0f2879b2da19f7a909e1d4b58ffe331df9e168128f98e097f7b\n",
            "  Stored in directory: /root/.cache/pip/wheels/10/fe/96/2239afdbcabbbd85b1836ef431e6ce960f1bc84d7ff0520f5b\n",
            "Successfully built baycomp serverfiles\n",
            "Installing collected packages: dictdiffer, commonmark, xlsxwriter, url-normalize, truststore, qtpy, qasync, pyqtgraph, jedi, cattrs, AnyQt, xgboost, serverfiles, requests-cache, keyrings.alt, orange-canvas-core, openTSNE, baycomp, qtconsole, orange-widget-base, Orange3\n",
            "  Attempting uninstall: xgboost\n",
            "    Found existing installation: xgboost 3.0.2\n",
            "    Uninstalling xgboost-3.0.2:\n",
            "      Successfully uninstalled xgboost-3.0.2\n",
            "Successfully installed AnyQt-0.2.1 Orange3-3.39.0 baycomp-1.0.3 cattrs-25.1.1 commonmark-0.9.1 dictdiffer-0.9.0 jedi-0.19.2 keyrings.alt-5.0.2 openTSNE-1.0.2 orange-canvas-core-0.2.6 orange-widget-base-4.26.0 pyqtgraph-0.13.7 qasync-0.27.1 qtconsole-5.6.1 qtpy-2.4.3 requests-cache-1.2.1 serverfiles-0.3.1 truststore-0.10.3 url-normalize-2.2.1 xgboost-2.0.3 xlsxwriter-3.2.5\n"
          ]
        }
      ],
      "source": [
        "!pip install Orange3"
      ]
    },
    {
      "cell_type": "code",
      "source": [
        "import Orange\n",
        "Orange.__version__"
      ],
      "metadata": {
        "id": "-xpDBqfOqeYT",
        "colab": {
          "base_uri": "https://localhost:8080/",
          "height": 35
        },
        "outputId": "07b6c444-1fb6-4c8e-9282-fba689b4b9b6"
      },
      "execution_count": 2,
      "outputs": [
        {
          "output_type": "execute_result",
          "data": {
            "text/plain": [
              "'3.39.0'"
            ],
            "application/vnd.google.colaboratory.intrinsic+json": {
              "type": "string"
            }
          },
          "metadata": {},
          "execution_count": 2
        }
      ]
    },
    {
      "cell_type": "markdown",
      "metadata": {
        "id": "e1TOzrpdTD49"
      },
      "source": [
        "---\n",
        "\n",
        "Reconecte ao Drive."
      ]
    },
    {
      "cell_type": "code",
      "execution_count": 3,
      "metadata": {
        "id": "60gkOY_gTDjz",
        "colab": {
          "base_uri": "https://localhost:8080/"
        },
        "outputId": "232de485-4fad-4e08-833c-8ef8cfc19525"
      },
      "outputs": [
        {
          "output_type": "stream",
          "name": "stdout",
          "text": [
            "Mounted at /content/drive\n"
          ]
        }
      ],
      "source": [
        "from google.colab import drive\n",
        "drive.mount('/content/drive')"
      ]
    },
    {
      "cell_type": "code",
      "execution_count": 4,
      "metadata": {
        "id": "TW1LzILHTfAO"
      },
      "outputs": [],
      "source": [
        "import os\n",
        "DRIVE_DIRECTORY = \"curso_ml\"\n",
        "DRIVE_DIRECTORY = os.path.join(\"/content/drive/MyDrive/cursoML\", DRIVE_DIRECTORY)"
      ]
    },
    {
      "cell_type": "markdown",
      "source": [
        "---"
      ],
      "metadata": {
        "id": "SqoVMD-4bZgM"
      }
    },
    {
      "cell_type": "code",
      "source": [
        "import pickle\n",
        "\n",
        "from collections import Counter\n",
        "\n",
        "import pandas as pd\n",
        "import seaborn as sns\n",
        "\n",
        "from sklearn.metrics import accuracy_score, confusion_matrix, classification_report"
      ],
      "metadata": {
        "id": "spkZy56tIjFh"
      },
      "execution_count": 13,
      "outputs": []
    },
    {
      "cell_type": "markdown",
      "source": [
        "# Regras"
      ],
      "metadata": {
        "id": "vJH9YCkYbsTx"
      }
    },
    {
      "cell_type": "markdown",
      "source": [
        "Para gerar regras, nós precisamos começar com o arquivo com os dados originais, `cov_types.csv`, que deve estar salvo na sua pasta do Drive.\n",
        "\n",
        "Primeiro recarregue esse arquivo com o Pandas."
      ],
      "metadata": {
        "id": "s6TKZJLVebmi"
      }
    },
    {
      "cell_type": "code",
      "execution_count": 14,
      "metadata": {
        "id": "aNgJo6OUaxO2",
        "colab": {
          "base_uri": "https://localhost:8080/",
          "height": 600
        },
        "outputId": "39ec6d76-3a15-4494-a0e6-0e04fcc2db2e"
      },
      "outputs": [
        {
          "output_type": "execute_result",
          "data": {
            "text/plain": [
              "      Elevation  Aspect  Slope  Horizontal_Distance_To_Hydrology  \\\n",
              "0        2767.0    66.0   17.0                             210.0   \n",
              "1        2724.0   160.0   19.0                              60.0   \n",
              "2        2360.0    65.0    7.0                             127.0   \n",
              "3        2995.0    45.0    4.0                             285.0   \n",
              "4        2400.0   106.0   27.0                             150.0   \n",
              "...         ...     ...    ...                               ...   \n",
              "9995     2917.0    90.0    9.0                             247.0   \n",
              "9996     3015.0    38.0    8.0                             361.0   \n",
              "9997     3052.0    79.0   19.0                              90.0   \n",
              "9998     2958.0    58.0    6.0                             319.0   \n",
              "9999     2682.0    91.0   13.0                             162.0   \n",
              "\n",
              "      Vertical_Distance_To_Hydrology  Horizontal_Distance_To_Roadways  \\\n",
              "0                               18.0                           1190.0   \n",
              "1                                4.0                           1350.0   \n",
              "2                               21.0                           1377.0   \n",
              "3                               30.0                           5125.0   \n",
              "4                               63.0                            342.0   \n",
              "...                              ...                              ...   \n",
              "9995                            25.0                           4095.0   \n",
              "9996                            74.0                           4846.0   \n",
              "9997                            11.0                           1003.0   \n",
              "9998                            19.0                           2468.0   \n",
              "9999                            32.0                           1369.0   \n",
              "\n",
              "      Hillshade_9am  Hillshade_Noon  Hillshade_3pm  \\\n",
              "0             234.0           204.0           96.0   \n",
              "1             236.0           240.0          127.0   \n",
              "2             227.0           226.0          134.0   \n",
              "3             221.0           231.0          146.0   \n",
              "4             253.0           196.0           51.0   \n",
              "...             ...             ...            ...   \n",
              "9995          235.0           225.0          121.0   \n",
              "9996          220.0           223.0          138.0   \n",
              "9997          241.0           203.0           85.0   \n",
              "9998          225.0           227.0          137.0   \n",
              "9999          240.0           219.0          108.0   \n",
              "\n",
              "      Horizontal_Distance_To_Fire_Points  Wilderness_Area  Soil_Type  \\\n",
              "0                                 2251.0                2         30   \n",
              "1                                 2514.0                2         16   \n",
              "2                                  339.0                3          5   \n",
              "3                                 5706.0                0         11   \n",
              "4                                  811.0                2          3   \n",
              "...                                  ...              ...        ...   \n",
              "9995                              3901.0                0         28   \n",
              "9996                              1611.0                0         28   \n",
              "9997                              1490.0                2         22   \n",
              "9998                              2280.0                0         28   \n",
              "9999                              1661.0                2         10   \n",
              "\n",
              "          Cover_Type  \n",
              "0     Lodgepole Pine  \n",
              "1     Lodgepole Pine  \n",
              "2     Ponderosa Pine  \n",
              "3     Lodgepole Pine  \n",
              "4     Ponderosa Pine  \n",
              "...              ...  \n",
              "9995  Lodgepole Pine  \n",
              "9996  Lodgepole Pine  \n",
              "9997      Spruce/Fir  \n",
              "9998  Lodgepole Pine  \n",
              "9999  Lodgepole Pine  \n",
              "\n",
              "[10000 rows x 13 columns]"
            ],
            "text/html": [
              "\n",
              "  <div id=\"df-b26a808f-12f1-4844-81f2-3a45ddc97f03\" class=\"colab-df-container\">\n",
              "    <div>\n",
              "<style scoped>\n",
              "    .dataframe tbody tr th:only-of-type {\n",
              "        vertical-align: middle;\n",
              "    }\n",
              "\n",
              "    .dataframe tbody tr th {\n",
              "        vertical-align: top;\n",
              "    }\n",
              "\n",
              "    .dataframe thead th {\n",
              "        text-align: right;\n",
              "    }\n",
              "</style>\n",
              "<table border=\"1\" class=\"dataframe\">\n",
              "  <thead>\n",
              "    <tr style=\"text-align: right;\">\n",
              "      <th></th>\n",
              "      <th>Elevation</th>\n",
              "      <th>Aspect</th>\n",
              "      <th>Slope</th>\n",
              "      <th>Horizontal_Distance_To_Hydrology</th>\n",
              "      <th>Vertical_Distance_To_Hydrology</th>\n",
              "      <th>Horizontal_Distance_To_Roadways</th>\n",
              "      <th>Hillshade_9am</th>\n",
              "      <th>Hillshade_Noon</th>\n",
              "      <th>Hillshade_3pm</th>\n",
              "      <th>Horizontal_Distance_To_Fire_Points</th>\n",
              "      <th>Wilderness_Area</th>\n",
              "      <th>Soil_Type</th>\n",
              "      <th>Cover_Type</th>\n",
              "    </tr>\n",
              "  </thead>\n",
              "  <tbody>\n",
              "    <tr>\n",
              "      <th>0</th>\n",
              "      <td>2767.0</td>\n",
              "      <td>66.0</td>\n",
              "      <td>17.0</td>\n",
              "      <td>210.0</td>\n",
              "      <td>18.0</td>\n",
              "      <td>1190.0</td>\n",
              "      <td>234.0</td>\n",
              "      <td>204.0</td>\n",
              "      <td>96.0</td>\n",
              "      <td>2251.0</td>\n",
              "      <td>2</td>\n",
              "      <td>30</td>\n",
              "      <td>Lodgepole Pine</td>\n",
              "    </tr>\n",
              "    <tr>\n",
              "      <th>1</th>\n",
              "      <td>2724.0</td>\n",
              "      <td>160.0</td>\n",
              "      <td>19.0</td>\n",
              "      <td>60.0</td>\n",
              "      <td>4.0</td>\n",
              "      <td>1350.0</td>\n",
              "      <td>236.0</td>\n",
              "      <td>240.0</td>\n",
              "      <td>127.0</td>\n",
              "      <td>2514.0</td>\n",
              "      <td>2</td>\n",
              "      <td>16</td>\n",
              "      <td>Lodgepole Pine</td>\n",
              "    </tr>\n",
              "    <tr>\n",
              "      <th>2</th>\n",
              "      <td>2360.0</td>\n",
              "      <td>65.0</td>\n",
              "      <td>7.0</td>\n",
              "      <td>127.0</td>\n",
              "      <td>21.0</td>\n",
              "      <td>1377.0</td>\n",
              "      <td>227.0</td>\n",
              "      <td>226.0</td>\n",
              "      <td>134.0</td>\n",
              "      <td>339.0</td>\n",
              "      <td>3</td>\n",
              "      <td>5</td>\n",
              "      <td>Ponderosa Pine</td>\n",
              "    </tr>\n",
              "    <tr>\n",
              "      <th>3</th>\n",
              "      <td>2995.0</td>\n",
              "      <td>45.0</td>\n",
              "      <td>4.0</td>\n",
              "      <td>285.0</td>\n",
              "      <td>30.0</td>\n",
              "      <td>5125.0</td>\n",
              "      <td>221.0</td>\n",
              "      <td>231.0</td>\n",
              "      <td>146.0</td>\n",
              "      <td>5706.0</td>\n",
              "      <td>0</td>\n",
              "      <td>11</td>\n",
              "      <td>Lodgepole Pine</td>\n",
              "    </tr>\n",
              "    <tr>\n",
              "      <th>4</th>\n",
              "      <td>2400.0</td>\n",
              "      <td>106.0</td>\n",
              "      <td>27.0</td>\n",
              "      <td>150.0</td>\n",
              "      <td>63.0</td>\n",
              "      <td>342.0</td>\n",
              "      <td>253.0</td>\n",
              "      <td>196.0</td>\n",
              "      <td>51.0</td>\n",
              "      <td>811.0</td>\n",
              "      <td>2</td>\n",
              "      <td>3</td>\n",
              "      <td>Ponderosa Pine</td>\n",
              "    </tr>\n",
              "    <tr>\n",
              "      <th>...</th>\n",
              "      <td>...</td>\n",
              "      <td>...</td>\n",
              "      <td>...</td>\n",
              "      <td>...</td>\n",
              "      <td>...</td>\n",
              "      <td>...</td>\n",
              "      <td>...</td>\n",
              "      <td>...</td>\n",
              "      <td>...</td>\n",
              "      <td>...</td>\n",
              "      <td>...</td>\n",
              "      <td>...</td>\n",
              "      <td>...</td>\n",
              "    </tr>\n",
              "    <tr>\n",
              "      <th>9995</th>\n",
              "      <td>2917.0</td>\n",
              "      <td>90.0</td>\n",
              "      <td>9.0</td>\n",
              "      <td>247.0</td>\n",
              "      <td>25.0</td>\n",
              "      <td>4095.0</td>\n",
              "      <td>235.0</td>\n",
              "      <td>225.0</td>\n",
              "      <td>121.0</td>\n",
              "      <td>3901.0</td>\n",
              "      <td>0</td>\n",
              "      <td>28</td>\n",
              "      <td>Lodgepole Pine</td>\n",
              "    </tr>\n",
              "    <tr>\n",
              "      <th>9996</th>\n",
              "      <td>3015.0</td>\n",
              "      <td>38.0</td>\n",
              "      <td>8.0</td>\n",
              "      <td>361.0</td>\n",
              "      <td>74.0</td>\n",
              "      <td>4846.0</td>\n",
              "      <td>220.0</td>\n",
              "      <td>223.0</td>\n",
              "      <td>138.0</td>\n",
              "      <td>1611.0</td>\n",
              "      <td>0</td>\n",
              "      <td>28</td>\n",
              "      <td>Lodgepole Pine</td>\n",
              "    </tr>\n",
              "    <tr>\n",
              "      <th>9997</th>\n",
              "      <td>3052.0</td>\n",
              "      <td>79.0</td>\n",
              "      <td>19.0</td>\n",
              "      <td>90.0</td>\n",
              "      <td>11.0</td>\n",
              "      <td>1003.0</td>\n",
              "      <td>241.0</td>\n",
              "      <td>203.0</td>\n",
              "      <td>85.0</td>\n",
              "      <td>1490.0</td>\n",
              "      <td>2</td>\n",
              "      <td>22</td>\n",
              "      <td>Spruce/Fir</td>\n",
              "    </tr>\n",
              "    <tr>\n",
              "      <th>9998</th>\n",
              "      <td>2958.0</td>\n",
              "      <td>58.0</td>\n",
              "      <td>6.0</td>\n",
              "      <td>319.0</td>\n",
              "      <td>19.0</td>\n",
              "      <td>2468.0</td>\n",
              "      <td>225.0</td>\n",
              "      <td>227.0</td>\n",
              "      <td>137.0</td>\n",
              "      <td>2280.0</td>\n",
              "      <td>0</td>\n",
              "      <td>28</td>\n",
              "      <td>Lodgepole Pine</td>\n",
              "    </tr>\n",
              "    <tr>\n",
              "      <th>9999</th>\n",
              "      <td>2682.0</td>\n",
              "      <td>91.0</td>\n",
              "      <td>13.0</td>\n",
              "      <td>162.0</td>\n",
              "      <td>32.0</td>\n",
              "      <td>1369.0</td>\n",
              "      <td>240.0</td>\n",
              "      <td>219.0</td>\n",
              "      <td>108.0</td>\n",
              "      <td>1661.0</td>\n",
              "      <td>2</td>\n",
              "      <td>10</td>\n",
              "      <td>Lodgepole Pine</td>\n",
              "    </tr>\n",
              "  </tbody>\n",
              "</table>\n",
              "<p>10000 rows × 13 columns</p>\n",
              "</div>\n",
              "    <div class=\"colab-df-buttons\">\n",
              "\n",
              "  <div class=\"colab-df-container\">\n",
              "    <button class=\"colab-df-convert\" onclick=\"convertToInteractive('df-b26a808f-12f1-4844-81f2-3a45ddc97f03')\"\n",
              "            title=\"Convert this dataframe to an interactive table.\"\n",
              "            style=\"display:none;\">\n",
              "\n",
              "  <svg xmlns=\"http://www.w3.org/2000/svg\" height=\"24px\" viewBox=\"0 -960 960 960\">\n",
              "    <path d=\"M120-120v-720h720v720H120Zm60-500h600v-160H180v160Zm220 220h160v-160H400v160Zm0 220h160v-160H400v160ZM180-400h160v-160H180v160Zm440 0h160v-160H620v160ZM180-180h160v-160H180v160Zm440 0h160v-160H620v160Z\"/>\n",
              "  </svg>\n",
              "    </button>\n",
              "\n",
              "  <style>\n",
              "    .colab-df-container {\n",
              "      display:flex;\n",
              "      gap: 12px;\n",
              "    }\n",
              "\n",
              "    .colab-df-convert {\n",
              "      background-color: #E8F0FE;\n",
              "      border: none;\n",
              "      border-radius: 50%;\n",
              "      cursor: pointer;\n",
              "      display: none;\n",
              "      fill: #1967D2;\n",
              "      height: 32px;\n",
              "      padding: 0 0 0 0;\n",
              "      width: 32px;\n",
              "    }\n",
              "\n",
              "    .colab-df-convert:hover {\n",
              "      background-color: #E2EBFA;\n",
              "      box-shadow: 0px 1px 2px rgba(60, 64, 67, 0.3), 0px 1px 3px 1px rgba(60, 64, 67, 0.15);\n",
              "      fill: #174EA6;\n",
              "    }\n",
              "\n",
              "    .colab-df-buttons div {\n",
              "      margin-bottom: 4px;\n",
              "    }\n",
              "\n",
              "    [theme=dark] .colab-df-convert {\n",
              "      background-color: #3B4455;\n",
              "      fill: #D2E3FC;\n",
              "    }\n",
              "\n",
              "    [theme=dark] .colab-df-convert:hover {\n",
              "      background-color: #434B5C;\n",
              "      box-shadow: 0px 1px 3px 1px rgba(0, 0, 0, 0.15);\n",
              "      filter: drop-shadow(0px 1px 2px rgba(0, 0, 0, 0.3));\n",
              "      fill: #FFFFFF;\n",
              "    }\n",
              "  </style>\n",
              "\n",
              "    <script>\n",
              "      const buttonEl =\n",
              "        document.querySelector('#df-b26a808f-12f1-4844-81f2-3a45ddc97f03 button.colab-df-convert');\n",
              "      buttonEl.style.display =\n",
              "        google.colab.kernel.accessAllowed ? 'block' : 'none';\n",
              "\n",
              "      async function convertToInteractive(key) {\n",
              "        const element = document.querySelector('#df-b26a808f-12f1-4844-81f2-3a45ddc97f03');\n",
              "        const dataTable =\n",
              "          await google.colab.kernel.invokeFunction('convertToInteractive',\n",
              "                                                    [key], {});\n",
              "        if (!dataTable) return;\n",
              "\n",
              "        const docLinkHtml = 'Like what you see? Visit the ' +\n",
              "          '<a target=\"_blank\" href=https://colab.research.google.com/notebooks/data_table.ipynb>data table notebook</a>'\n",
              "          + ' to learn more about interactive tables.';\n",
              "        element.innerHTML = '';\n",
              "        dataTable['output_type'] = 'display_data';\n",
              "        await google.colab.output.renderOutput(dataTable, element);\n",
              "        const docLink = document.createElement('div');\n",
              "        docLink.innerHTML = docLinkHtml;\n",
              "        element.appendChild(docLink);\n",
              "      }\n",
              "    </script>\n",
              "  </div>\n",
              "\n",
              "\n",
              "    <div id=\"df-59f3d5ea-fbbf-4e5b-8785-2ae955de08e9\">\n",
              "      <button class=\"colab-df-quickchart\" onclick=\"quickchart('df-59f3d5ea-fbbf-4e5b-8785-2ae955de08e9')\"\n",
              "                title=\"Suggest charts\"\n",
              "                style=\"display:none;\">\n",
              "\n",
              "<svg xmlns=\"http://www.w3.org/2000/svg\" height=\"24px\"viewBox=\"0 0 24 24\"\n",
              "     width=\"24px\">\n",
              "    <g>\n",
              "        <path d=\"M19 3H5c-1.1 0-2 .9-2 2v14c0 1.1.9 2 2 2h14c1.1 0 2-.9 2-2V5c0-1.1-.9-2-2-2zM9 17H7v-7h2v7zm4 0h-2V7h2v10zm4 0h-2v-4h2v4z\"/>\n",
              "    </g>\n",
              "</svg>\n",
              "      </button>\n",
              "\n",
              "<style>\n",
              "  .colab-df-quickchart {\n",
              "      --bg-color: #E8F0FE;\n",
              "      --fill-color: #1967D2;\n",
              "      --hover-bg-color: #E2EBFA;\n",
              "      --hover-fill-color: #174EA6;\n",
              "      --disabled-fill-color: #AAA;\n",
              "      --disabled-bg-color: #DDD;\n",
              "  }\n",
              "\n",
              "  [theme=dark] .colab-df-quickchart {\n",
              "      --bg-color: #3B4455;\n",
              "      --fill-color: #D2E3FC;\n",
              "      --hover-bg-color: #434B5C;\n",
              "      --hover-fill-color: #FFFFFF;\n",
              "      --disabled-bg-color: #3B4455;\n",
              "      --disabled-fill-color: #666;\n",
              "  }\n",
              "\n",
              "  .colab-df-quickchart {\n",
              "    background-color: var(--bg-color);\n",
              "    border: none;\n",
              "    border-radius: 50%;\n",
              "    cursor: pointer;\n",
              "    display: none;\n",
              "    fill: var(--fill-color);\n",
              "    height: 32px;\n",
              "    padding: 0;\n",
              "    width: 32px;\n",
              "  }\n",
              "\n",
              "  .colab-df-quickchart:hover {\n",
              "    background-color: var(--hover-bg-color);\n",
              "    box-shadow: 0 1px 2px rgba(60, 64, 67, 0.3), 0 1px 3px 1px rgba(60, 64, 67, 0.15);\n",
              "    fill: var(--button-hover-fill-color);\n",
              "  }\n",
              "\n",
              "  .colab-df-quickchart-complete:disabled,\n",
              "  .colab-df-quickchart-complete:disabled:hover {\n",
              "    background-color: var(--disabled-bg-color);\n",
              "    fill: var(--disabled-fill-color);\n",
              "    box-shadow: none;\n",
              "  }\n",
              "\n",
              "  .colab-df-spinner {\n",
              "    border: 2px solid var(--fill-color);\n",
              "    border-color: transparent;\n",
              "    border-bottom-color: var(--fill-color);\n",
              "    animation:\n",
              "      spin 1s steps(1) infinite;\n",
              "  }\n",
              "\n",
              "  @keyframes spin {\n",
              "    0% {\n",
              "      border-color: transparent;\n",
              "      border-bottom-color: var(--fill-color);\n",
              "      border-left-color: var(--fill-color);\n",
              "    }\n",
              "    20% {\n",
              "      border-color: transparent;\n",
              "      border-left-color: var(--fill-color);\n",
              "      border-top-color: var(--fill-color);\n",
              "    }\n",
              "    30% {\n",
              "      border-color: transparent;\n",
              "      border-left-color: var(--fill-color);\n",
              "      border-top-color: var(--fill-color);\n",
              "      border-right-color: var(--fill-color);\n",
              "    }\n",
              "    40% {\n",
              "      border-color: transparent;\n",
              "      border-right-color: var(--fill-color);\n",
              "      border-top-color: var(--fill-color);\n",
              "    }\n",
              "    60% {\n",
              "      border-color: transparent;\n",
              "      border-right-color: var(--fill-color);\n",
              "    }\n",
              "    80% {\n",
              "      border-color: transparent;\n",
              "      border-right-color: var(--fill-color);\n",
              "      border-bottom-color: var(--fill-color);\n",
              "    }\n",
              "    90% {\n",
              "      border-color: transparent;\n",
              "      border-bottom-color: var(--fill-color);\n",
              "    }\n",
              "  }\n",
              "</style>\n",
              "\n",
              "      <script>\n",
              "        async function quickchart(key) {\n",
              "          const quickchartButtonEl =\n",
              "            document.querySelector('#' + key + ' button');\n",
              "          quickchartButtonEl.disabled = true;  // To prevent multiple clicks.\n",
              "          quickchartButtonEl.classList.add('colab-df-spinner');\n",
              "          try {\n",
              "            const charts = await google.colab.kernel.invokeFunction(\n",
              "                'suggestCharts', [key], {});\n",
              "          } catch (error) {\n",
              "            console.error('Error during call to suggestCharts:', error);\n",
              "          }\n",
              "          quickchartButtonEl.classList.remove('colab-df-spinner');\n",
              "          quickchartButtonEl.classList.add('colab-df-quickchart-complete');\n",
              "        }\n",
              "        (() => {\n",
              "          let quickchartButtonEl =\n",
              "            document.querySelector('#df-59f3d5ea-fbbf-4e5b-8785-2ae955de08e9 button');\n",
              "          quickchartButtonEl.style.display =\n",
              "            google.colab.kernel.accessAllowed ? 'block' : 'none';\n",
              "        })();\n",
              "      </script>\n",
              "    </div>\n",
              "\n",
              "  <div id=\"id_fe9afe77-83bb-4d7b-ac07-377f24f1f3ab\">\n",
              "    <style>\n",
              "      .colab-df-generate {\n",
              "        background-color: #E8F0FE;\n",
              "        border: none;\n",
              "        border-radius: 50%;\n",
              "        cursor: pointer;\n",
              "        display: none;\n",
              "        fill: #1967D2;\n",
              "        height: 32px;\n",
              "        padding: 0 0 0 0;\n",
              "        width: 32px;\n",
              "      }\n",
              "\n",
              "      .colab-df-generate:hover {\n",
              "        background-color: #E2EBFA;\n",
              "        box-shadow: 0px 1px 2px rgba(60, 64, 67, 0.3), 0px 1px 3px 1px rgba(60, 64, 67, 0.15);\n",
              "        fill: #174EA6;\n",
              "      }\n",
              "\n",
              "      [theme=dark] .colab-df-generate {\n",
              "        background-color: #3B4455;\n",
              "        fill: #D2E3FC;\n",
              "      }\n",
              "\n",
              "      [theme=dark] .colab-df-generate:hover {\n",
              "        background-color: #434B5C;\n",
              "        box-shadow: 0px 1px 3px 1px rgba(0, 0, 0, 0.15);\n",
              "        filter: drop-shadow(0px 1px 2px rgba(0, 0, 0, 0.3));\n",
              "        fill: #FFFFFF;\n",
              "      }\n",
              "    </style>\n",
              "    <button class=\"colab-df-generate\" onclick=\"generateWithVariable('base')\"\n",
              "            title=\"Generate code using this dataframe.\"\n",
              "            style=\"display:none;\">\n",
              "\n",
              "  <svg xmlns=\"http://www.w3.org/2000/svg\" height=\"24px\"viewBox=\"0 0 24 24\"\n",
              "       width=\"24px\">\n",
              "    <path d=\"M7,19H8.4L18.45,9,17,7.55,7,17.6ZM5,21V16.75L18.45,3.32a2,2,0,0,1,2.83,0l1.4,1.43a1.91,1.91,0,0,1,.58,1.4,1.91,1.91,0,0,1-.58,1.4L9.25,21ZM18.45,9,17,7.55Zm-12,3A5.31,5.31,0,0,0,4.9,8.1,5.31,5.31,0,0,0,1,6.5,5.31,5.31,0,0,0,4.9,4.9,5.31,5.31,0,0,0,6.5,1,5.31,5.31,0,0,0,8.1,4.9,5.31,5.31,0,0,0,12,6.5,5.46,5.46,0,0,0,6.5,12Z\"/>\n",
              "  </svg>\n",
              "    </button>\n",
              "    <script>\n",
              "      (() => {\n",
              "      const buttonEl =\n",
              "        document.querySelector('#id_fe9afe77-83bb-4d7b-ac07-377f24f1f3ab button.colab-df-generate');\n",
              "      buttonEl.style.display =\n",
              "        google.colab.kernel.accessAllowed ? 'block' : 'none';\n",
              "\n",
              "      buttonEl.onclick = () => {\n",
              "        google.colab.notebook.generateWithVariable('base');\n",
              "      }\n",
              "      })();\n",
              "    </script>\n",
              "  </div>\n",
              "\n",
              "    </div>\n",
              "  </div>\n"
            ],
            "application/vnd.google.colaboratory.intrinsic+json": {
              "type": "dataframe",
              "variable_name": "base",
              "summary": "{\n  \"name\": \"base\",\n  \"rows\": 10000,\n  \"fields\": [\n    {\n      \"column\": \"Elevation\",\n      \"properties\": {\n        \"dtype\": \"number\",\n        \"std\": 278.877757104042,\n        \"min\": 1893.0,\n        \"max\": 3845.0,\n        \"num_unique_values\": 1377,\n        \"samples\": [\n          3001.0,\n          2973.0,\n          2777.0\n        ],\n        \"semantic_type\": \"\",\n        \"description\": \"\"\n      }\n    },\n    {\n      \"column\": \"Aspect\",\n      \"properties\": {\n        \"dtype\": \"number\",\n        \"std\": 111.31309114576773,\n        \"min\": 0.0,\n        \"max\": 360.0,\n        \"num_unique_values\": 361,\n        \"samples\": [\n          184.0,\n          153.0,\n          148.0\n        ],\n        \"semantic_type\": \"\",\n        \"description\": \"\"\n      }\n    },\n    {\n      \"column\": \"Slope\",\n      \"properties\": {\n        \"dtype\": \"number\",\n        \"std\": 7.467714115806259,\n        \"min\": 0.0,\n        \"max\": 55.0,\n        \"num_unique_values\": 49,\n        \"samples\": [\n          12.0,\n          48.0,\n          40.0\n        ],\n        \"semantic_type\": \"\",\n        \"description\": \"\"\n      }\n    },\n    {\n      \"column\": \"Horizontal_Distance_To_Hydrology\",\n      \"properties\": {\n        \"dtype\": \"number\",\n        \"std\": 211.48143348367645,\n        \"min\": 0.0,\n        \"max\": 1376.0,\n        \"num_unique_values\": 347,\n        \"samples\": [\n          1060.0,\n          592.0,\n          837.0\n        ],\n        \"semantic_type\": \"\",\n        \"description\": \"\"\n      }\n    },\n    {\n      \"column\": \"Vertical_Distance_To_Hydrology\",\n      \"properties\": {\n        \"dtype\": \"number\",\n        \"std\": 58.188251762914646,\n        \"min\": -132.0,\n        \"max\": 573.0,\n        \"num_unique_values\": 404,\n        \"samples\": [\n          57.0,\n          136.0,\n          332.0\n        ],\n        \"semantic_type\": \"\",\n        \"description\": \"\"\n      }\n    },\n    {\n      \"column\": \"Horizontal_Distance_To_Roadways\",\n      \"properties\": {\n        \"dtype\": \"number\",\n        \"std\": 1564.0313880908689,\n        \"min\": 0.0,\n        \"max\": 6926.0,\n        \"num_unique_values\": 3482,\n        \"samples\": [\n          1104.0,\n          4045.0,\n          5095.0\n        ],\n        \"semantic_type\": \"\",\n        \"description\": \"\"\n      }\n    },\n    {\n      \"column\": \"Hillshade_9am\",\n      \"properties\": {\n        \"dtype\": \"number\",\n        \"std\": 26.642596921228876,\n        \"min\": 60.0,\n        \"max\": 254.0,\n        \"num_unique_values\": 166,\n        \"samples\": [\n          102.0,\n          144.0,\n          139.0\n        ],\n        \"semantic_type\": \"\",\n        \"description\": \"\"\n      }\n    },\n    {\n      \"column\": \"Hillshade_Noon\",\n      \"properties\": {\n        \"dtype\": \"number\",\n        \"std\": 19.851419160207993,\n        \"min\": 104.0,\n        \"max\": 254.0,\n        \"num_unique_values\": 130,\n        \"samples\": [\n          214.0,\n          153.0,\n          174.0\n        ],\n        \"semantic_type\": \"\",\n        \"description\": \"\"\n      }\n    },\n    {\n      \"column\": \"Hillshade_3pm\",\n      \"properties\": {\n        \"dtype\": \"number\",\n        \"std\": 38.45897903411948,\n        \"min\": 0.0,\n        \"max\": 250.0,\n        \"num_unique_values\": 237,\n        \"samples\": [\n          193.0,\n          139.0,\n          233.0\n        ],\n        \"semantic_type\": \"\",\n        \"description\": \"\"\n      }\n    },\n    {\n      \"column\": \"Horizontal_Distance_To_Fire_Points\",\n      \"properties\": {\n        \"dtype\": \"number\",\n        \"std\": 1324.58853240184,\n        \"min\": 0.0,\n        \"max\": 7150.0,\n        \"num_unique_values\": 2966,\n        \"samples\": [\n          2555.0,\n          2353.0,\n          3621.0\n        ],\n        \"semantic_type\": \"\",\n        \"description\": \"\"\n      }\n    },\n    {\n      \"column\": \"Wilderness_Area\",\n      \"properties\": {\n        \"dtype\": \"number\",\n        \"std\": 1,\n        \"min\": 0,\n        \"max\": 3,\n        \"num_unique_values\": 4,\n        \"samples\": [\n          3,\n          1,\n          2\n        ],\n        \"semantic_type\": \"\",\n        \"description\": \"\"\n      }\n    },\n    {\n      \"column\": \"Soil_Type\",\n      \"properties\": {\n        \"dtype\": \"number\",\n        \"std\": 9,\n        \"min\": 0,\n        \"max\": 39,\n        \"num_unique_values\": 39,\n        \"samples\": [\n          15,\n          24,\n          3\n        ],\n        \"semantic_type\": \"\",\n        \"description\": \"\"\n      }\n    },\n    {\n      \"column\": \"Cover_Type\",\n      \"properties\": {\n        \"dtype\": \"category\",\n        \"num_unique_values\": 7,\n        \"samples\": [\n          \"Lodgepole Pine\",\n          \"Ponderosa Pine\",\n          \"Krummholz\"\n        ],\n        \"semantic_type\": \"\",\n        \"description\": \"\"\n      }\n    }\n  ]\n}"
            }
          },
          "metadata": {},
          "execution_count": 14
        }
      ],
      "source": [
        "base = pd.read_csv(os.path.join(DRIVE_DIRECTORY, \"cov_types.csv\"))\n",
        "base"
      ]
    },
    {
      "cell_type": "markdown",
      "source": [
        "Agora, lembre-se que a coluna com a classe deve ser indicada pelo prefixo `c#`. Então, vamos renomear a coluna `Cover_Type` para ficar neste formato."
      ],
      "metadata": {
        "id": "1PL0DwiOttTQ"
      }
    },
    {
      "cell_type": "code",
      "source": [
        "base.rename(columns={\"Cover_Type\": \"c#Cover_Type\"}, inplace=True)\n",
        "base"
      ],
      "metadata": {
        "id": "uTYc-Ke8tM1H",
        "colab": {
          "base_uri": "https://localhost:8080/",
          "height": 600
        },
        "outputId": "3d7f975f-1bd2-4724-cca9-c26b24819394"
      },
      "execution_count": 15,
      "outputs": [
        {
          "output_type": "execute_result",
          "data": {
            "text/plain": [
              "      Elevation  Aspect  Slope  Horizontal_Distance_To_Hydrology  \\\n",
              "0        2767.0    66.0   17.0                             210.0   \n",
              "1        2724.0   160.0   19.0                              60.0   \n",
              "2        2360.0    65.0    7.0                             127.0   \n",
              "3        2995.0    45.0    4.0                             285.0   \n",
              "4        2400.0   106.0   27.0                             150.0   \n",
              "...         ...     ...    ...                               ...   \n",
              "9995     2917.0    90.0    9.0                             247.0   \n",
              "9996     3015.0    38.0    8.0                             361.0   \n",
              "9997     3052.0    79.0   19.0                              90.0   \n",
              "9998     2958.0    58.0    6.0                             319.0   \n",
              "9999     2682.0    91.0   13.0                             162.0   \n",
              "\n",
              "      Vertical_Distance_To_Hydrology  Horizontal_Distance_To_Roadways  \\\n",
              "0                               18.0                           1190.0   \n",
              "1                                4.0                           1350.0   \n",
              "2                               21.0                           1377.0   \n",
              "3                               30.0                           5125.0   \n",
              "4                               63.0                            342.0   \n",
              "...                              ...                              ...   \n",
              "9995                            25.0                           4095.0   \n",
              "9996                            74.0                           4846.0   \n",
              "9997                            11.0                           1003.0   \n",
              "9998                            19.0                           2468.0   \n",
              "9999                            32.0                           1369.0   \n",
              "\n",
              "      Hillshade_9am  Hillshade_Noon  Hillshade_3pm  \\\n",
              "0             234.0           204.0           96.0   \n",
              "1             236.0           240.0          127.0   \n",
              "2             227.0           226.0          134.0   \n",
              "3             221.0           231.0          146.0   \n",
              "4             253.0           196.0           51.0   \n",
              "...             ...             ...            ...   \n",
              "9995          235.0           225.0          121.0   \n",
              "9996          220.0           223.0          138.0   \n",
              "9997          241.0           203.0           85.0   \n",
              "9998          225.0           227.0          137.0   \n",
              "9999          240.0           219.0          108.0   \n",
              "\n",
              "      Horizontal_Distance_To_Fire_Points  Wilderness_Area  Soil_Type  \\\n",
              "0                                 2251.0                2         30   \n",
              "1                                 2514.0                2         16   \n",
              "2                                  339.0                3          5   \n",
              "3                                 5706.0                0         11   \n",
              "4                                  811.0                2          3   \n",
              "...                                  ...              ...        ...   \n",
              "9995                              3901.0                0         28   \n",
              "9996                              1611.0                0         28   \n",
              "9997                              1490.0                2         22   \n",
              "9998                              2280.0                0         28   \n",
              "9999                              1661.0                2         10   \n",
              "\n",
              "        c#Cover_Type  \n",
              "0     Lodgepole Pine  \n",
              "1     Lodgepole Pine  \n",
              "2     Ponderosa Pine  \n",
              "3     Lodgepole Pine  \n",
              "4     Ponderosa Pine  \n",
              "...              ...  \n",
              "9995  Lodgepole Pine  \n",
              "9996  Lodgepole Pine  \n",
              "9997      Spruce/Fir  \n",
              "9998  Lodgepole Pine  \n",
              "9999  Lodgepole Pine  \n",
              "\n",
              "[10000 rows x 13 columns]"
            ],
            "text/html": [
              "\n",
              "  <div id=\"df-d094fd3c-ad23-46a8-a1b8-55464ef080d1\" class=\"colab-df-container\">\n",
              "    <div>\n",
              "<style scoped>\n",
              "    .dataframe tbody tr th:only-of-type {\n",
              "        vertical-align: middle;\n",
              "    }\n",
              "\n",
              "    .dataframe tbody tr th {\n",
              "        vertical-align: top;\n",
              "    }\n",
              "\n",
              "    .dataframe thead th {\n",
              "        text-align: right;\n",
              "    }\n",
              "</style>\n",
              "<table border=\"1\" class=\"dataframe\">\n",
              "  <thead>\n",
              "    <tr style=\"text-align: right;\">\n",
              "      <th></th>\n",
              "      <th>Elevation</th>\n",
              "      <th>Aspect</th>\n",
              "      <th>Slope</th>\n",
              "      <th>Horizontal_Distance_To_Hydrology</th>\n",
              "      <th>Vertical_Distance_To_Hydrology</th>\n",
              "      <th>Horizontal_Distance_To_Roadways</th>\n",
              "      <th>Hillshade_9am</th>\n",
              "      <th>Hillshade_Noon</th>\n",
              "      <th>Hillshade_3pm</th>\n",
              "      <th>Horizontal_Distance_To_Fire_Points</th>\n",
              "      <th>Wilderness_Area</th>\n",
              "      <th>Soil_Type</th>\n",
              "      <th>c#Cover_Type</th>\n",
              "    </tr>\n",
              "  </thead>\n",
              "  <tbody>\n",
              "    <tr>\n",
              "      <th>0</th>\n",
              "      <td>2767.0</td>\n",
              "      <td>66.0</td>\n",
              "      <td>17.0</td>\n",
              "      <td>210.0</td>\n",
              "      <td>18.0</td>\n",
              "      <td>1190.0</td>\n",
              "      <td>234.0</td>\n",
              "      <td>204.0</td>\n",
              "      <td>96.0</td>\n",
              "      <td>2251.0</td>\n",
              "      <td>2</td>\n",
              "      <td>30</td>\n",
              "      <td>Lodgepole Pine</td>\n",
              "    </tr>\n",
              "    <tr>\n",
              "      <th>1</th>\n",
              "      <td>2724.0</td>\n",
              "      <td>160.0</td>\n",
              "      <td>19.0</td>\n",
              "      <td>60.0</td>\n",
              "      <td>4.0</td>\n",
              "      <td>1350.0</td>\n",
              "      <td>236.0</td>\n",
              "      <td>240.0</td>\n",
              "      <td>127.0</td>\n",
              "      <td>2514.0</td>\n",
              "      <td>2</td>\n",
              "      <td>16</td>\n",
              "      <td>Lodgepole Pine</td>\n",
              "    </tr>\n",
              "    <tr>\n",
              "      <th>2</th>\n",
              "      <td>2360.0</td>\n",
              "      <td>65.0</td>\n",
              "      <td>7.0</td>\n",
              "      <td>127.0</td>\n",
              "      <td>21.0</td>\n",
              "      <td>1377.0</td>\n",
              "      <td>227.0</td>\n",
              "      <td>226.0</td>\n",
              "      <td>134.0</td>\n",
              "      <td>339.0</td>\n",
              "      <td>3</td>\n",
              "      <td>5</td>\n",
              "      <td>Ponderosa Pine</td>\n",
              "    </tr>\n",
              "    <tr>\n",
              "      <th>3</th>\n",
              "      <td>2995.0</td>\n",
              "      <td>45.0</td>\n",
              "      <td>4.0</td>\n",
              "      <td>285.0</td>\n",
              "      <td>30.0</td>\n",
              "      <td>5125.0</td>\n",
              "      <td>221.0</td>\n",
              "      <td>231.0</td>\n",
              "      <td>146.0</td>\n",
              "      <td>5706.0</td>\n",
              "      <td>0</td>\n",
              "      <td>11</td>\n",
              "      <td>Lodgepole Pine</td>\n",
              "    </tr>\n",
              "    <tr>\n",
              "      <th>4</th>\n",
              "      <td>2400.0</td>\n",
              "      <td>106.0</td>\n",
              "      <td>27.0</td>\n",
              "      <td>150.0</td>\n",
              "      <td>63.0</td>\n",
              "      <td>342.0</td>\n",
              "      <td>253.0</td>\n",
              "      <td>196.0</td>\n",
              "      <td>51.0</td>\n",
              "      <td>811.0</td>\n",
              "      <td>2</td>\n",
              "      <td>3</td>\n",
              "      <td>Ponderosa Pine</td>\n",
              "    </tr>\n",
              "    <tr>\n",
              "      <th>...</th>\n",
              "      <td>...</td>\n",
              "      <td>...</td>\n",
              "      <td>...</td>\n",
              "      <td>...</td>\n",
              "      <td>...</td>\n",
              "      <td>...</td>\n",
              "      <td>...</td>\n",
              "      <td>...</td>\n",
              "      <td>...</td>\n",
              "      <td>...</td>\n",
              "      <td>...</td>\n",
              "      <td>...</td>\n",
              "      <td>...</td>\n",
              "    </tr>\n",
              "    <tr>\n",
              "      <th>9995</th>\n",
              "      <td>2917.0</td>\n",
              "      <td>90.0</td>\n",
              "      <td>9.0</td>\n",
              "      <td>247.0</td>\n",
              "      <td>25.0</td>\n",
              "      <td>4095.0</td>\n",
              "      <td>235.0</td>\n",
              "      <td>225.0</td>\n",
              "      <td>121.0</td>\n",
              "      <td>3901.0</td>\n",
              "      <td>0</td>\n",
              "      <td>28</td>\n",
              "      <td>Lodgepole Pine</td>\n",
              "    </tr>\n",
              "    <tr>\n",
              "      <th>9996</th>\n",
              "      <td>3015.0</td>\n",
              "      <td>38.0</td>\n",
              "      <td>8.0</td>\n",
              "      <td>361.0</td>\n",
              "      <td>74.0</td>\n",
              "      <td>4846.0</td>\n",
              "      <td>220.0</td>\n",
              "      <td>223.0</td>\n",
              "      <td>138.0</td>\n",
              "      <td>1611.0</td>\n",
              "      <td>0</td>\n",
              "      <td>28</td>\n",
              "      <td>Lodgepole Pine</td>\n",
              "    </tr>\n",
              "    <tr>\n",
              "      <th>9997</th>\n",
              "      <td>3052.0</td>\n",
              "      <td>79.0</td>\n",
              "      <td>19.0</td>\n",
              "      <td>90.0</td>\n",
              "      <td>11.0</td>\n",
              "      <td>1003.0</td>\n",
              "      <td>241.0</td>\n",
              "      <td>203.0</td>\n",
              "      <td>85.0</td>\n",
              "      <td>1490.0</td>\n",
              "      <td>2</td>\n",
              "      <td>22</td>\n",
              "      <td>Spruce/Fir</td>\n",
              "    </tr>\n",
              "    <tr>\n",
              "      <th>9998</th>\n",
              "      <td>2958.0</td>\n",
              "      <td>58.0</td>\n",
              "      <td>6.0</td>\n",
              "      <td>319.0</td>\n",
              "      <td>19.0</td>\n",
              "      <td>2468.0</td>\n",
              "      <td>225.0</td>\n",
              "      <td>227.0</td>\n",
              "      <td>137.0</td>\n",
              "      <td>2280.0</td>\n",
              "      <td>0</td>\n",
              "      <td>28</td>\n",
              "      <td>Lodgepole Pine</td>\n",
              "    </tr>\n",
              "    <tr>\n",
              "      <th>9999</th>\n",
              "      <td>2682.0</td>\n",
              "      <td>91.0</td>\n",
              "      <td>13.0</td>\n",
              "      <td>162.0</td>\n",
              "      <td>32.0</td>\n",
              "      <td>1369.0</td>\n",
              "      <td>240.0</td>\n",
              "      <td>219.0</td>\n",
              "      <td>108.0</td>\n",
              "      <td>1661.0</td>\n",
              "      <td>2</td>\n",
              "      <td>10</td>\n",
              "      <td>Lodgepole Pine</td>\n",
              "    </tr>\n",
              "  </tbody>\n",
              "</table>\n",
              "<p>10000 rows × 13 columns</p>\n",
              "</div>\n",
              "    <div class=\"colab-df-buttons\">\n",
              "\n",
              "  <div class=\"colab-df-container\">\n",
              "    <button class=\"colab-df-convert\" onclick=\"convertToInteractive('df-d094fd3c-ad23-46a8-a1b8-55464ef080d1')\"\n",
              "            title=\"Convert this dataframe to an interactive table.\"\n",
              "            style=\"display:none;\">\n",
              "\n",
              "  <svg xmlns=\"http://www.w3.org/2000/svg\" height=\"24px\" viewBox=\"0 -960 960 960\">\n",
              "    <path d=\"M120-120v-720h720v720H120Zm60-500h600v-160H180v160Zm220 220h160v-160H400v160Zm0 220h160v-160H400v160ZM180-400h160v-160H180v160Zm440 0h160v-160H620v160ZM180-180h160v-160H180v160Zm440 0h160v-160H620v160Z\"/>\n",
              "  </svg>\n",
              "    </button>\n",
              "\n",
              "  <style>\n",
              "    .colab-df-container {\n",
              "      display:flex;\n",
              "      gap: 12px;\n",
              "    }\n",
              "\n",
              "    .colab-df-convert {\n",
              "      background-color: #E8F0FE;\n",
              "      border: none;\n",
              "      border-radius: 50%;\n",
              "      cursor: pointer;\n",
              "      display: none;\n",
              "      fill: #1967D2;\n",
              "      height: 32px;\n",
              "      padding: 0 0 0 0;\n",
              "      width: 32px;\n",
              "    }\n",
              "\n",
              "    .colab-df-convert:hover {\n",
              "      background-color: #E2EBFA;\n",
              "      box-shadow: 0px 1px 2px rgba(60, 64, 67, 0.3), 0px 1px 3px 1px rgba(60, 64, 67, 0.15);\n",
              "      fill: #174EA6;\n",
              "    }\n",
              "\n",
              "    .colab-df-buttons div {\n",
              "      margin-bottom: 4px;\n",
              "    }\n",
              "\n",
              "    [theme=dark] .colab-df-convert {\n",
              "      background-color: #3B4455;\n",
              "      fill: #D2E3FC;\n",
              "    }\n",
              "\n",
              "    [theme=dark] .colab-df-convert:hover {\n",
              "      background-color: #434B5C;\n",
              "      box-shadow: 0px 1px 3px 1px rgba(0, 0, 0, 0.15);\n",
              "      filter: drop-shadow(0px 1px 2px rgba(0, 0, 0, 0.3));\n",
              "      fill: #FFFFFF;\n",
              "    }\n",
              "  </style>\n",
              "\n",
              "    <script>\n",
              "      const buttonEl =\n",
              "        document.querySelector('#df-d094fd3c-ad23-46a8-a1b8-55464ef080d1 button.colab-df-convert');\n",
              "      buttonEl.style.display =\n",
              "        google.colab.kernel.accessAllowed ? 'block' : 'none';\n",
              "\n",
              "      async function convertToInteractive(key) {\n",
              "        const element = document.querySelector('#df-d094fd3c-ad23-46a8-a1b8-55464ef080d1');\n",
              "        const dataTable =\n",
              "          await google.colab.kernel.invokeFunction('convertToInteractive',\n",
              "                                                    [key], {});\n",
              "        if (!dataTable) return;\n",
              "\n",
              "        const docLinkHtml = 'Like what you see? Visit the ' +\n",
              "          '<a target=\"_blank\" href=https://colab.research.google.com/notebooks/data_table.ipynb>data table notebook</a>'\n",
              "          + ' to learn more about interactive tables.';\n",
              "        element.innerHTML = '';\n",
              "        dataTable['output_type'] = 'display_data';\n",
              "        await google.colab.output.renderOutput(dataTable, element);\n",
              "        const docLink = document.createElement('div');\n",
              "        docLink.innerHTML = docLinkHtml;\n",
              "        element.appendChild(docLink);\n",
              "      }\n",
              "    </script>\n",
              "  </div>\n",
              "\n",
              "\n",
              "    <div id=\"df-6d4a0209-3e9a-4c79-8a33-c9c5c43af69f\">\n",
              "      <button class=\"colab-df-quickchart\" onclick=\"quickchart('df-6d4a0209-3e9a-4c79-8a33-c9c5c43af69f')\"\n",
              "                title=\"Suggest charts\"\n",
              "                style=\"display:none;\">\n",
              "\n",
              "<svg xmlns=\"http://www.w3.org/2000/svg\" height=\"24px\"viewBox=\"0 0 24 24\"\n",
              "     width=\"24px\">\n",
              "    <g>\n",
              "        <path d=\"M19 3H5c-1.1 0-2 .9-2 2v14c0 1.1.9 2 2 2h14c1.1 0 2-.9 2-2V5c0-1.1-.9-2-2-2zM9 17H7v-7h2v7zm4 0h-2V7h2v10zm4 0h-2v-4h2v4z\"/>\n",
              "    </g>\n",
              "</svg>\n",
              "      </button>\n",
              "\n",
              "<style>\n",
              "  .colab-df-quickchart {\n",
              "      --bg-color: #E8F0FE;\n",
              "      --fill-color: #1967D2;\n",
              "      --hover-bg-color: #E2EBFA;\n",
              "      --hover-fill-color: #174EA6;\n",
              "      --disabled-fill-color: #AAA;\n",
              "      --disabled-bg-color: #DDD;\n",
              "  }\n",
              "\n",
              "  [theme=dark] .colab-df-quickchart {\n",
              "      --bg-color: #3B4455;\n",
              "      --fill-color: #D2E3FC;\n",
              "      --hover-bg-color: #434B5C;\n",
              "      --hover-fill-color: #FFFFFF;\n",
              "      --disabled-bg-color: #3B4455;\n",
              "      --disabled-fill-color: #666;\n",
              "  }\n",
              "\n",
              "  .colab-df-quickchart {\n",
              "    background-color: var(--bg-color);\n",
              "    border: none;\n",
              "    border-radius: 50%;\n",
              "    cursor: pointer;\n",
              "    display: none;\n",
              "    fill: var(--fill-color);\n",
              "    height: 32px;\n",
              "    padding: 0;\n",
              "    width: 32px;\n",
              "  }\n",
              "\n",
              "  .colab-df-quickchart:hover {\n",
              "    background-color: var(--hover-bg-color);\n",
              "    box-shadow: 0 1px 2px rgba(60, 64, 67, 0.3), 0 1px 3px 1px rgba(60, 64, 67, 0.15);\n",
              "    fill: var(--button-hover-fill-color);\n",
              "  }\n",
              "\n",
              "  .colab-df-quickchart-complete:disabled,\n",
              "  .colab-df-quickchart-complete:disabled:hover {\n",
              "    background-color: var(--disabled-bg-color);\n",
              "    fill: var(--disabled-fill-color);\n",
              "    box-shadow: none;\n",
              "  }\n",
              "\n",
              "  .colab-df-spinner {\n",
              "    border: 2px solid var(--fill-color);\n",
              "    border-color: transparent;\n",
              "    border-bottom-color: var(--fill-color);\n",
              "    animation:\n",
              "      spin 1s steps(1) infinite;\n",
              "  }\n",
              "\n",
              "  @keyframes spin {\n",
              "    0% {\n",
              "      border-color: transparent;\n",
              "      border-bottom-color: var(--fill-color);\n",
              "      border-left-color: var(--fill-color);\n",
              "    }\n",
              "    20% {\n",
              "      border-color: transparent;\n",
              "      border-left-color: var(--fill-color);\n",
              "      border-top-color: var(--fill-color);\n",
              "    }\n",
              "    30% {\n",
              "      border-color: transparent;\n",
              "      border-left-color: var(--fill-color);\n",
              "      border-top-color: var(--fill-color);\n",
              "      border-right-color: var(--fill-color);\n",
              "    }\n",
              "    40% {\n",
              "      border-color: transparent;\n",
              "      border-right-color: var(--fill-color);\n",
              "      border-top-color: var(--fill-color);\n",
              "    }\n",
              "    60% {\n",
              "      border-color: transparent;\n",
              "      border-right-color: var(--fill-color);\n",
              "    }\n",
              "    80% {\n",
              "      border-color: transparent;\n",
              "      border-right-color: var(--fill-color);\n",
              "      border-bottom-color: var(--fill-color);\n",
              "    }\n",
              "    90% {\n",
              "      border-color: transparent;\n",
              "      border-bottom-color: var(--fill-color);\n",
              "    }\n",
              "  }\n",
              "</style>\n",
              "\n",
              "      <script>\n",
              "        async function quickchart(key) {\n",
              "          const quickchartButtonEl =\n",
              "            document.querySelector('#' + key + ' button');\n",
              "          quickchartButtonEl.disabled = true;  // To prevent multiple clicks.\n",
              "          quickchartButtonEl.classList.add('colab-df-spinner');\n",
              "          try {\n",
              "            const charts = await google.colab.kernel.invokeFunction(\n",
              "                'suggestCharts', [key], {});\n",
              "          } catch (error) {\n",
              "            console.error('Error during call to suggestCharts:', error);\n",
              "          }\n",
              "          quickchartButtonEl.classList.remove('colab-df-spinner');\n",
              "          quickchartButtonEl.classList.add('colab-df-quickchart-complete');\n",
              "        }\n",
              "        (() => {\n",
              "          let quickchartButtonEl =\n",
              "            document.querySelector('#df-6d4a0209-3e9a-4c79-8a33-c9c5c43af69f button');\n",
              "          quickchartButtonEl.style.display =\n",
              "            google.colab.kernel.accessAllowed ? 'block' : 'none';\n",
              "        })();\n",
              "      </script>\n",
              "    </div>\n",
              "\n",
              "  <div id=\"id_9345be89-d729-4d5d-93ec-78d6b9e5b3bd\">\n",
              "    <style>\n",
              "      .colab-df-generate {\n",
              "        background-color: #E8F0FE;\n",
              "        border: none;\n",
              "        border-radius: 50%;\n",
              "        cursor: pointer;\n",
              "        display: none;\n",
              "        fill: #1967D2;\n",
              "        height: 32px;\n",
              "        padding: 0 0 0 0;\n",
              "        width: 32px;\n",
              "      }\n",
              "\n",
              "      .colab-df-generate:hover {\n",
              "        background-color: #E2EBFA;\n",
              "        box-shadow: 0px 1px 2px rgba(60, 64, 67, 0.3), 0px 1px 3px 1px rgba(60, 64, 67, 0.15);\n",
              "        fill: #174EA6;\n",
              "      }\n",
              "\n",
              "      [theme=dark] .colab-df-generate {\n",
              "        background-color: #3B4455;\n",
              "        fill: #D2E3FC;\n",
              "      }\n",
              "\n",
              "      [theme=dark] .colab-df-generate:hover {\n",
              "        background-color: #434B5C;\n",
              "        box-shadow: 0px 1px 3px 1px rgba(0, 0, 0, 0.15);\n",
              "        filter: drop-shadow(0px 1px 2px rgba(0, 0, 0, 0.3));\n",
              "        fill: #FFFFFF;\n",
              "      }\n",
              "    </style>\n",
              "    <button class=\"colab-df-generate\" onclick=\"generateWithVariable('base')\"\n",
              "            title=\"Generate code using this dataframe.\"\n",
              "            style=\"display:none;\">\n",
              "\n",
              "  <svg xmlns=\"http://www.w3.org/2000/svg\" height=\"24px\"viewBox=\"0 0 24 24\"\n",
              "       width=\"24px\">\n",
              "    <path d=\"M7,19H8.4L18.45,9,17,7.55,7,17.6ZM5,21V16.75L18.45,3.32a2,2,0,0,1,2.83,0l1.4,1.43a1.91,1.91,0,0,1,.58,1.4,1.91,1.91,0,0,1-.58,1.4L9.25,21ZM18.45,9,17,7.55Zm-12,3A5.31,5.31,0,0,0,4.9,8.1,5.31,5.31,0,0,0,1,6.5,5.31,5.31,0,0,0,4.9,4.9,5.31,5.31,0,0,0,6.5,1,5.31,5.31,0,0,0,8.1,4.9,5.31,5.31,0,0,0,12,6.5,5.46,5.46,0,0,0,6.5,12Z\"/>\n",
              "  </svg>\n",
              "    </button>\n",
              "    <script>\n",
              "      (() => {\n",
              "      const buttonEl =\n",
              "        document.querySelector('#id_9345be89-d729-4d5d-93ec-78d6b9e5b3bd button.colab-df-generate');\n",
              "      buttonEl.style.display =\n",
              "        google.colab.kernel.accessAllowed ? 'block' : 'none';\n",
              "\n",
              "      buttonEl.onclick = () => {\n",
              "        google.colab.notebook.generateWithVariable('base');\n",
              "      }\n",
              "      })();\n",
              "    </script>\n",
              "  </div>\n",
              "\n",
              "    </div>\n",
              "  </div>\n"
            ],
            "application/vnd.google.colaboratory.intrinsic+json": {
              "type": "dataframe",
              "variable_name": "base",
              "summary": "{\n  \"name\": \"base\",\n  \"rows\": 10000,\n  \"fields\": [\n    {\n      \"column\": \"Elevation\",\n      \"properties\": {\n        \"dtype\": \"number\",\n        \"std\": 278.877757104042,\n        \"min\": 1893.0,\n        \"max\": 3845.0,\n        \"num_unique_values\": 1377,\n        \"samples\": [\n          3001.0,\n          2973.0,\n          2777.0\n        ],\n        \"semantic_type\": \"\",\n        \"description\": \"\"\n      }\n    },\n    {\n      \"column\": \"Aspect\",\n      \"properties\": {\n        \"dtype\": \"number\",\n        \"std\": 111.31309114576773,\n        \"min\": 0.0,\n        \"max\": 360.0,\n        \"num_unique_values\": 361,\n        \"samples\": [\n          184.0,\n          153.0,\n          148.0\n        ],\n        \"semantic_type\": \"\",\n        \"description\": \"\"\n      }\n    },\n    {\n      \"column\": \"Slope\",\n      \"properties\": {\n        \"dtype\": \"number\",\n        \"std\": 7.467714115806259,\n        \"min\": 0.0,\n        \"max\": 55.0,\n        \"num_unique_values\": 49,\n        \"samples\": [\n          12.0,\n          48.0,\n          40.0\n        ],\n        \"semantic_type\": \"\",\n        \"description\": \"\"\n      }\n    },\n    {\n      \"column\": \"Horizontal_Distance_To_Hydrology\",\n      \"properties\": {\n        \"dtype\": \"number\",\n        \"std\": 211.48143348367645,\n        \"min\": 0.0,\n        \"max\": 1376.0,\n        \"num_unique_values\": 347,\n        \"samples\": [\n          1060.0,\n          592.0,\n          837.0\n        ],\n        \"semantic_type\": \"\",\n        \"description\": \"\"\n      }\n    },\n    {\n      \"column\": \"Vertical_Distance_To_Hydrology\",\n      \"properties\": {\n        \"dtype\": \"number\",\n        \"std\": 58.188251762914646,\n        \"min\": -132.0,\n        \"max\": 573.0,\n        \"num_unique_values\": 404,\n        \"samples\": [\n          57.0,\n          136.0,\n          332.0\n        ],\n        \"semantic_type\": \"\",\n        \"description\": \"\"\n      }\n    },\n    {\n      \"column\": \"Horizontal_Distance_To_Roadways\",\n      \"properties\": {\n        \"dtype\": \"number\",\n        \"std\": 1564.0313880908689,\n        \"min\": 0.0,\n        \"max\": 6926.0,\n        \"num_unique_values\": 3482,\n        \"samples\": [\n          1104.0,\n          4045.0,\n          5095.0\n        ],\n        \"semantic_type\": \"\",\n        \"description\": \"\"\n      }\n    },\n    {\n      \"column\": \"Hillshade_9am\",\n      \"properties\": {\n        \"dtype\": \"number\",\n        \"std\": 26.642596921228876,\n        \"min\": 60.0,\n        \"max\": 254.0,\n        \"num_unique_values\": 166,\n        \"samples\": [\n          102.0,\n          144.0,\n          139.0\n        ],\n        \"semantic_type\": \"\",\n        \"description\": \"\"\n      }\n    },\n    {\n      \"column\": \"Hillshade_Noon\",\n      \"properties\": {\n        \"dtype\": \"number\",\n        \"std\": 19.851419160207993,\n        \"min\": 104.0,\n        \"max\": 254.0,\n        \"num_unique_values\": 130,\n        \"samples\": [\n          214.0,\n          153.0,\n          174.0\n        ],\n        \"semantic_type\": \"\",\n        \"description\": \"\"\n      }\n    },\n    {\n      \"column\": \"Hillshade_3pm\",\n      \"properties\": {\n        \"dtype\": \"number\",\n        \"std\": 38.45897903411948,\n        \"min\": 0.0,\n        \"max\": 250.0,\n        \"num_unique_values\": 237,\n        \"samples\": [\n          193.0,\n          139.0,\n          233.0\n        ],\n        \"semantic_type\": \"\",\n        \"description\": \"\"\n      }\n    },\n    {\n      \"column\": \"Horizontal_Distance_To_Fire_Points\",\n      \"properties\": {\n        \"dtype\": \"number\",\n        \"std\": 1324.58853240184,\n        \"min\": 0.0,\n        \"max\": 7150.0,\n        \"num_unique_values\": 2966,\n        \"samples\": [\n          2555.0,\n          2353.0,\n          3621.0\n        ],\n        \"semantic_type\": \"\",\n        \"description\": \"\"\n      }\n    },\n    {\n      \"column\": \"Wilderness_Area\",\n      \"properties\": {\n        \"dtype\": \"number\",\n        \"std\": 1,\n        \"min\": 0,\n        \"max\": 3,\n        \"num_unique_values\": 4,\n        \"samples\": [\n          3,\n          1,\n          2\n        ],\n        \"semantic_type\": \"\",\n        \"description\": \"\"\n      }\n    },\n    {\n      \"column\": \"Soil_Type\",\n      \"properties\": {\n        \"dtype\": \"number\",\n        \"std\": 9,\n        \"min\": 0,\n        \"max\": 39,\n        \"num_unique_values\": 39,\n        \"samples\": [\n          15,\n          24,\n          3\n        ],\n        \"semantic_type\": \"\",\n        \"description\": \"\"\n      }\n    },\n    {\n      \"column\": \"c#Cover_Type\",\n      \"properties\": {\n        \"dtype\": \"category\",\n        \"num_unique_values\": 7,\n        \"samples\": [\n          \"Lodgepole Pine\",\n          \"Ponderosa Pine\",\n          \"Krummholz\"\n        ],\n        \"semantic_type\": \"\",\n        \"description\": \"\"\n      }\n    }\n  ]\n}"
            }
          },
          "metadata": {},
          "execution_count": 15
        }
      ]
    },
    {
      "cell_type": "markdown",
      "source": [
        "Salve o arquivo modificado. Como você só vai utilizar este arquivo neste exercício, não precisa salvar no Drive."
      ],
      "metadata": {
        "id": "6TRYcyOot3dX"
      }
    },
    {
      "cell_type": "code",
      "source": [
        "base.to_csv('cov_types.csv', index=False)"
      ],
      "metadata": {
        "id": "qwDzDQkTtg_5"
      },
      "execution_count": 16,
      "outputs": []
    },
    {
      "cell_type": "markdown",
      "source": [
        "Gere uma instância da classe `Orange.data.Table` informando o arquivo `csv` contendo os dados."
      ],
      "metadata": {
        "id": "SX2KpADTHf0E"
      }
    },
    {
      "cell_type": "code",
      "source": [
        "base = Orange.data.Table(\"cov_types.csv\")"
      ],
      "metadata": {
        "id": "s11Ed4YAqooy"
      },
      "execution_count": 19,
      "outputs": []
    },
    {
      "cell_type": "markdown",
      "source": [
        "Exiba o domínio desta base."
      ],
      "metadata": {
        "id": "QVXGirneHlEb"
      }
    },
    {
      "cell_type": "code",
      "source": [
        "base.domain"
      ],
      "metadata": {
        "id": "OPhDpEeCsB1u",
        "colab": {
          "base_uri": "https://localhost:8080/"
        },
        "outputId": "e08ae1de-57a3-4c3e-f0d0-16da0feba1bf"
      },
      "execution_count": 20,
      "outputs": [
        {
          "output_type": "execute_result",
          "data": {
            "text/plain": [
              "[Elevation, Aspect, Slope, Horizontal_Distance_To_Hydrology, Vertical_Distance_To_Hydrology, Horizontal_Distance_To_Roadways, Hillshade_9am, Hillshade_Noon, Hillshade_3pm, Horizontal_Distance_To_Fire_Points, Wilderness_Area, Soil_Type | Cover_Type]"
            ]
          },
          "metadata": {},
          "execution_count": 20
        }
      ]
    },
    {
      "cell_type": "markdown",
      "source": [
        "Utilize o método adequado da biblioteca Orange para separar 25% dos dados da base em um split de teste, e o restante em um split de treinamento. Você pode salvar o resultado da função diretamente nas variáveis dos splits correspondentes, observando que o split de teste é retornado primeiro."
      ],
      "metadata": {
        "id": "cFMxoqxQHm7x"
      }
    },
    {
      "cell_type": "code",
      "source": [
        "base_test, base_train = Orange.evaluation.testing.sample(base, n=0.25)"
      ],
      "metadata": {
        "id": "Yhwbn1xEsCeu"
      },
      "execution_count": 21,
      "outputs": []
    },
    {
      "cell_type": "markdown",
      "source": [
        "Verifique o tamanho desses splits."
      ],
      "metadata": {
        "id": "qvYZlYW1H3Cp"
      }
    },
    {
      "cell_type": "code",
      "source": [
        "len(base_train), len(base_test)"
      ],
      "metadata": {
        "id": "ed7uTKq9uPG7",
        "colab": {
          "base_uri": "https://localhost:8080/"
        },
        "outputId": "83ffc285-0db9-454a-a924-bcf973f91d4f"
      },
      "execution_count": 22,
      "outputs": [
        {
          "output_type": "execute_result",
          "data": {
            "text/plain": [
              "(7500, 2500)"
            ]
          },
          "metadata": {},
          "execution_count": 22
        }
      ]
    },
    {
      "cell_type": "markdown",
      "source": [
        "Instancie e ajuste um classificador do tipo `CN2Learner`."
      ],
      "metadata": {
        "id": "TU8klhToH5xx"
      }
    },
    {
      "cell_type": "code",
      "source": [
        "cn2_classifier = Orange.classification.CN2Learner()\n",
        "rules = cn2_classifier(base_train)"
      ],
      "metadata": {
        "id": "Pw6iJcK-uPtr"
      },
      "execution_count": 23,
      "outputs": []
    },
    {
      "cell_type": "markdown",
      "source": [
        "Observe que, como esta base é maior, o número de regras é bastante elevado:"
      ],
      "metadata": {
        "id": "7tgBOSd6IBGa"
      }
    },
    {
      "cell_type": "code",
      "source": [
        "len(rules.rule_list)"
      ],
      "metadata": {
        "id": "4v-K7Rj0u3UW",
        "colab": {
          "base_uri": "https://localhost:8080/"
        },
        "outputId": "295df10c-1491-4efa-b7d3-3c93815f67d6"
      },
      "execution_count": 24,
      "outputs": [
        {
          "output_type": "execute_result",
          "data": {
            "text/plain": [
              "1567"
            ]
          },
          "metadata": {},
          "execution_count": 24
        }
      ]
    },
    {
      "cell_type": "markdown",
      "source": [
        "Então, vamos visualizar somente as 10 primeiras regras:"
      ],
      "metadata": {
        "id": "hj1HPB6CIFHl"
      }
    },
    {
      "cell_type": "code",
      "source": [
        "for i, rule in enumerate(rules.rule_list):\n",
        "    print(rule)\n",
        "    if i == 10:\n",
        "        break"
      ],
      "metadata": {
        "id": "QnJ21qI1FDpl",
        "colab": {
          "base_uri": "https://localhost:8080/"
        },
        "outputId": "5b71dd96-032b-4fec-9e8d-982113e00d5f"
      },
      "execution_count": 25,
      "outputs": [
        {
          "output_type": "stream",
          "name": "stdout",
          "text": [
            "IF Horizontal_Distance_To_Roadways>=6468.0 THEN Cover_Type=Lodgepole Pine \n",
            "IF Horizontal_Distance_To_Fire_Points>=4147.0 AND Wilderness_Area>=2.0 THEN Cover_Type=Krummholz \n",
            "IF Elevation>=3363.0 AND Elevation>=3698.0 THEN Cover_Type=Krummholz \n",
            "IF Horizontal_Distance_To_Roadways>=5253.0 AND Vertical_Distance_To_Hydrology>=106.0 THEN Cover_Type=Lodgepole Pine \n",
            "IF Horizontal_Distance_To_Roadways>=4518.0 AND Elevation>=3381.0 THEN Cover_Type=Krummholz \n",
            "IF Elevation>=3047.0 AND Horizontal_Distance_To_Hydrology>=1176.0 THEN Cover_Type=Lodgepole Pine \n",
            "IF Elevation>=3364.0 AND Hillshade_3pm>=201.0 THEN Cover_Type=Spruce/Fir \n",
            "IF Elevation>=3364.0 AND Horizontal_Distance_To_Roadways>=4133.0 THEN Cover_Type=Krummholz \n",
            "IF Horizontal_Distance_To_Fire_Points>=3221.0 AND Elevation>=3426.0 THEN Cover_Type=Krummholz \n",
            "IF Elevation>=3197.0 AND Horizontal_Distance_To_Fire_Points>=4604.0 THEN Cover_Type=Spruce/Fir \n",
            "IF Horizontal_Distance_To_Fire_Points>=4147.0 AND Hillshade_9am>=254.0 THEN Cover_Type=Aspen \n"
          ]
        }
      ]
    },
    {
      "cell_type": "markdown",
      "source": [
        "Faça predições informando ao algoritmo a base de teste."
      ],
      "metadata": {
        "id": "VgJjqywFIJxW"
      }
    },
    {
      "cell_type": "code",
      "source": [
        "y_pred = rules(base_test)\n",
        "y_pred"
      ],
      "metadata": {
        "id": "BaaxLSSLFQv0",
        "colab": {
          "base_uri": "https://localhost:8080/"
        },
        "outputId": "74e380a9-ae9d-447c-9bfe-3cf9a1a2acc5"
      },
      "execution_count": 27,
      "outputs": [
        {
          "output_type": "execute_result",
          "data": {
            "text/plain": [
              "array([4, 6, 0, ..., 6, 4, 5])"
            ]
          },
          "metadata": {},
          "execution_count": 27
        }
      ]
    },
    {
      "cell_type": "markdown",
      "source": [
        "Observe que nós podemos recuperar os valores reais através do atributo `Y` de `base_test`."
      ],
      "metadata": {
        "id": "U_XJbwgUGsjH"
      }
    },
    {
      "cell_type": "code",
      "source": [
        "y_test = base_test.Y\n",
        "y_test"
      ],
      "metadata": {
        "id": "ge840tttGKjS",
        "colab": {
          "base_uri": "https://localhost:8080/"
        },
        "outputId": "941c4829-aa6e-4f5c-e14b-9db6abebebdb"
      },
      "execution_count": 28,
      "outputs": [
        {
          "output_type": "execute_result",
          "data": {
            "text/plain": [
              "array([4., 6., 5., ..., 6., 4., 2.])"
            ]
          },
          "metadata": {},
          "execution_count": 28
        }
      ]
    },
    {
      "cell_type": "markdown",
      "source": [
        "Utilize este valor para calcular a acurácia do modelo."
      ],
      "metadata": {
        "id": "pdOB3ImEGyKr"
      }
    },
    {
      "cell_type": "code",
      "source": [
        "accuracy_score(y_test, y_pred)"
      ],
      "metadata": {
        "id": "3qXLwZIPGMQY",
        "colab": {
          "base_uri": "https://localhost:8080/"
        },
        "outputId": "7d02bb76-6091-450f-bed1-b3e16f738319"
      },
      "execution_count": 29,
      "outputs": [
        {
          "output_type": "execute_result",
          "data": {
            "text/plain": [
              "0.6576"
            ]
          },
          "metadata": {},
          "execution_count": 29
        }
      ]
    },
    {
      "cell_type": "markdown",
      "source": [
        "Desta vez você deve utilizar a função `confusion_matrix` do `sklearn` para exibir a matriz de confusão no formato de um array. Esta função recebe primeiro os valores reais, depois os valores preditos."
      ],
      "metadata": {
        "id": "E3V8eHmtG4hJ"
      }
    },
    {
      "cell_type": "code",
      "source": [
        "cm = confusion_matrix(y_test, y_pred)\n",
        "cm"
      ],
      "metadata": {
        "id": "FjecbI6MHLRQ",
        "colab": {
          "base_uri": "https://localhost:8080/"
        },
        "outputId": "f4995fe8-6452-41aa-f3d7-fb22ddbb7af4"
      },
      "execution_count": 30,
      "outputs": [
        {
          "output_type": "execute_result",
          "data": {
            "text/plain": [
              "array([[ 11,   0,   1,   0,  36,   2,   1],\n",
              "       [  0,   5,   2,   0,   1,   6,   0],\n",
              "       [  2,   0,  20,   0,  21,  26,   3],\n",
              "       [  0,   0,   0,  65,   2,   0,  27],\n",
              "       [ 22,   0,  14,   6, 831,  25, 264],\n",
              "       [  3,   5,  22,   0,  25,  95,   3],\n",
              "       [  5,   0,   3,  34, 293,   2, 617]])"
            ]
          },
          "metadata": {},
          "execution_count": 30
        }
      ]
    },
    {
      "cell_type": "markdown",
      "source": [
        "Você pode gerar um gráfico da matriz de confusão similar ao do yellowbrick com a função `sns.heatmap`:"
      ],
      "metadata": {
        "id": "UIkNwi_NInfp"
      }
    },
    {
      "cell_type": "code",
      "source": [
        "sns.heatmap(cm,\n",
        "            annot=True, # para exibir as contagens nas células do gráfico\n",
        "            fmt='d', # para que os valores sejam em formato inteiro\n",
        "            cmap='YlOrRd', # o mesmo mapa de cor do yellowbrick\n",
        "            mask = (cm == 0) # não exibe os valores e a cor onde o valor for igual a 0\n",
        "            );"
      ],
      "metadata": {
        "id": "byajpZ2uISyb",
        "colab": {
          "base_uri": "https://localhost:8080/",
          "height": 430
        },
        "outputId": "2f16b843-239d-44a5-82f7-a8d3b8eb170f"
      },
      "execution_count": 31,
      "outputs": [
        {
          "output_type": "display_data",
          "data": {
            "text/plain": [
              "<Figure size 640x480 with 2 Axes>"
            ],
            "image/png": "[encoded data removed]"
          },
          "metadata": {}
        }
      ]
    },
    {
      "cell_type": "markdown",
      "source": [
        "Exiba o reporte de classificação do modelo."
      ],
      "metadata": {
        "id": "i6Pajo_8HLGd"
      }
    },
    {
      "cell_type": "code",
      "source": [
        "print(classification_report(y_test, y_pred))"
      ],
      "metadata": {
        "id": "aiXRf606G485",
        "colab": {
          "base_uri": "https://localhost:8080/"
        },
        "outputId": "437ad828-9217-446e-d17a-f358df2fd803"
      },
      "execution_count": 32,
      "outputs": [
        {
          "output_type": "stream",
          "name": "stdout",
          "text": [
            "              precision    recall  f1-score   support\n",
            "\n",
            "         0.0       0.26      0.22      0.23        51\n",
            "         1.0       0.50      0.36      0.42        14\n",
            "         2.0       0.32      0.28      0.30        72\n",
            "         3.0       0.62      0.69      0.65        94\n",
            "         4.0       0.69      0.72      0.70      1162\n",
            "         5.0       0.61      0.62      0.61       153\n",
            "         6.0       0.67      0.65      0.66       954\n",
            "\n",
            "    accuracy                           0.66      2500\n",
            "   macro avg       0.52      0.50      0.51      2500\n",
            "weighted avg       0.65      0.66      0.66      2500\n",
            "\n"
          ]
        }
      ]
    },
    {
      "cell_type": "markdown",
      "source": [
        "## Classificador base (majority learner)"
      ],
      "metadata": {
        "id": "WGPiHXPVWkR_"
      }
    },
    {
      "cell_type": "markdown",
      "source": [
        "Implemente um classificador do tipo `MajorityLearner`."
      ],
      "metadata": {
        "id": "8B1vqaJtau1p"
      }
    },
    {
      "cell_type": "code",
      "source": [
        "majority = Orange.classification.MajorityLearner()"
      ],
      "metadata": {
        "id": "5qxoIb-9Wtga"
      },
      "execution_count": 33,
      "outputs": []
    },
    {
      "cell_type": "markdown",
      "source": [
        "Faça predições para a base inteira com base nesse classificador."
      ],
      "metadata": {
        "id": "xZZdGN_Dazob"
      }
    },
    {
      "cell_type": "code",
      "source": [
        "y_test = Orange.evaluation.testing.TestOnTestData(base, base, [majority])\n"
      ],
      "metadata": {
        "id": "7iVGeJh8Zd5Y"
      },
      "execution_count": 38,
      "outputs": []
    },
    {
      "cell_type": "markdown",
      "source": [
        "Exiba a acurácia deste classificador."
      ],
      "metadata": {
        "id": "GOE6WPe9a2f2"
      }
    },
    {
      "cell_type": "code",
      "source": [
        "Orange.evaluation.CA(y_test)"
      ],
      "metadata": {
        "id": "WrxDDQAvZpFA",
        "colab": {
          "base_uri": "https://localhost:8080/"
        },
        "outputId": "72987abc-c4ed-42d9-e352-95e054eebab9"
      },
      "execution_count": 39,
      "outputs": [
        {
          "output_type": "execute_result",
          "data": {
            "text/plain": [
              "array([0.4847])"
            ]
          },
          "metadata": {},
          "execution_count": 39
        }
      ]
    },
    {
      "cell_type": "markdown",
      "source": [
        "Exiba o número de registros em cada classe na base inteira."
      ],
      "metadata": {
        "id": "xEJShsvYa5-u"
      }
    },
    {
      "cell_type": "code",
      "source": [
        "Counter(str(instance.get_class()) for instance in base)"
      ],
      "metadata": {
        "id": "OJM8nCosaIsN",
        "colab": {
          "base_uri": "https://localhost:8080/"
        },
        "outputId": "7c43909c-b9f6-4293-f843-d410cb075297"
      },
      "execution_count": 40,
      "outputs": [
        {
          "output_type": "execute_result",
          "data": {
            "text/plain": [
              "Counter({'Lodgepole Pine': 4847,\n",
              "         'Ponderosa Pine': 581,\n",
              "         'Spruce/Fir': 3714,\n",
              "         'Aspen': 163,\n",
              "         'Douglas-fir': 278,\n",
              "         'Krummholz': 362,\n",
              "         'Cottonwood/Willow': 55})"
            ]
          },
          "metadata": {},
          "execution_count": 40
        }
      ]
    },
    {
      "cell_type": "markdown",
      "source": [
        "Veja que a base tem 10 mil registros:"
      ],
      "metadata": {
        "id": "DfRuCYcja-yu"
      }
    },
    {
      "cell_type": "code",
      "source": [
        "len(base)"
      ],
      "metadata": {
        "id": "m7cxSahNaofa",
        "colab": {
          "base_uri": "https://localhost:8080/"
        },
        "outputId": "eb1d9df4-5b2f-424a-acac-b4d75b57654f"
      },
      "execution_count": 41,
      "outputs": [
        {
          "output_type": "execute_result",
          "data": {
            "text/plain": [
              "10000"
            ]
          },
          "metadata": {},
          "execution_count": 41
        }
      ]
    },
    {
      "cell_type": "markdown",
      "source": [
        "Isso significa que a classe majoritária, *Lodgepole Pine*, representa $4847/10000=0.4847\\%$ dos dados, ou seja, exatamente a acurácia alcançada pelo classificador base do tipo *majority learner*."
      ],
      "metadata": {
        "id": "wlyh09-DbD8x"
      }
    }
  ]
}