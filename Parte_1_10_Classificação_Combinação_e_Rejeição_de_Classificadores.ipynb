{
  "nbformat": 4,
  "nbformat_minor": 0,
  "metadata": {
    "colab": {
      "provenance": [],
      "include_colab_link": true
    },
    "kernelspec": {
      "name": "python3",
      "display_name": "Python 3"
    },
    "language_info": {
      "name": "python"
    }
  },
  "cells": [
    {
      "cell_type": "markdown",
      "metadata": {
        "id": "view-in-github",
        "colab_type": "text"
      },
      "source": [
        "<a href=\"https://colab.research.google.com/github/ThalesCavalcanti/MachineLearningGroundwork/blob/main/Parte_1_10_Classificac%CC%A7a%CC%83o_Combinac%CC%A7a%CC%83o_e_Rejeic%CC%A7a%CC%83o_de_Classificadores.ipynb\" target=\"_parent\"><img src=\"https://colab.research.google.com/assets/colab-badge.svg\" alt=\"Open In Colab\"/></a>"
      ]
    },
    {
      "cell_type": "markdown",
      "metadata": {
        "id": "e1TOzrpdTD49"
      },
      "source": [
        "---\n",
        "\n",
        "Reconecte ao Drive."
      ]
    },
    {
      "cell_type": "code",
      "execution_count": 1,
      "metadata": {
        "colab": {
          "base_uri": "https://localhost:8080/"
        },
        "id": "60gkOY_gTDjz",
        "outputId": "f4168531-6136-4e36-97ac-0b2fb5c25ce6"
      },
      "outputs": [
        {
          "output_type": "stream",
          "name": "stdout",
          "text": [
            "Mounted at /content/drive\n"
          ]
        }
      ],
      "source": [
        "from google.colab import drive\n",
        "drive.mount('/content/drive')"
      ]
    },
    {
      "cell_type": "code",
      "execution_count": 2,
      "metadata": {
        "id": "TW1LzILHTfAO"
      },
      "outputs": [],
      "source": [
        "import os\n",
        "DRIVE_DIRECTORY = \"curso_ml\"\n",
        "DRIVE_DIRECTORY = os.path.join(\"/content/drive/MyDrive/cursoML\", DRIVE_DIRECTORY)"
      ]
    },
    {
      "cell_type": "markdown",
      "source": [
        "---"
      ],
      "metadata": {
        "id": "SqoVMD-4bZgM"
      }
    },
    {
      "cell_type": "code",
      "source": [
        "import pickle\n",
        "import numpy as np"
      ],
      "metadata": {
        "id": "IjqRfzxVdkki"
      },
      "execution_count": 3,
      "outputs": []
    },
    {
      "cell_type": "markdown",
      "source": [
        "## Combinação de classificadores"
      ],
      "metadata": {
        "id": "V88RnwFIfDce"
      }
    },
    {
      "cell_type": "markdown",
      "source": [
        "Mais uma vez, vamos começar carregando os dados de treino e teste a partir do arquivo `cover_types.pkl`."
      ],
      "metadata": {
        "id": "lIEmmh4wfHik"
      }
    },
    {
      "cell_type": "code",
      "source": [
        "with open(os.path.join(DRIVE_DIRECTORY, 'cover_type.pkl'), 'rb') as f:\n",
        "    X_train, y_train, X_test, y_test = pickle.load(f)"
      ],
      "metadata": {
        "id": "FUMMkCUYet7e"
      },
      "execution_count": 5,
      "outputs": []
    },
    {
      "cell_type": "markdown",
      "source": [
        "Também carregue os classificadores salvos no último exercício."
      ],
      "metadata": {
        "id": "vipB116xfMNQ"
      }
    },
    {
      "cell_type": "code",
      "source": [
        "tree = pickle.load(open(os.path.join(DRIVE_DIRECTORY, 'tree.sav'), 'rb'))\n",
        "rf = pickle.load(open(os.path.join(DRIVE_DIRECTORY, 'rf.sav'), 'rb'))\n",
        "knn = pickle.load(open(os.path.join(DRIVE_DIRECTORY, 'knn.sav'), 'rb'))\n",
        "lr = pickle.load(open(os.path.join(DRIVE_DIRECTORY, 'lr.sav'), 'rb'))\n",
        "svm = pickle.load(open(os.path.join(DRIVE_DIRECTORY, 'svm.sav'), 'rb'))\n",
        "neural_net = pickle.load(open(os.path.join(DRIVE_DIRECTORY, 'neural_net.sav'), 'rb'))"
      ],
      "metadata": {
        "id": "lne9rKC3eJiA"
      },
      "execution_count": 6,
      "outputs": []
    },
    {
      "cell_type": "markdown",
      "source": [
        "Separe o registro de índice 2 de `X_test` em uma variável `new_instance`, aplicando o método `reshape` para que o array resultante seja representado em `1` linha e o número de colunas igual ao número de atributos (você pode usar `-1` para o NumPy determinar este número sozinho). Exiba `new_instance` e seu `shape`."
      ],
      "metadata": {
        "id": "JJHtGL-rizvI"
      }
    },
    {
      "cell_type": "code",
      "source": [
        "new_instance = X_test[2].reshape(1, -1)\n",
        "new_instance, new_instance.shape"
      ],
      "metadata": {
        "colab": {
          "base_uri": "https://localhost:8080/"
        },
        "id": "QQmQgnCyfQyv",
        "outputId": "1a2571c0-7e54-47d0-c453-7174b1b19d6f"
      },
      "execution_count": 7,
      "outputs": [
        {
          "output_type": "execute_result",
          "data": {
            "text/plain": [
              "(array([[-2.42751612, -0.35810696,  2.39062347, -0.83105729,  0.0410722 ,\n",
              "         -1.2884323 ,  1.55697188, -1.6248467 , -2.70414875, -0.11760965,\n",
              "          0.        ,  0.        ,  0.        ,  1.        ,  0.        ,\n",
              "          0.        ,  1.        ,  0.        ,  0.        ,  0.        ,\n",
              "          0.        ,  0.        ,  0.        ,  0.        ,  0.        ,\n",
              "          0.        ,  0.        ,  0.        ,  0.        ,  0.        ,\n",
              "          0.        ,  0.        ,  0.        ,  0.        ,  0.        ,\n",
              "          0.        ,  0.        ,  0.        ,  0.        ,  0.        ,\n",
              "          0.        ,  0.        ,  0.        ,  0.        ,  0.        ,\n",
              "          0.        ,  0.        ,  0.        ,  0.        ,  0.        ,\n",
              "          0.        ,  0.        ,  0.        ]]),\n",
              " (1, 53))"
            ]
          },
          "metadata": {},
          "execution_count": 7
        }
      ]
    },
    {
      "cell_type": "markdown",
      "source": [
        "Agora utilize `new_instance` para obter predições dos algoritmos carregados."
      ],
      "metadata": {
        "id": "UIc6wtNyjKCH"
      }
    },
    {
      "cell_type": "code",
      "source": [
        "y_pred_tree = tree.predict(new_instance)\n",
        "y_pred_rf = rf.predict(new_instance)\n",
        "y_pred_knn = knn.predict(new_instance)\n",
        "y_pred_lr = lr.predict(new_instance)\n",
        "y_pred_svm = svm.predict(new_instance)\n",
        "y_pred_nn = neural_net.predict(new_instance)"
      ],
      "metadata": {
        "id": "G-ve61jUfagq"
      },
      "execution_count": 8,
      "outputs": []
    },
    {
      "cell_type": "markdown",
      "source": [
        "Exiba os resultados da predições."
      ],
      "metadata": {
        "id": "gdgSzkmUjRHH"
      }
    },
    {
      "cell_type": "code",
      "source": [
        "y_pred_tree[0], y_pred_rf[0], y_pred_knn[0], y_pred_lr[0], y_pred_svm[0], y_pred_nn[0]"
      ],
      "metadata": {
        "colab": {
          "base_uri": "https://localhost:8080/"
        },
        "id": "KaaA3nmqfgax",
        "outputId": "1dcb4534-4d23-47f2-ccfa-20dd0d6c791e"
      },
      "execution_count": 9,
      "outputs": [
        {
          "output_type": "execute_result",
          "data": {
            "text/plain": [
              "(np.int64(1), np.int64(1), np.int64(1), np.int64(5), np.int64(5), np.int64(1))"
            ]
          },
          "metadata": {},
          "execution_count": 9
        }
      ]
    },
    {
      "cell_type": "markdown",
      "source": [
        "Como este é um problema com mais de uma classe, a lógica para determinar a classe vencedora é um pouco diferente. Vamos começar colocando os resultados em uma lista."
      ],
      "metadata": {
        "id": "3WEvhQMrjT0J"
      }
    },
    {
      "cell_type": "code",
      "source": [
        "results = [y_pred_tree[0], y_pred_rf[0], y_pred_knn[0], y_pred_lr[0], y_pred_svm[0], y_pred_nn[0]]"
      ],
      "metadata": {
        "id": "_nZiC5QZgdir",
        "outputId": "58928f55-df31-4cb4-9f1c-4904a35aa92d",
        "colab": {
          "base_uri": "https://localhost:8080/"
        }
      },
      "execution_count": 10,
      "outputs": [
        {
          "output_type": "execute_result",
          "data": {
            "text/plain": [
              "[np.int64(1), np.int64(1), np.int64(1), np.int64(5), np.int64(5), np.int64(1)]"
            ]
          },
          "metadata": {},
          "execution_count": 10
        }
      ]
    },
    {
      "cell_type": "markdown",
      "source": [
        "Agora, utilizando a função `np.unique`, vamos determinar quais são as classes preditas e quantas vezes elas foram preditas."
      ],
      "metadata": {
        "id": "c_6ouONYjaWV"
      }
    },
    {
      "cell_type": "code",
      "source": [
        "unique, counts = np.unique(results, return_counts=True)\n",
        "unique, counts"
      ],
      "metadata": {
        "colab": {
          "base_uri": "https://localhost:8080/"
        },
        "id": "QKxAAqy9ggVh",
        "outputId": "e73498c9-0cf4-467e-b0a0-7618cec23728"
      },
      "execution_count": 11,
      "outputs": [
        {
          "output_type": "execute_result",
          "data": {
            "text/plain": [
              "(array([1, 5]), array([4, 2]))"
            ]
          },
          "metadata": {},
          "execution_count": 11
        }
      ]
    },
    {
      "cell_type": "markdown",
      "source": [
        "Agora é preciso verificar qual a classe que apareceu mais vezes. Primeiro vamos determinar qual a contagem máxima."
      ],
      "metadata": {
        "id": "iyy9JWB_jhPl"
      }
    },
    {
      "cell_type": "code",
      "source": [
        "max_counts = counts.max()\n",
        "max_counts"
      ],
      "metadata": {
        "colab": {
          "base_uri": "https://localhost:8080/"
        },
        "id": "9HjUmqt6gwYX",
        "outputId": "a73c3678-dc09-4417-94bc-f6dc46c6e314"
      },
      "execution_count": 12,
      "outputs": [
        {
          "output_type": "execute_result",
          "data": {
            "text/plain": [
              "np.int64(4)"
            ]
          },
          "metadata": {},
          "execution_count": 12
        }
      ]
    },
    {
      "cell_type": "markdown",
      "source": [
        "E agora nós conseguimos filtrar as classes que mais apareceram como sendo aquelas cuja contagem é igual á contagem máxima."
      ],
      "metadata": {
        "id": "N_y0zb3Ojp-d"
      }
    },
    {
      "cell_type": "code",
      "source": [
        "top_classes = unique[counts == max_counts]\n",
        "top_classes"
      ],
      "metadata": {
        "colab": {
          "base_uri": "https://localhost:8080/"
        },
        "id": "tGoRbPAYg79u",
        "outputId": "3fed30e3-8fa3-4f70-89f3-b7e7d2e1dc10"
      },
      "execution_count": 13,
      "outputs": [
        {
          "output_type": "execute_result",
          "data": {
            "text/plain": [
              "array([1])"
            ]
          },
          "metadata": {},
          "execution_count": 13
        }
      ]
    },
    {
      "cell_type": "markdown",
      "source": [
        "Finalmente, a lógica vai utilizar `top_classes` para exibir os resultados."
      ],
      "metadata": {
        "id": "tcsVSqnWj2kn"
      }
    },
    {
      "cell_type": "code",
      "source": [
        "if len(top_classes) == 1:\n",
        "    print(\"Classe encontrada:\", top_classes[0])\n",
        "else:\n",
        "    print(\"Empate entre as classes:\", top_classes)"
      ],
      "metadata": {
        "colab": {
          "base_uri": "https://localhost:8080/"
        },
        "id": "LSMENQs1g_8m",
        "outputId": "ad32ff7c-52f9-4813-c79d-17479a3c6b05"
      },
      "execution_count": 14,
      "outputs": [
        {
          "output_type": "stream",
          "name": "stdout",
          "text": [
            "Classe encontrada: 1\n"
          ]
        }
      ]
    },
    {
      "cell_type": "markdown",
      "source": [
        "## Rejeição de classificadores"
      ],
      "metadata": {
        "id": "Z2sgApk1hQo1"
      }
    },
    {
      "cell_type": "markdown",
      "source": [
        "Utilize o método `predict_proba` para determinar as probabilidades encontradas pelos classificadores. Entretanto, você precisa deixar o algoritmo SVM de fora, porque da forma que nós o implementamos, ele não retorna valores de probabilidade."
      ],
      "metadata": {
        "id": "Nuu5ZclKj8Ek"
      }
    },
    {
      "cell_type": "code",
      "source": [
        "y_prob_tree = tree.predict_proba(new_instance)\n",
        "y_prob_rf = rf.predict_proba(new_instance)\n",
        "y_prob_knn = knn.predict_proba(new_instance)\n",
        "y_prob_lr = lr.predict_proba(new_instance)\n",
        "y_prob_nn = neural_net.predict_proba(new_instance)\n",
        "y_prob_tree, y_prob_rf, y_prob_knn, y_prob_lr, y_prob_nn"
      ],
      "metadata": {
        "colab": {
          "base_uri": "https://localhost:8080/"
        },
        "id": "yI5fWD1ahTHT",
        "outputId": "6a196e13-bf6b-4184-cea9-3d9bd587c532"
      },
      "execution_count": 18,
      "outputs": [
        {
          "output_type": "execute_result",
          "data": {
            "text/plain": [
              "(array([[0., 1., 0., 0., 0., 0., 0.]]),\n",
              " array([[0.        , 0.78666667, 0.        , 0.        , 0.02      ,\n",
              "         0.19333333, 0.        ]]),\n",
              " array([[0., 1., 0., 0., 0., 0., 0.]]),\n",
              " array([[2.47792927e-04, 4.33516875e-01, 3.01021598e-02, 6.11302742e-11,\n",
              "         5.11413538e-03, 5.31009200e-01, 9.83676035e-06]]),\n",
              " array([[2.00970825e-07, 8.74702781e-01, 3.03730038e-03, 4.65582043e-19,\n",
              "         2.13609205e-04, 1.22046108e-01, 3.03964500e-10]]))"
            ]
          },
          "metadata": {},
          "execution_count": 18
        }
      ]
    },
    {
      "cell_type": "markdown",
      "source": [
        "Determine a confiança dos classificadores, sendo igual à probabilidade máxima atribuída."
      ],
      "metadata": {
        "id": "9dMcIjIPkBPp"
      }
    },
    {
      "cell_type": "code",
      "source": [
        "confidence_tree = y_pred_tree.max()\n",
        "confidence_rf = y_pred_rf.max()\n",
        "confidence_knn = y_pred_knn.max()\n",
        "confidence_lr = y_pred_lr.max()\n",
        "confidence_nn = y_pred_nn.max()\n",
        "\n",
        "confidence_tree, confidence_rf, confidence_knn, confidence_lr, confidence_nn"
      ],
      "metadata": {
        "colab": {
          "base_uri": "https://localhost:8080/"
        },
        "id": "D5spGuDQhfIT",
        "outputId": "c546f6be-0a06-4ea9-b612-230e6ca304bb"
      },
      "execution_count": 19,
      "outputs": [
        {
          "output_type": "execute_result",
          "data": {
            "text/plain": [
              "(np.int64(1), np.int64(1), np.int64(1), np.int64(5), np.int64(1))"
            ]
          },
          "metadata": {},
          "execution_count": 19
        }
      ]
    },
    {
      "cell_type": "markdown",
      "source": [
        "A lógica em si é parecida com a do problema binário, mas primeiro nós filtramos para manter somente os resultados maiores que a confiança mínima. Depois, aplicamos o mesmo código mostrado na combinação de classificadores.\n",
        "\n",
        "Utilize uma confiança mínima um pouco mais baixa, já que os resultados encontrados acima são menores. Isso é comum em problemas de classificação com mais de duas classes."
      ],
      "metadata": {
        "id": "1tIN1fhxkGnp"
      }
    },
    {
      "cell_type": "code",
      "source": [
        "min_confidence = 0.75\n",
        "n_algorithms = 0\n",
        "results = []\n",
        "\n",
        "if confidence_tree >= min_confidence:\n",
        "    n_algorithms += 1\n",
        "    results.append(y_pred_tree[0])\n",
        "\n",
        "if confidence_rf >= min_confidence:\n",
        "    n_algorithms += 1\n",
        "    results.append(y_pred_rf[0])\n",
        "\n",
        "if confidence_knn >= min_confidence:\n",
        "    n_algorithms += 1\n",
        "    results.append(y_pred_knn[0])\n",
        "\n",
        "if confidence_lr >= min_confidence:\n",
        "    n_algorithms += 1\n",
        "    results.append(y_pred_lr[0])\n",
        "\n",
        "if confidence_nn >= min_confidence:\n",
        "    n_algorithms += 1\n",
        "    results.append(y_pred_nn[0])\n",
        "\n",
        "unique, counts = np.unique(results, return_counts=True)\n",
        "max_counts = counts.max()\n",
        "top_classes = unique[counts == max_counts]\n",
        "\n",
        "if len(top_classes) == 1:\n",
        "    print(f\"Classe encontrada: {top_classes[0]}, baseado em {n_algorithms} algoritmos.\")\n",
        "else:\n",
        "    print(f\"Empate entre as classes: {top_classes}, baseado em {n_algorithms} algoritmos.\")"
      ],
      "metadata": {
        "colab": {
          "base_uri": "https://localhost:8080/"
        },
        "id": "QoL2I1hchuIs",
        "outputId": "28bc896e-df75-4cde-ef76-d28a3a80a912"
      },
      "execution_count": 20,
      "outputs": [
        {
          "output_type": "stream",
          "name": "stdout",
          "text": [
            "Classe encontrada: 1, baseado em 5 algoritmos.\n"
          ]
        }
      ]
    }
  ]
}