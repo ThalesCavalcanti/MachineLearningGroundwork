{
  "nbformat": 4,
  "nbformat_minor": 0,
  "metadata": {
    "colab": {
      "provenance": [],
      "include_colab_link": true
    },
    "kernelspec": {
      "name": "python3",
      "display_name": "Python 3"
    },
    "language_info": {
      "name": "python"
    }
  },
  "cells": [
    {
      "cell_type": "markdown",
      "metadata": {
        "id": "view-in-github",
        "colab_type": "text"
      },
      "source": [
        "<a href=\"https://colab.research.google.com/github/ThalesCavalcanti/MachineLearningGroundwork/blob/main/Parte_1_6_Classificac%CC%A7a%CC%83o_Regressa%CC%83o_logi%CC%81stica.ipynb\" target=\"_parent\"><img src=\"https://colab.research.google.com/assets/colab-badge.svg\" alt=\"Open In Colab\"/></a>"
      ]
    },
    {
      "cell_type": "markdown",
      "metadata": {
        "id": "e1TOzrpdTD49"
      },
      "source": [
        "---\n",
        "\n",
        "Reconecte ao Drive."
      ]
    },
    {
      "cell_type": "code",
      "execution_count": 1,
      "metadata": {
        "id": "60gkOY_gTDjz",
        "outputId": "ea43ee7c-6701-4d6a-cdc3-439bcf5e0084",
        "colab": {
          "base_uri": "https://localhost:8080/"
        }
      },
      "outputs": [
        {
          "output_type": "stream",
          "name": "stdout",
          "text": [
            "Mounted at /content/drive\n"
          ]
        }
      ],
      "source": [
        "from google.colab import drive\n",
        "drive.mount('/content/drive')"
      ]
    },
    {
      "cell_type": "code",
      "execution_count": 2,
      "metadata": {
        "id": "TW1LzILHTfAO"
      },
      "outputs": [],
      "source": [
        "import os\n",
        "DRIVE_DIRECTORY = \"curso_ml\"\n",
        "DRIVE_DIRECTORY = os.path.join(\"/content/drive/MyDrive/cursoML\", DRIVE_DIRECTORY)"
      ]
    },
    {
      "cell_type": "markdown",
      "source": [
        "---"
      ],
      "metadata": {
        "id": "SqoVMD-4bZgM"
      }
    },
    {
      "cell_type": "code",
      "source": [
        "import pickle\n",
        "\n",
        "from sklearn.linear_model import LogisticRegression\n",
        "from sklearn.metrics import accuracy_score, confusion_matrix, classification_report\n",
        "from yellowbrick.classifier import ConfusionMatrix"
      ],
      "metadata": {
        "id": "Ntswatwfhz2b"
      },
      "execution_count": 3,
      "outputs": []
    },
    {
      "cell_type": "markdown",
      "source": [
        "# Regressão Logística"
      ],
      "metadata": {
        "id": "vJH9YCkYbsTx"
      }
    },
    {
      "cell_type": "markdown",
      "source": [
        "Comece recuperando os dados preditores, de treino e de teste, a partir do arquivo `cover_type.pkl` salvo na pasta do Drive. Lembre-se de que você deve instanciar as variáveis `X` e `y`, dos splits `train` e `test`,  na mesma ordem que salvou."
      ],
      "metadata": {
        "id": "s6TKZJLVebmi"
      }
    },
    {
      "cell_type": "code",
      "execution_count": 4,
      "metadata": {
        "id": "aNgJo6OUaxO2"
      },
      "outputs": [],
      "source": [
        "with open(os.path.join(DRIVE_DIRECTORY, 'cover_type.pkl'), \"rb\") as f:\n",
        "  X_train, y_train, X_test, y_test = pickle.load(f)"
      ]
    },
    {
      "cell_type": "markdown",
      "source": [
        "Instancie e ajuste um classificador do tipo `LogisticRegression`. Para garantir reprodutibilidade, informe `random_state=0` ao construtor."
      ],
      "metadata": {
        "id": "u3msaiGa1UzZ"
      }
    },
    {
      "cell_type": "code",
      "source": [
        "lr_classifier = LogisticRegression(random_state=0)\n",
        "lr_classifier.fit(X_train, y_train)"
      ],
      "metadata": {
        "id": "7zTG3qeU1D4E",
        "outputId": "0dd8fef1-07c7-4082-9969-a15f7248eac3",
        "colab": {
          "base_uri": "https://localhost:8080/",
          "height": 223
        }
      },
      "execution_count": 5,
      "outputs": [
        {
          "output_type": "stream",
          "name": "stderr",
          "text": [
            "/usr/local/lib/python3.11/dist-packages/sklearn/linear_model/_logistic.py:465: ConvergenceWarning: lbfgs failed to converge (status=1):\n",
            "STOP: TOTAL NO. OF ITERATIONS REACHED LIMIT.\n",
            "\n",
            "Increase the number of iterations (max_iter) or scale the data as shown in:\n",
            "    https://scikit-learn.org/stable/modules/preprocessing.html\n",
            "Please also refer to the documentation for alternative solver options:\n",
            "    https://scikit-learn.org/stable/modules/linear_model.html#logistic-regression\n",
            "  n_iter_i = _check_optimize_result(\n"
          ]
        },
        {
          "output_type": "execute_result",
          "data": {
            "text/plain": [
              "LogisticRegression(random_state=0)"
            ],
            "text/html": [
              "<style>#sk-container-id-1 {\n",
              "  /* Definition of color scheme common for light and dark mode */\n",
              "  --sklearn-color-text: #000;\n",
              "  --sklearn-color-text-muted: #666;\n",
              "  --sklearn-color-line: gray;\n",
              "  /* Definition of color scheme for unfitted estimators */\n",
              "  --sklearn-color-unfitted-level-0: #fff5e6;\n",
              "  --sklearn-color-unfitted-level-1: #f6e4d2;\n",
              "  --sklearn-color-unfitted-level-2: #ffe0b3;\n",
              "  --sklearn-color-unfitted-level-3: chocolate;\n",
              "  /* Definition of color scheme for fitted estimators */\n",
              "  --sklearn-color-fitted-level-0: #f0f8ff;\n",
              "  --sklearn-color-fitted-level-1: #d4ebff;\n",
              "  --sklearn-color-fitted-level-2: #b3dbfd;\n",
              "  --sklearn-color-fitted-level-3: cornflowerblue;\n",
              "\n",
              "  /* Specific color for light theme */\n",
              "  --sklearn-color-text-on-default-background: var(--sg-text-color, var(--theme-code-foreground, var(--jp-content-font-color1, black)));\n",
              "  --sklearn-color-background: var(--sg-background-color, var(--theme-background, var(--jp-layout-color0, white)));\n",
              "  --sklearn-color-border-box: var(--sg-text-color, var(--theme-code-foreground, var(--jp-content-font-color1, black)));\n",
              "  --sklearn-color-icon: #696969;\n",
              "\n",
              "  @media (prefers-color-scheme: dark) {\n",
              "    /* Redefinition of color scheme for dark theme */\n",
              "    --sklearn-color-text-on-default-background: var(--sg-text-color, var(--theme-code-foreground, var(--jp-content-font-color1, white)));\n",
              "    --sklearn-color-background: var(--sg-background-color, var(--theme-background, var(--jp-layout-color0, #111)));\n",
              "    --sklearn-color-border-box: var(--sg-text-color, var(--theme-code-foreground, var(--jp-content-font-color1, white)));\n",
              "    --sklearn-color-icon: #878787;\n",
              "  }\n",
              "}\n",
              "\n",
              "#sk-container-id-1 {\n",
              "  color: var(--sklearn-color-text);\n",
              "}\n",
              "\n",
              "#sk-container-id-1 pre {\n",
              "  padding: 0;\n",
              "}\n",
              "\n",
              "#sk-container-id-1 input.sk-hidden--visually {\n",
              "  border: 0;\n",
              "  clip: rect(1px 1px 1px 1px);\n",
              "  clip: rect(1px, 1px, 1px, 1px);\n",
              "  height: 1px;\n",
              "  margin: -1px;\n",
              "  overflow: hidden;\n",
              "  padding: 0;\n",
              "  position: absolute;\n",
              "  width: 1px;\n",
              "}\n",
              "\n",
              "#sk-container-id-1 div.sk-dashed-wrapped {\n",
              "  border: 1px dashed var(--sklearn-color-line);\n",
              "  margin: 0 0.4em 0.5em 0.4em;\n",
              "  box-sizing: border-box;\n",
              "  padding-bottom: 0.4em;\n",
              "  background-color: var(--sklearn-color-background);\n",
              "}\n",
              "\n",
              "#sk-container-id-1 div.sk-container {\n",
              "  /* jupyter's `normalize.less` sets `[hidden] { display: none; }`\n",
              "     but bootstrap.min.css set `[hidden] { display: none !important; }`\n",
              "     so we also need the `!important` here to be able to override the\n",
              "     default hidden behavior on the sphinx rendered scikit-learn.org.\n",
              "     See: https://github.com/scikit-learn/scikit-learn/issues/21755 */\n",
              "  display: inline-block !important;\n",
              "  position: relative;\n",
              "}\n",
              "\n",
              "#sk-container-id-1 div.sk-text-repr-fallback {\n",
              "  display: none;\n",
              "}\n",
              "\n",
              "div.sk-parallel-item,\n",
              "div.sk-serial,\n",
              "div.sk-item {\n",
              "  /* draw centered vertical line to link estimators */\n",
              "  background-image: linear-gradient(var(--sklearn-color-text-on-default-background), var(--sklearn-color-text-on-default-background));\n",
              "  background-size: 2px 100%;\n",
              "  background-repeat: no-repeat;\n",
              "  background-position: center center;\n",
              "}\n",
              "\n",
              "/* Parallel-specific style estimator block */\n",
              "\n",
              "#sk-container-id-1 div.sk-parallel-item::after {\n",
              "  content: \"\";\n",
              "  width: 100%;\n",
              "  border-bottom: 2px solid var(--sklearn-color-text-on-default-background);\n",
              "  flex-grow: 1;\n",
              "}\n",
              "\n",
              "#sk-container-id-1 div.sk-parallel {\n",
              "  display: flex;\n",
              "  align-items: stretch;\n",
              "  justify-content: center;\n",
              "  background-color: var(--sklearn-color-background);\n",
              "  position: relative;\n",
              "}\n",
              "\n",
              "#sk-container-id-1 div.sk-parallel-item {\n",
              "  display: flex;\n",
              "  flex-direction: column;\n",
              "}\n",
              "\n",
              "#sk-container-id-1 div.sk-parallel-item:first-child::after {\n",
              "  align-self: flex-end;\n",
              "  width: 50%;\n",
              "}\n",
              "\n",
              "#sk-container-id-1 div.sk-parallel-item:last-child::after {\n",
              "  align-self: flex-start;\n",
              "  width: 50%;\n",
              "}\n",
              "\n",
              "#sk-container-id-1 div.sk-parallel-item:only-child::after {\n",
              "  width: 0;\n",
              "}\n",
              "\n",
              "/* Serial-specific style estimator block */\n",
              "\n",
              "#sk-container-id-1 div.sk-serial {\n",
              "  display: flex;\n",
              "  flex-direction: column;\n",
              "  align-items: center;\n",
              "  background-color: var(--sklearn-color-background);\n",
              "  padding-right: 1em;\n",
              "  padding-left: 1em;\n",
              "}\n",
              "\n",
              "\n",
              "/* Toggleable style: style used for estimator/Pipeline/ColumnTransformer box that is\n",
              "clickable and can be expanded/collapsed.\n",
              "- Pipeline and ColumnTransformer use this feature and define the default style\n",
              "- Estimators will overwrite some part of the style using the `sk-estimator` class\n",
              "*/\n",
              "\n",
              "/* Pipeline and ColumnTransformer style (default) */\n",
              "\n",
              "#sk-container-id-1 div.sk-toggleable {\n",
              "  /* Default theme specific background. It is overwritten whether we have a\n",
              "  specific estimator or a Pipeline/ColumnTransformer */\n",
              "  background-color: var(--sklearn-color-background);\n",
              "}\n",
              "\n",
              "/* Toggleable label */\n",
              "#sk-container-id-1 label.sk-toggleable__label {\n",
              "  cursor: pointer;\n",
              "  display: flex;\n",
              "  width: 100%;\n",
              "  margin-bottom: 0;\n",
              "  padding: 0.5em;\n",
              "  box-sizing: border-box;\n",
              "  text-align: center;\n",
              "  align-items: start;\n",
              "  justify-content: space-between;\n",
              "  gap: 0.5em;\n",
              "}\n",
              "\n",
              "#sk-container-id-1 label.sk-toggleable__label .caption {\n",
              "  font-size: 0.6rem;\n",
              "  font-weight: lighter;\n",
              "  color: var(--sklearn-color-text-muted);\n",
              "}\n",
              "\n",
              "#sk-container-id-1 label.sk-toggleable__label-arrow:before {\n",
              "  /* Arrow on the left of the label */\n",
              "  content: \"▸\";\n",
              "  float: left;\n",
              "  margin-right: 0.25em;\n",
              "  color: var(--sklearn-color-icon);\n",
              "}\n",
              "\n",
              "#sk-container-id-1 label.sk-toggleable__label-arrow:hover:before {\n",
              "  color: var(--sklearn-color-text);\n",
              "}\n",
              "\n",
              "/* Toggleable content - dropdown */\n",
              "\n",
              "#sk-container-id-1 div.sk-toggleable__content {\n",
              "  max-height: 0;\n",
              "  max-width: 0;\n",
              "  overflow: hidden;\n",
              "  text-align: left;\n",
              "  /* unfitted */\n",
              "  background-color: var(--sklearn-color-unfitted-level-0);\n",
              "}\n",
              "\n",
              "#sk-container-id-1 div.sk-toggleable__content.fitted {\n",
              "  /* fitted */\n",
              "  background-color: var(--sklearn-color-fitted-level-0);\n",
              "}\n",
              "\n",
              "#sk-container-id-1 div.sk-toggleable__content pre {\n",
              "  margin: 0.2em;\n",
              "  border-radius: 0.25em;\n",
              "  color: var(--sklearn-color-text);\n",
              "  /* unfitted */\n",
              "  background-color: var(--sklearn-color-unfitted-level-0);\n",
              "}\n",
              "\n",
              "#sk-container-id-1 div.sk-toggleable__content.fitted pre {\n",
              "  /* unfitted */\n",
              "  background-color: var(--sklearn-color-fitted-level-0);\n",
              "}\n",
              "\n",
              "#sk-container-id-1 input.sk-toggleable__control:checked~div.sk-toggleable__content {\n",
              "  /* Expand drop-down */\n",
              "  max-height: 200px;\n",
              "  max-width: 100%;\n",
              "  overflow: auto;\n",
              "}\n",
              "\n",
              "#sk-container-id-1 input.sk-toggleable__control:checked~label.sk-toggleable__label-arrow:before {\n",
              "  content: \"▾\";\n",
              "}\n",
              "\n",
              "/* Pipeline/ColumnTransformer-specific style */\n",
              "\n",
              "#sk-container-id-1 div.sk-label input.sk-toggleable__control:checked~label.sk-toggleable__label {\n",
              "  color: var(--sklearn-color-text);\n",
              "  background-color: var(--sklearn-color-unfitted-level-2);\n",
              "}\n",
              "\n",
              "#sk-container-id-1 div.sk-label.fitted input.sk-toggleable__control:checked~label.sk-toggleable__label {\n",
              "  background-color: var(--sklearn-color-fitted-level-2);\n",
              "}\n",
              "\n",
              "/* Estimator-specific style */\n",
              "\n",
              "/* Colorize estimator box */\n",
              "#sk-container-id-1 div.sk-estimator input.sk-toggleable__control:checked~label.sk-toggleable__label {\n",
              "  /* unfitted */\n",
              "  background-color: var(--sklearn-color-unfitted-level-2);\n",
              "}\n",
              "\n",
              "#sk-container-id-1 div.sk-estimator.fitted input.sk-toggleable__control:checked~label.sk-toggleable__label {\n",
              "  /* fitted */\n",
              "  background-color: var(--sklearn-color-fitted-level-2);\n",
              "}\n",
              "\n",
              "#sk-container-id-1 div.sk-label label.sk-toggleable__label,\n",
              "#sk-container-id-1 div.sk-label label {\n",
              "  /* The background is the default theme color */\n",
              "  color: var(--sklearn-color-text-on-default-background);\n",
              "}\n",
              "\n",
              "/* On hover, darken the color of the background */\n",
              "#sk-container-id-1 div.sk-label:hover label.sk-toggleable__label {\n",
              "  color: var(--sklearn-color-text);\n",
              "  background-color: var(--sklearn-color-unfitted-level-2);\n",
              "}\n",
              "\n",
              "/* Label box, darken color on hover, fitted */\n",
              "#sk-container-id-1 div.sk-label.fitted:hover label.sk-toggleable__label.fitted {\n",
              "  color: var(--sklearn-color-text);\n",
              "  background-color: var(--sklearn-color-fitted-level-2);\n",
              "}\n",
              "\n",
              "/* Estimator label */\n",
              "\n",
              "#sk-container-id-1 div.sk-label label {\n",
              "  font-family: monospace;\n",
              "  font-weight: bold;\n",
              "  display: inline-block;\n",
              "  line-height: 1.2em;\n",
              "}\n",
              "\n",
              "#sk-container-id-1 div.sk-label-container {\n",
              "  text-align: center;\n",
              "}\n",
              "\n",
              "/* Estimator-specific */\n",
              "#sk-container-id-1 div.sk-estimator {\n",
              "  font-family: monospace;\n",
              "  border: 1px dotted var(--sklearn-color-border-box);\n",
              "  border-radius: 0.25em;\n",
              "  box-sizing: border-box;\n",
              "  margin-bottom: 0.5em;\n",
              "  /* unfitted */\n",
              "  background-color: var(--sklearn-color-unfitted-level-0);\n",
              "}\n",
              "\n",
              "#sk-container-id-1 div.sk-estimator.fitted {\n",
              "  /* fitted */\n",
              "  background-color: var(--sklearn-color-fitted-level-0);\n",
              "}\n",
              "\n",
              "/* on hover */\n",
              "#sk-container-id-1 div.sk-estimator:hover {\n",
              "  /* unfitted */\n",
              "  background-color: var(--sklearn-color-unfitted-level-2);\n",
              "}\n",
              "\n",
              "#sk-container-id-1 div.sk-estimator.fitted:hover {\n",
              "  /* fitted */\n",
              "  background-color: var(--sklearn-color-fitted-level-2);\n",
              "}\n",
              "\n",
              "/* Specification for estimator info (e.g. \"i\" and \"?\") */\n",
              "\n",
              "/* Common style for \"i\" and \"?\" */\n",
              "\n",
              ".sk-estimator-doc-link,\n",
              "a:link.sk-estimator-doc-link,\n",
              "a:visited.sk-estimator-doc-link {\n",
              "  float: right;\n",
              "  font-size: smaller;\n",
              "  line-height: 1em;\n",
              "  font-family: monospace;\n",
              "  background-color: var(--sklearn-color-background);\n",
              "  border-radius: 1em;\n",
              "  height: 1em;\n",
              "  width: 1em;\n",
              "  text-decoration: none !important;\n",
              "  margin-left: 0.5em;\n",
              "  text-align: center;\n",
              "  /* unfitted */\n",
              "  border: var(--sklearn-color-unfitted-level-1) 1pt solid;\n",
              "  color: var(--sklearn-color-unfitted-level-1);\n",
              "}\n",
              "\n",
              ".sk-estimator-doc-link.fitted,\n",
              "a:link.sk-estimator-doc-link.fitted,\n",
              "a:visited.sk-estimator-doc-link.fitted {\n",
              "  /* fitted */\n",
              "  border: var(--sklearn-color-fitted-level-1) 1pt solid;\n",
              "  color: var(--sklearn-color-fitted-level-1);\n",
              "}\n",
              "\n",
              "/* On hover */\n",
              "div.sk-estimator:hover .sk-estimator-doc-link:hover,\n",
              ".sk-estimator-doc-link:hover,\n",
              "div.sk-label-container:hover .sk-estimator-doc-link:hover,\n",
              ".sk-estimator-doc-link:hover {\n",
              "  /* unfitted */\n",
              "  background-color: var(--sklearn-color-unfitted-level-3);\n",
              "  color: var(--sklearn-color-background);\n",
              "  text-decoration: none;\n",
              "}\n",
              "\n",
              "div.sk-estimator.fitted:hover .sk-estimator-doc-link.fitted:hover,\n",
              ".sk-estimator-doc-link.fitted:hover,\n",
              "div.sk-label-container:hover .sk-estimator-doc-link.fitted:hover,\n",
              ".sk-estimator-doc-link.fitted:hover {\n",
              "  /* fitted */\n",
              "  background-color: var(--sklearn-color-fitted-level-3);\n",
              "  color: var(--sklearn-color-background);\n",
              "  text-decoration: none;\n",
              "}\n",
              "\n",
              "/* Span, style for the box shown on hovering the info icon */\n",
              ".sk-estimator-doc-link span {\n",
              "  display: none;\n",
              "  z-index: 9999;\n",
              "  position: relative;\n",
              "  font-weight: normal;\n",
              "  right: .2ex;\n",
              "  padding: .5ex;\n",
              "  margin: .5ex;\n",
              "  width: min-content;\n",
              "  min-width: 20ex;\n",
              "  max-width: 50ex;\n",
              "  color: var(--sklearn-color-text);\n",
              "  box-shadow: 2pt 2pt 4pt #999;\n",
              "  /* unfitted */\n",
              "  background: var(--sklearn-color-unfitted-level-0);\n",
              "  border: .5pt solid var(--sklearn-color-unfitted-level-3);\n",
              "}\n",
              "\n",
              ".sk-estimator-doc-link.fitted span {\n",
              "  /* fitted */\n",
              "  background: var(--sklearn-color-fitted-level-0);\n",
              "  border: var(--sklearn-color-fitted-level-3);\n",
              "}\n",
              "\n",
              ".sk-estimator-doc-link:hover span {\n",
              "  display: block;\n",
              "}\n",
              "\n",
              "/* \"?\"-specific style due to the `<a>` HTML tag */\n",
              "\n",
              "#sk-container-id-1 a.estimator_doc_link {\n",
              "  float: right;\n",
              "  font-size: 1rem;\n",
              "  line-height: 1em;\n",
              "  font-family: monospace;\n",
              "  background-color: var(--sklearn-color-background);\n",
              "  border-radius: 1rem;\n",
              "  height: 1rem;\n",
              "  width: 1rem;\n",
              "  text-decoration: none;\n",
              "  /* unfitted */\n",
              "  color: var(--sklearn-color-unfitted-level-1);\n",
              "  border: var(--sklearn-color-unfitted-level-1) 1pt solid;\n",
              "}\n",
              "\n",
              "#sk-container-id-1 a.estimator_doc_link.fitted {\n",
              "  /* fitted */\n",
              "  border: var(--sklearn-color-fitted-level-1) 1pt solid;\n",
              "  color: var(--sklearn-color-fitted-level-1);\n",
              "}\n",
              "\n",
              "/* On hover */\n",
              "#sk-container-id-1 a.estimator_doc_link:hover {\n",
              "  /* unfitted */\n",
              "  background-color: var(--sklearn-color-unfitted-level-3);\n",
              "  color: var(--sklearn-color-background);\n",
              "  text-decoration: none;\n",
              "}\n",
              "\n",
              "#sk-container-id-1 a.estimator_doc_link.fitted:hover {\n",
              "  /* fitted */\n",
              "  background-color: var(--sklearn-color-fitted-level-3);\n",
              "}\n",
              "</style><div id=\"sk-container-id-1\" class=\"sk-top-container\"><div class=\"sk-text-repr-fallback\"><pre>LogisticRegression(random_state=0)</pre><b>In a Jupyter environment, please rerun this cell to show the HTML representation or trust the notebook. <br />On GitHub, the HTML representation is unable to render, please try loading this page with nbviewer.org.</b></div><div class=\"sk-container\" hidden><div class=\"sk-item\"><div class=\"sk-estimator fitted sk-toggleable\"><input class=\"sk-toggleable__control sk-hidden--visually\" id=\"sk-estimator-id-1\" type=\"checkbox\" checked><label for=\"sk-estimator-id-1\" class=\"sk-toggleable__label fitted sk-toggleable__label-arrow\"><div><div>LogisticRegression</div></div><div><a class=\"sk-estimator-doc-link fitted\" rel=\"noreferrer\" target=\"_blank\" href=\"https://scikit-learn.org/1.6/modules/generated/sklearn.linear_model.LogisticRegression.html\">?<span>Documentation for LogisticRegression</span></a><span class=\"sk-estimator-doc-link fitted\">i<span>Fitted</span></span></div></label><div class=\"sk-toggleable__content fitted\"><pre>LogisticRegression(random_state=0)</pre></div> </div></div></div></div>"
            ]
          },
          "metadata": {},
          "execution_count": 5
        }
      ]
    },
    {
      "cell_type": "markdown",
      "source": [
        "Você deve receber um aviso de que o algoritmo não convergiu. Não se preocupe, isso significa que ou o algoritmo ou os parâmetros utilizados não são adequados para nosso dataset, mas isso faz parte da nossa pesquisa pelo melhor classificador."
      ],
      "metadata": {
        "id": "HYejX-eMyWe3"
      }
    },
    {
      "cell_type": "markdown",
      "source": [
        "Exiba os interceptos determinados pelo algoritmo."
      ],
      "metadata": {
        "id": "2fA6g2cc-S-T"
      }
    },
    {
      "cell_type": "code",
      "source": [
        "lr_classifier.intercept_"
      ],
      "metadata": {
        "id": "vk08bSXA-BE_",
        "outputId": "a5db53ce-dd11-4628-83ae-5208e1d301d6",
        "colab": {
          "base_uri": "https://localhost:8080/"
        }
      },
      "execution_count": 6,
      "outputs": [
        {
          "output_type": "execute_result",
          "data": {
            "text/plain": [
              "array([ 0.39444079, -4.48811593, -1.4396563 , -1.41949224,  4.86885562,\n",
              "       -2.00531638,  4.08928444])"
            ]
          },
          "metadata": {},
          "execution_count": 6
        }
      ]
    },
    {
      "cell_type": "markdown",
      "source": [
        "Exiba os coeficientes determinados pelo algoritmo."
      ],
      "metadata": {
        "id": "_Jgap-oU-VPg"
      }
    },
    {
      "cell_type": "code",
      "source": [
        "lr_classifier.coef_"
      ],
      "metadata": {
        "id": "v2SPJRGi-DNO",
        "outputId": "27dca370-3f49-495b-e2c6-3f0715deef0d",
        "colab": {
          "base_uri": "https://localhost:8080/"
        }
      },
      "execution_count": 7,
      "outputs": [
        {
          "output_type": "execute_result",
          "data": {
            "text/plain": [
              "array([[-1.46217758e-01,  3.36102785e-04,  7.22845111e-02,\n",
              "        -2.68201907e-01,  3.32154775e-01, -7.21473231e-01,\n",
              "         1.02185225e-01,  2.22835747e-01, -1.17098886e-01,\n",
              "        -1.03706102e-01,  1.19386381e+00, -2.51263295e-01,\n",
              "         4.96009198e-01, -1.21807388e+00, -7.30220638e-02,\n",
              "         1.07869550e-01, -8.99101763e-01, -1.87136725e-01,\n",
              "        -5.38809199e-02, -3.81577594e-01, -1.40469868e-03,\n",
              "        -6.91773475e-03, -6.00401154e-01, -2.11182717e-02,\n",
              "         5.95753310e-01, -9.12934932e-01,  8.31664468e-01,\n",
              "        -7.54425285e-02, -3.35080338e-01,  1.11504574e+00,\n",
              "         7.80162545e-01,  3.18536583e-01, -3.62044414e-01,\n",
              "        -4.03360310e-02, -5.56288652e-01, -2.14035688e-02,\n",
              "        -2.14297285e-01, -7.15625216e-03, -2.58668412e-01,\n",
              "        -1.12610387e-01, -1.86682567e-01,  6.73278334e-01,\n",
              "         1.26505543e+00,  7.52185896e-01, -2.21607618e-01,\n",
              "        -3.00112397e-01, -1.53134892e-01, -1.01407564e-02,\n",
              "        -2.22837453e-03, -9.33364011e-04, -7.73314578e-02,\n",
              "        -1.06897429e-01, -3.91234439e-02],\n",
              "       [-3.91219200e+00,  1.49156077e-01,  5.31526515e-02,\n",
              "         5.07964392e-02,  2.67506028e-01,  1.07796126e+00,\n",
              "         6.19961352e-01,  7.70894106e-01, -3.38695246e-01,\n",
              "        -2.97544083e-01, -8.28334951e-01, -7.45301586e-02,\n",
              "        -2.03159110e+00,  9.83394270e-01, -9.75186629e-01,\n",
              "        -1.91190784e-01,  1.26391580e+00,  1.89169760e-01,\n",
              "        -1.08196505e+00, -4.47836388e-01, -1.74174929e-04,\n",
              "        -5.98175335e-04, -7.19174384e-02, -1.03511856e+00,\n",
              "        -1.46601035e-01, -9.41372781e-02, -9.84903958e-02,\n",
              "         3.87508860e-01,  5.01209110e-01,  1.01572399e+00,\n",
              "        -5.92247096e-02, -1.13751539e-02, -7.60226405e-02,\n",
              "        -1.75365895e-03, -7.06504413e-02, -1.27448636e-01,\n",
              "        -4.94443994e-02, -1.46260541e-03, -7.67586105e-03,\n",
              "        -2.58399072e-03, -2.75282314e-03, -2.06985499e-01,\n",
              "        -1.99612887e-01, -6.59166841e-02, -9.92205622e-02,\n",
              "        -1.23166994e-01, -5.13331899e-03, -3.30056227e-03,\n",
              "        -2.96512172e-04, -5.45432752e-04, -1.96878499e-02,\n",
              "        -2.01907357e-02, -1.09215838e-02],\n",
              "       [-2.86225478e+00, -5.72859778e-02, -4.74968947e-01,\n",
              "         1.29000408e-01,  7.74459788e-02,  1.49565931e-01,\n",
              "         3.39637975e-01, -7.63787843e-01,  9.57659133e-01,\n",
              "         3.52693654e-01, -1.92170211e+00, -8.48907352e-02,\n",
              "         7.94900344e-01,  6.73351675e-01,  8.23446680e-01,\n",
              "         1.92084527e-01, -1.83226462e-01, -3.15268027e-01,\n",
              "         8.03448215e-01, -3.90692339e-01, -4.73234842e-04,\n",
              "        -1.89413498e-03, -1.43645417e-01,  2.18271797e-01,\n",
              "        -1.21662390e+00, -2.30903295e-01,  6.33238025e-01,\n",
              "         8.12465302e-01,  4.11502861e-01, -5.95605524e-01,\n",
              "        -4.55227272e-01, -1.49645057e-01, -3.02985102e-01,\n",
              "        -5.93358374e-03, -1.59367421e-01, -1.30176971e-02,\n",
              "        -9.13064575e-02, -1.02781171e-03, -1.72525799e-01,\n",
              "        -3.58848665e-03, -2.22778172e-01, -4.08025092e-01,\n",
              "        -2.60846089e-01, -6.55456622e-01,  1.01598246e+00,\n",
              "         6.61256257e-01, -8.13760668e-02, -2.63697333e-03,\n",
              "        -2.02970527e-04, -3.91481053e-04, -1.61350395e-02,\n",
              "        -2.02132211e-02, -9.01820401e-03],\n",
              "       [ 6.28604990e+00,  2.89090190e-01, -1.93093143e-01,\n",
              "        -5.36774372e-01, -4.11284185e-01, -3.52622457e-01,\n",
              "        -2.62216397e-01, -3.93021717e-01, -4.84947979e-01,\n",
              "         3.11419661e-01, -1.44175270e-02, -1.01849316e+00,\n",
              "         6.73813612e-01, -4.05136662e-02, -2.33721920e-03,\n",
              "        -1.32640053e-02, -4.93175766e-03, -3.57071585e-02,\n",
              "        -1.84177058e-03, -8.96501614e-03, -2.79779548e-04,\n",
              "        -1.47758904e-03, -1.42970415e-03, -7.01751302e-02,\n",
              "        -3.69687802e-02, -6.36607060e-02, -5.91771045e-01,\n",
              "        -6.18151575e-04, -3.66453039e-02, -1.27574446e-02,\n",
              "        -8.49260088e-03, -2.88698024e-01, -1.22493876e-01,\n",
              "        -3.50304534e-01, -4.04959424e-01, -5.85441829e-01,\n",
              "        -7.67848314e-01, -2.05630215e-01, -4.22720211e-02,\n",
              "        -1.63634194e-01, -2.86936483e-03, -2.88186452e-01,\n",
              "        -2.10029497e-01, -1.42574285e+00, -1.12388752e+00,\n",
              "        -2.04443920e-01, -4.42686496e-01,  1.45002827e+00,\n",
              "         6.80347798e-01,  1.53222456e+00,  1.00762699e+00,\n",
              "         1.63583874e+00,  8.14774585e-01],\n",
              "       [ 6.95916989e-01, -2.27974578e-01,  2.10173202e-01,\n",
              "         2.50407809e-01, -1.88735126e-01, -1.79029279e-01,\n",
              "        -2.75595680e-01,  2.36189936e-01,  3.45704800e-02,\n",
              "         1.56372399e-01,  1.28152019e+00,  1.09783188e+00,\n",
              "        -1.87446908e-01, -3.74423167e-01, -3.44154640e-01,\n",
              "        -9.47821324e-01, -7.81441477e-01, -9.63701004e-01,\n",
              "        -2.25117813e-01,  6.66769376e-01,  1.41906567e-01,\n",
              "         7.15912410e-03, -6.33793255e-02,  2.87405000e-01,\n",
              "         3.63132171e-01,  1.12727356e+00,  2.69855796e-01,\n",
              "        -1.70880489e-01,  4.89325357e-01, -8.53066305e-01,\n",
              "        -1.84886866e-01,  8.94974491e-02,  4.74489150e-01,\n",
              "        -7.70829055e-01,  3.07003412e-01,  3.43067560e-01,\n",
              "         7.51491102e-01,  9.16727416e-01,  6.01237221e-01,\n",
              "        -3.00719175e-01,  6.12785962e-01,  4.90779439e-01,\n",
              "        -2.05263114e-02,  8.56714932e-01,  7.15982201e-01,\n",
              "         6.94786214e-01,  1.18542835e+00, -8.56598061e-01,\n",
              "        -3.62846074e-01, -1.52039126e-01, -6.33602927e-01,\n",
              "        -1.43888478e+00, -5.04840608e-01],\n",
              "       [-3.10760051e+00,  6.28637460e-02,  1.53644157e-01,\n",
              "         5.80172120e-01,  1.07515472e-01,  3.41495069e-01,\n",
              "        -5.82363848e-01,  4.57501426e-01, -7.27877619e-01,\n",
              "        -6.34551405e-01, -1.21833432e+00, -7.05409151e-02,\n",
              "         3.29213902e-01,  2.53893241e-01,  5.74957804e-01,\n",
              "         1.50813257e+00,  8.26698310e-01,  1.94321615e+00,\n",
              "         5.60967439e-01,  6.45698558e-01, -6.73266452e-05,\n",
              "        -2.80366031e-04, -1.50976485e-01,  4.15489653e-01,\n",
              "         4.50969616e-02, -1.46127356e-01, -6.44468423e-01,\n",
              "        -9.50573414e-01, -5.39934393e-01,  1.34188713e-01,\n",
              "        -6.31909534e-02, -3.65759088e-02, -6.70760788e-01,\n",
              "        -2.92406156e-03, -1.12457415e-01, -2.98080102e-01,\n",
              "        -4.00352440e-01, -1.16055624e-03, -6.80436424e-02,\n",
              "        -9.23190305e-03, -3.09176110e-01, -3.18035635e-01,\n",
              "        -3.27309970e-01, -4.70144086e-01, -3.82966625e-01,\n",
              "        -1.34446589e+00, -7.10196338e-02, -1.92347709e-03,\n",
              "        -2.14592372e-04, -2.54929509e-04, -1.14160573e-02,\n",
              "        -2.06984352e-02, -7.38327536e-03],\n",
              "       [ 3.04629816e+00, -2.16185560e-01,  1.78807569e-01,\n",
              "        -2.05400498e-01, -1.84602943e-01, -3.15897292e-01,\n",
              "         5.83913721e-02, -5.30611655e-01,  6.76390117e-01,\n",
              "         2.15315876e-01,  1.50740491e+00,  4.01886383e-01,\n",
              "        -7.48990519e-02, -2.77628470e-01, -3.70393185e-03,\n",
              "        -6.55810534e-01, -2.21912647e-01, -6.30572995e-01,\n",
              "        -1.61009820e-03, -8.33965966e-02, -1.39507352e-01,\n",
              "         4.00887604e-03,  1.03174953e+00,  2.05245508e-01,\n",
              "         3.96211268e-01,  3.20490012e-01, -4.00028425e-01,\n",
              "        -2.45957851e-03, -4.90377293e-01, -8.03529168e-01,\n",
              "        -9.14014325e-03,  7.82601116e-02,  1.05981767e+00,\n",
              "         1.17208092e+00,  9.96719941e-01,  7.02324272e-01,\n",
              "         7.71757793e-01, -7.00289976e-01, -5.20514854e-02,\n",
              "         5.92368136e-01,  1.11473075e-01,  5.71749050e-02,\n",
              "        -2.46730675e-01,  1.00835941e+00,  9.57176621e-02,\n",
              "         6.16146726e-01, -4.32077941e-01, -5.75428444e-01,\n",
              "        -3.14559274e-01, -1.37806023e+00, -2.49453658e-01,\n",
              "        -2.89541387e-02, -2.43487470e-01]])"
            ]
          },
          "metadata": {},
          "execution_count": 7
        }
      ]
    },
    {
      "cell_type": "markdown",
      "source": [
        "Observe que, como este dataset representa um problema com mais de uma classe, cada uma as 7 classes apresenta sua própria coleção de coeficientes para os 54 atributos:"
      ],
      "metadata": {
        "id": "XpsF61TD-aIp"
      }
    },
    {
      "cell_type": "code",
      "source": [
        "lr_classifier.coef_.shape"
      ],
      "metadata": {
        "id": "nB0DSWYs-au8",
        "outputId": "577c78c3-f424-482f-d5f8-364c3ba5257c",
        "colab": {
          "base_uri": "https://localhost:8080/"
        }
      },
      "execution_count": 8,
      "outputs": [
        {
          "output_type": "execute_result",
          "data": {
            "text/plain": [
              "(7, 53)"
            ]
          },
          "metadata": {},
          "execution_count": 8
        }
      ]
    },
    {
      "cell_type": "markdown",
      "source": [
        "Faça e exiba a predição no split de teste."
      ],
      "metadata": {
        "id": "4qG7Rmp87T5-"
      }
    },
    {
      "cell_type": "code",
      "source": [
        "y_pred = lr_classifier.predict(X_test)"
      ],
      "metadata": {
        "id": "j1vGYUekjNIR"
      },
      "execution_count": 9,
      "outputs": []
    },
    {
      "cell_type": "code",
      "source": [
        "y_pred"
      ],
      "metadata": {
        "id": "UXjEK-eJjWPO",
        "outputId": "c63735d4-7b02-468c-98bf-c4a677d6e891",
        "colab": {
          "base_uri": "https://localhost:8080/"
        }
      },
      "execution_count": 10,
      "outputs": [
        {
          "output_type": "execute_result",
          "data": {
            "text/plain": [
              "array([4, 4, 1, ..., 4, 6, 5])"
            ]
          },
          "metadata": {},
          "execution_count": 10
        }
      ]
    },
    {
      "cell_type": "markdown",
      "source": [
        "Calcule a acurácia."
      ],
      "metadata": {
        "id": "Vubt3uTL7YCy"
      }
    },
    {
      "cell_type": "code",
      "source": [
        "accuracy_score(y_test, y_pred)"
      ],
      "metadata": {
        "id": "hXg217cVchCn",
        "outputId": "e6ac8025-8d93-459c-ca7e-d2502b0a1ad1",
        "colab": {
          "base_uri": "https://localhost:8080/"
        }
      },
      "execution_count": 11,
      "outputs": [
        {
          "output_type": "execute_result",
          "data": {
            "text/plain": [
              "0.7216"
            ]
          },
          "metadata": {},
          "execution_count": 11
        }
      ]
    },
    {
      "cell_type": "markdown",
      "source": [
        "Exiba a matriz de confusão."
      ],
      "metadata": {
        "id": "r0-h03rX7Zqd"
      }
    },
    {
      "cell_type": "code",
      "source": [
        "cm = ConfusionMatrix(lr_classifier)\n",
        "cm.fit(X_train, y_train)\n",
        "cm.score(X_test, y_test)"
      ],
      "metadata": {
        "id": "u3JVQij3cztC",
        "outputId": "b43ca288-018c-47f4-9b6a-26f73d3d86fb",
        "colab": {
          "base_uri": "https://localhost:8080/",
          "height": 497
        }
      },
      "execution_count": 14,
      "outputs": [
        {
          "output_type": "execute_result",
          "data": {
            "text/plain": [
              "0.7216"
            ]
          },
          "metadata": {},
          "execution_count": 14
        },
        {
          "output_type": "display_data",
          "data": {
            "text/plain": [
              "<Figure size 800x550 with 1 Axes>"
            ],
            "image/png": "[encoded data removed]"
          },
          "metadata": {}
        }
      ]
    },
    {
      "cell_type": "markdown",
      "source": [
        "Exiba o reporte de classificação."
      ],
      "metadata": {
        "id": "0lG9940C7bqy"
      }
    },
    {
      "cell_type": "code",
      "source": [
        "print(classification_report(y_test, y_pred))"
      ],
      "metadata": {
        "id": "qnoMxdw2j0Ln",
        "outputId": "f692e157-4e8c-45bd-d285-0c67d331a42e",
        "colab": {
          "base_uri": "https://localhost:8080/"
        }
      },
      "execution_count": 16,
      "outputs": [
        {
          "output_type": "stream",
          "name": "stdout",
          "text": [
            "              precision    recall  f1-score   support\n",
            "\n",
            "           0       0.00      0.00      0.00        34\n",
            "           1       0.56      0.62      0.59        16\n",
            "           2       0.43      0.22      0.29        67\n",
            "           3       0.80      0.49      0.61        87\n",
            "           4       0.76      0.79      0.77      1230\n",
            "           5       0.66      0.75      0.70       156\n",
            "           6       0.70      0.71      0.70       910\n",
            "\n",
            "    accuracy                           0.72      2500\n",
            "   macro avg       0.56      0.51      0.52      2500\n",
            "weighted avg       0.71      0.72      0.71      2500\n",
            "\n"
          ]
        }
      ]
    }
  ]
}