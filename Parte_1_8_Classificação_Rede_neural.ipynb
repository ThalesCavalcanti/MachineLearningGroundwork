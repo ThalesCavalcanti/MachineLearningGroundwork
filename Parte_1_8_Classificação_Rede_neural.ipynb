{
  "nbformat": 4,
  "nbformat_minor": 0,
  "metadata": {
    "colab": {
      "provenance": [],
      "include_colab_link": true
    },
    "kernelspec": {
      "name": "python3",
      "display_name": "Python 3"
    },
    "language_info": {
      "name": "python"
    }
  },
  "cells": [
    {
      "cell_type": "markdown",
      "metadata": {
        "id": "view-in-github",
        "colab_type": "text"
      },
      "source": [
        "<a href=\"https://colab.research.google.com/github/ThalesCavalcanti/MachineLearningGroundwork/blob/main/Parte_1_8_Classificac%CC%A7a%CC%83o_Rede_neural.ipynb\" target=\"_parent\"><img src=\"https://colab.research.google.com/assets/colab-badge.svg\" alt=\"Open In Colab\"/></a>"
      ]
    },
    {
      "cell_type": "markdown",
      "metadata": {
        "id": "e1TOzrpdTD49"
      },
      "source": [
        "---\n",
        "\n",
        "Reconecte ao Drive."
      ]
    },
    {
      "cell_type": "code",
      "execution_count": 1,
      "metadata": {
        "id": "60gkOY_gTDjz",
        "outputId": "d44907f7-8520-464f-e9dc-31869e9c66ef",
        "colab": {
          "base_uri": "https://localhost:8080/"
        }
      },
      "outputs": [
        {
          "output_type": "stream",
          "name": "stdout",
          "text": [
            "Mounted at /content/drive\n"
          ]
        }
      ],
      "source": [
        "from google.colab import drive\n",
        "drive.mount('/content/drive')"
      ]
    },
    {
      "cell_type": "code",
      "execution_count": 2,
      "metadata": {
        "id": "TW1LzILHTfAO"
      },
      "outputs": [],
      "source": [
        "import os\n",
        "DRIVE_DIRECTORY = \"curso_ml\"\n",
        "DRIVE_DIRECTORY = os.path.join(\"/content/drive/MyDrive/cursoML\", DRIVE_DIRECTORY)"
      ]
    },
    {
      "cell_type": "markdown",
      "source": [
        "---"
      ],
      "metadata": {
        "id": "SqoVMD-4bZgM"
      }
    },
    {
      "cell_type": "code",
      "source": [
        "import pickle\n",
        "\n",
        "from sklearn.metrics import accuracy_score, confusion_matrix, classification_report\n",
        "from sklearn.neural_network import MLPClassifier\n",
        "from yellowbrick.classifier import ConfusionMatrix"
      ],
      "metadata": {
        "id": "Ntswatwfhz2b"
      },
      "execution_count": 3,
      "outputs": []
    },
    {
      "cell_type": "markdown",
      "source": [
        "# Rede neural artificial"
      ],
      "metadata": {
        "id": "vJH9YCkYbsTx"
      }
    },
    {
      "cell_type": "markdown",
      "source": [
        "Comece recuperando os dados preditores, de treino e de teste, a partir do arquivo `cover_type.pkl` salvo na pasta do Drive. Lembre-se de que você deve instanciar as variáveis `X` e `y`, dos splits `train` e `test`,  na mesma ordem em que salvou."
      ],
      "metadata": {
        "id": "s6TKZJLVebmi"
      }
    },
    {
      "cell_type": "code",
      "execution_count": 6,
      "metadata": {
        "id": "aNgJo6OUaxO2"
      },
      "outputs": [],
      "source": [
        "with open(os.path.join(DRIVE_DIRECTORY, \"cover_type.pkl\"), \"rb\") as f:\n",
        "  (X_train,y_train,X_test,y_test)= pickle.load(f)"
      ]
    },
    {
      "cell_type": "markdown",
      "source": [
        "Instancie e ajuste um classificador do tipo `MLPClassifier`. Altere os valores padrão dos parâmetros, utilizando `verbose=True`, e `hidden_layer_sizes=(100, 50)`."
      ],
      "metadata": {
        "id": "u3msaiGa1UzZ"
      }
    },
    {
      "cell_type": "code",
      "source": [
        "mlp_classifier = MLPClassifier(verbose=True, hidden_layer_sizes=(100, 50))\n",
        "mlp_classifier.fit(X_train, y_train)"
      ],
      "metadata": {
        "id": "7zTG3qeU1D4E",
        "outputId": "5943381e-50e3-46f3-941e-f16f0f1f1b14",
        "colab": {
          "base_uri": "https://localhost:8080/",
          "height": 1000
        }
      },
      "execution_count": 7,
      "outputs": [
        {
          "output_type": "stream",
          "name": "stdout",
          "text": [
            "Iteration 1, loss = 1.26402939\n",
            "Iteration 2, loss = 0.87160392\n",
            "Iteration 3, loss = 0.74686892\n",
            "Iteration 4, loss = 0.69086976\n",
            "Iteration 5, loss = 0.66061251\n",
            "Iteration 6, loss = 0.63772244\n",
            "Iteration 7, loss = 0.62257325\n",
            "Iteration 8, loss = 0.61093412\n",
            "Iteration 9, loss = 0.59952584\n",
            "Iteration 10, loss = 0.59085512\n",
            "Iteration 11, loss = 0.58147857\n",
            "Iteration 12, loss = 0.57262264\n",
            "Iteration 13, loss = 0.56508435\n",
            "Iteration 14, loss = 0.55811753\n",
            "Iteration 15, loss = 0.55096088\n",
            "Iteration 16, loss = 0.54625219\n",
            "Iteration 17, loss = 0.53873804\n",
            "Iteration 18, loss = 0.53453527\n",
            "Iteration 19, loss = 0.52605885\n",
            "Iteration 20, loss = 0.52058985\n",
            "Iteration 21, loss = 0.51711959\n",
            "Iteration 22, loss = 0.51206996\n",
            "Iteration 23, loss = 0.50705144\n",
            "Iteration 24, loss = 0.50048516\n",
            "Iteration 25, loss = 0.49897887\n",
            "Iteration 26, loss = 0.49246581\n",
            "Iteration 27, loss = 0.49117783\n",
            "Iteration 28, loss = 0.48510693\n",
            "Iteration 29, loss = 0.48179688\n",
            "Iteration 30, loss = 0.47435147\n",
            "Iteration 31, loss = 0.47349411\n",
            "Iteration 32, loss = 0.47002944\n",
            "Iteration 33, loss = 0.46267139\n",
            "Iteration 34, loss = 0.46235744\n",
            "Iteration 35, loss = 0.45831173\n",
            "Iteration 36, loss = 0.45334970\n",
            "Iteration 37, loss = 0.45121582\n",
            "Iteration 38, loss = 0.44816497\n",
            "Iteration 39, loss = 0.44662866\n",
            "Iteration 40, loss = 0.44099275\n",
            "Iteration 41, loss = 0.43956965\n",
            "Iteration 42, loss = 0.43545083\n",
            "Iteration 43, loss = 0.43172682\n",
            "Iteration 44, loss = 0.42883304\n",
            "Iteration 45, loss = 0.42498075\n",
            "Iteration 46, loss = 0.42077054\n",
            "Iteration 47, loss = 0.41857838\n",
            "Iteration 48, loss = 0.41574516\n",
            "Iteration 49, loss = 0.41468630\n",
            "Iteration 50, loss = 0.41305494\n",
            "Iteration 51, loss = 0.40786596\n",
            "Iteration 52, loss = 0.40521531\n",
            "Iteration 53, loss = 0.40118605\n",
            "Iteration 54, loss = 0.40016741\n",
            "Iteration 55, loss = 0.40132321\n",
            "Iteration 56, loss = 0.39684814\n",
            "Iteration 57, loss = 0.39448510\n",
            "Iteration 58, loss = 0.38959821\n",
            "Iteration 59, loss = 0.38602416\n",
            "Iteration 60, loss = 0.38236041\n",
            "Iteration 61, loss = 0.38321125\n",
            "Iteration 62, loss = 0.38134818\n",
            "Iteration 63, loss = 0.37558422\n",
            "Iteration 64, loss = 0.37489293\n",
            "Iteration 65, loss = 0.37409691\n",
            "Iteration 66, loss = 0.37346720\n",
            "Iteration 67, loss = 0.36847113\n",
            "Iteration 68, loss = 0.36694846\n",
            "Iteration 69, loss = 0.36452152\n",
            "Iteration 70, loss = 0.36564380\n",
            "Iteration 71, loss = 0.35993890\n",
            "Iteration 72, loss = 0.35957970\n",
            "Iteration 73, loss = 0.35474083\n",
            "Iteration 74, loss = 0.35684100\n",
            "Iteration 75, loss = 0.35344980\n",
            "Iteration 76, loss = 0.35195489\n",
            "Iteration 77, loss = 0.34773639\n",
            "Iteration 78, loss = 0.34784406\n",
            "Iteration 79, loss = 0.34251035\n",
            "Iteration 80, loss = 0.34468676\n",
            "Iteration 81, loss = 0.34466994\n",
            "Iteration 82, loss = 0.34086426\n",
            "Iteration 83, loss = 0.33695364\n",
            "Iteration 84, loss = 0.33868281\n",
            "Iteration 85, loss = 0.33582714\n",
            "Iteration 86, loss = 0.33132395\n",
            "Iteration 87, loss = 0.33186493\n",
            "Iteration 88, loss = 0.32989769\n",
            "Iteration 89, loss = 0.32922968\n",
            "Iteration 90, loss = 0.32455752\n",
            "Iteration 91, loss = 0.32314805\n",
            "Iteration 92, loss = 0.32730565\n",
            "Iteration 93, loss = 0.32188393\n",
            "Iteration 94, loss = 0.31853530\n",
            "Iteration 95, loss = 0.31985613\n",
            "Iteration 96, loss = 0.32110186\n",
            "Iteration 97, loss = 0.31586790\n",
            "Iteration 98, loss = 0.31298038\n",
            "Iteration 99, loss = 0.31623975\n",
            "Iteration 100, loss = 0.30949944\n",
            "Iteration 101, loss = 0.30644824\n",
            "Iteration 102, loss = 0.30580008\n",
            "Iteration 103, loss = 0.30349351\n",
            "Iteration 104, loss = 0.30543618\n",
            "Iteration 105, loss = 0.29962880\n",
            "Iteration 106, loss = 0.29735700\n",
            "Iteration 107, loss = 0.29773061\n",
            "Iteration 108, loss = 0.29939327\n",
            "Iteration 109, loss = 0.30075271\n",
            "Iteration 110, loss = 0.30167500\n",
            "Iteration 111, loss = 0.29042784\n",
            "Iteration 112, loss = 0.29191412\n",
            "Iteration 113, loss = 0.29151788\n",
            "Iteration 114, loss = 0.28963753\n",
            "Iteration 115, loss = 0.28640477\n",
            "Iteration 116, loss = 0.28694662\n",
            "Iteration 117, loss = 0.28656132\n",
            "Iteration 118, loss = 0.28985661\n",
            "Iteration 119, loss = 0.28029414\n",
            "Iteration 120, loss = 0.27772744\n",
            "Iteration 121, loss = 0.28233707\n",
            "Iteration 122, loss = 0.27674804\n",
            "Iteration 123, loss = 0.27504820\n",
            "Iteration 124, loss = 0.27529303\n",
            "Iteration 125, loss = 0.27609583\n",
            "Iteration 126, loss = 0.26934873\n",
            "Iteration 127, loss = 0.26997411\n",
            "Iteration 128, loss = 0.26790773\n",
            "Iteration 129, loss = 0.27125638\n",
            "Iteration 130, loss = 0.26887290\n",
            "Iteration 131, loss = 0.26820538\n",
            "Iteration 132, loss = 0.27043399\n",
            "Iteration 133, loss = 0.26309012\n",
            "Iteration 134, loss = 0.26226995\n",
            "Iteration 135, loss = 0.26220635\n",
            "Iteration 136, loss = 0.26196828\n",
            "Iteration 137, loss = 0.26222877\n",
            "Iteration 138, loss = 0.25986722\n",
            "Iteration 139, loss = 0.25347941\n",
            "Iteration 140, loss = 0.25536970\n",
            "Iteration 141, loss = 0.25043459\n",
            "Iteration 142, loss = 0.25315874\n",
            "Iteration 143, loss = 0.25499123\n",
            "Iteration 144, loss = 0.24998480\n",
            "Iteration 145, loss = 0.25112512\n",
            "Iteration 146, loss = 0.25006537\n",
            "Iteration 147, loss = 0.24877977\n",
            "Iteration 148, loss = 0.24866352\n",
            "Iteration 149, loss = 0.24879162\n",
            "Iteration 150, loss = 0.25341966\n",
            "Iteration 151, loss = 0.24634946\n",
            "Iteration 152, loss = 0.24728246\n",
            "Iteration 153, loss = 0.23779736\n",
            "Iteration 154, loss = 0.24158155\n",
            "Iteration 155, loss = 0.24029455\n",
            "Iteration 156, loss = 0.23999051\n",
            "Iteration 157, loss = 0.24089276\n",
            "Iteration 158, loss = 0.23537977\n",
            "Iteration 159, loss = 0.23602099\n",
            "Iteration 160, loss = 0.23107539\n",
            "Iteration 161, loss = 0.23376015\n",
            "Iteration 162, loss = 0.23147705\n",
            "Iteration 163, loss = 0.22919760\n",
            "Iteration 164, loss = 0.22947373\n",
            "Iteration 165, loss = 0.23093262\n",
            "Iteration 166, loss = 0.23191868\n",
            "Iteration 167, loss = 0.22669224\n",
            "Iteration 168, loss = 0.22709975\n",
            "Iteration 169, loss = 0.23331683\n",
            "Iteration 170, loss = 0.23042997\n",
            "Iteration 171, loss = 0.22618384\n",
            "Iteration 172, loss = 0.22043346\n",
            "Iteration 173, loss = 0.22128984\n",
            "Iteration 174, loss = 0.21992462\n",
            "Iteration 175, loss = 0.21864632\n",
            "Iteration 176, loss = 0.22037319\n",
            "Iteration 177, loss = 0.21735708\n",
            "Iteration 178, loss = 0.22058745\n",
            "Iteration 179, loss = 0.21768071\n",
            "Iteration 180, loss = 0.21528718\n",
            "Iteration 181, loss = 0.21839953\n",
            "Iteration 182, loss = 0.21331495\n",
            "Iteration 183, loss = 0.21057794\n",
            "Iteration 184, loss = 0.21267364\n",
            "Iteration 185, loss = 0.21144342\n",
            "Iteration 186, loss = 0.20995683\n",
            "Iteration 187, loss = 0.21249199\n",
            "Iteration 188, loss = 0.21094404\n",
            "Iteration 189, loss = 0.20964729\n",
            "Iteration 190, loss = 0.20920015\n",
            "Iteration 191, loss = 0.20699495\n",
            "Iteration 192, loss = 0.20829041\n",
            "Iteration 193, loss = 0.20333385\n",
            "Iteration 194, loss = 0.20753669\n",
            "Iteration 195, loss = 0.20628919\n",
            "Iteration 196, loss = 0.20333528\n",
            "Iteration 197, loss = 0.20488299\n",
            "Iteration 198, loss = 0.20139478\n",
            "Iteration 199, loss = 0.19788962\n",
            "Iteration 200, loss = 0.19886629\n"
          ]
        },
        {
          "output_type": "stream",
          "name": "stderr",
          "text": [
            "/usr/local/lib/python3.11/dist-packages/sklearn/neural_network/_multilayer_perceptron.py:691: ConvergenceWarning: Stochastic Optimizer: Maximum iterations (200) reached and the optimization hasn't converged yet.\n",
            "  warnings.warn(\n"
          ]
        },
        {
          "output_type": "execute_result",
          "data": {
            "text/plain": [
              "MLPClassifier(hidden_layer_sizes=(100, 50), verbose=True)"
            ],
            "text/html": [
              "<style>#sk-container-id-1 {\n",
              "  /* Definition of color scheme common for light and dark mode */\n",
              "  --sklearn-color-text: #000;\n",
              "  --sklearn-color-text-muted: #666;\n",
              "  --sklearn-color-line: gray;\n",
              "  /* Definition of color scheme for unfitted estimators */\n",
              "  --sklearn-color-unfitted-level-0: #fff5e6;\n",
              "  --sklearn-color-unfitted-level-1: #f6e4d2;\n",
              "  --sklearn-color-unfitted-level-2: #ffe0b3;\n",
              "  --sklearn-color-unfitted-level-3: chocolate;\n",
              "  /* Definition of color scheme for fitted estimators */\n",
              "  --sklearn-color-fitted-level-0: #f0f8ff;\n",
              "  --sklearn-color-fitted-level-1: #d4ebff;\n",
              "  --sklearn-color-fitted-level-2: #b3dbfd;\n",
              "  --sklearn-color-fitted-level-3: cornflowerblue;\n",
              "\n",
              "  /* Specific color for light theme */\n",
              "  --sklearn-color-text-on-default-background: var(--sg-text-color, var(--theme-code-foreground, var(--jp-content-font-color1, black)));\n",
              "  --sklearn-color-background: var(--sg-background-color, var(--theme-background, var(--jp-layout-color0, white)));\n",
              "  --sklearn-color-border-box: var(--sg-text-color, var(--theme-code-foreground, var(--jp-content-font-color1, black)));\n",
              "  --sklearn-color-icon: #696969;\n",
              "\n",
              "  @media (prefers-color-scheme: dark) {\n",
              "    /* Redefinition of color scheme for dark theme */\n",
              "    --sklearn-color-text-on-default-background: var(--sg-text-color, var(--theme-code-foreground, var(--jp-content-font-color1, white)));\n",
              "    --sklearn-color-background: var(--sg-background-color, var(--theme-background, var(--jp-layout-color0, #111)));\n",
              "    --sklearn-color-border-box: var(--sg-text-color, var(--theme-code-foreground, var(--jp-content-font-color1, white)));\n",
              "    --sklearn-color-icon: #878787;\n",
              "  }\n",
              "}\n",
              "\n",
              "#sk-container-id-1 {\n",
              "  color: var(--sklearn-color-text);\n",
              "}\n",
              "\n",
              "#sk-container-id-1 pre {\n",
              "  padding: 0;\n",
              "}\n",
              "\n",
              "#sk-container-id-1 input.sk-hidden--visually {\n",
              "  border: 0;\n",
              "  clip: rect(1px 1px 1px 1px);\n",
              "  clip: rect(1px, 1px, 1px, 1px);\n",
              "  height: 1px;\n",
              "  margin: -1px;\n",
              "  overflow: hidden;\n",
              "  padding: 0;\n",
              "  position: absolute;\n",
              "  width: 1px;\n",
              "}\n",
              "\n",
              "#sk-container-id-1 div.sk-dashed-wrapped {\n",
              "  border: 1px dashed var(--sklearn-color-line);\n",
              "  margin: 0 0.4em 0.5em 0.4em;\n",
              "  box-sizing: border-box;\n",
              "  padding-bottom: 0.4em;\n",
              "  background-color: var(--sklearn-color-background);\n",
              "}\n",
              "\n",
              "#sk-container-id-1 div.sk-container {\n",
              "  /* jupyter's `normalize.less` sets `[hidden] { display: none; }`\n",
              "     but bootstrap.min.css set `[hidden] { display: none !important; }`\n",
              "     so we also need the `!important` here to be able to override the\n",
              "     default hidden behavior on the sphinx rendered scikit-learn.org.\n",
              "     See: https://github.com/scikit-learn/scikit-learn/issues/21755 */\n",
              "  display: inline-block !important;\n",
              "  position: relative;\n",
              "}\n",
              "\n",
              "#sk-container-id-1 div.sk-text-repr-fallback {\n",
              "  display: none;\n",
              "}\n",
              "\n",
              "div.sk-parallel-item,\n",
              "div.sk-serial,\n",
              "div.sk-item {\n",
              "  /* draw centered vertical line to link estimators */\n",
              "  background-image: linear-gradient(var(--sklearn-color-text-on-default-background), var(--sklearn-color-text-on-default-background));\n",
              "  background-size: 2px 100%;\n",
              "  background-repeat: no-repeat;\n",
              "  background-position: center center;\n",
              "}\n",
              "\n",
              "/* Parallel-specific style estimator block */\n",
              "\n",
              "#sk-container-id-1 div.sk-parallel-item::after {\n",
              "  content: \"\";\n",
              "  width: 100%;\n",
              "  border-bottom: 2px solid var(--sklearn-color-text-on-default-background);\n",
              "  flex-grow: 1;\n",
              "}\n",
              "\n",
              "#sk-container-id-1 div.sk-parallel {\n",
              "  display: flex;\n",
              "  align-items: stretch;\n",
              "  justify-content: center;\n",
              "  background-color: var(--sklearn-color-background);\n",
              "  position: relative;\n",
              "}\n",
              "\n",
              "#sk-container-id-1 div.sk-parallel-item {\n",
              "  display: flex;\n",
              "  flex-direction: column;\n",
              "}\n",
              "\n",
              "#sk-container-id-1 div.sk-parallel-item:first-child::after {\n",
              "  align-self: flex-end;\n",
              "  width: 50%;\n",
              "}\n",
              "\n",
              "#sk-container-id-1 div.sk-parallel-item:last-child::after {\n",
              "  align-self: flex-start;\n",
              "  width: 50%;\n",
              "}\n",
              "\n",
              "#sk-container-id-1 div.sk-parallel-item:only-child::after {\n",
              "  width: 0;\n",
              "}\n",
              "\n",
              "/* Serial-specific style estimator block */\n",
              "\n",
              "#sk-container-id-1 div.sk-serial {\n",
              "  display: flex;\n",
              "  flex-direction: column;\n",
              "  align-items: center;\n",
              "  background-color: var(--sklearn-color-background);\n",
              "  padding-right: 1em;\n",
              "  padding-left: 1em;\n",
              "}\n",
              "\n",
              "\n",
              "/* Toggleable style: style used for estimator/Pipeline/ColumnTransformer box that is\n",
              "clickable and can be expanded/collapsed.\n",
              "- Pipeline and ColumnTransformer use this feature and define the default style\n",
              "- Estimators will overwrite some part of the style using the `sk-estimator` class\n",
              "*/\n",
              "\n",
              "/* Pipeline and ColumnTransformer style (default) */\n",
              "\n",
              "#sk-container-id-1 div.sk-toggleable {\n",
              "  /* Default theme specific background. It is overwritten whether we have a\n",
              "  specific estimator or a Pipeline/ColumnTransformer */\n",
              "  background-color: var(--sklearn-color-background);\n",
              "}\n",
              "\n",
              "/* Toggleable label */\n",
              "#sk-container-id-1 label.sk-toggleable__label {\n",
              "  cursor: pointer;\n",
              "  display: flex;\n",
              "  width: 100%;\n",
              "  margin-bottom: 0;\n",
              "  padding: 0.5em;\n",
              "  box-sizing: border-box;\n",
              "  text-align: center;\n",
              "  align-items: start;\n",
              "  justify-content: space-between;\n",
              "  gap: 0.5em;\n",
              "}\n",
              "\n",
              "#sk-container-id-1 label.sk-toggleable__label .caption {\n",
              "  font-size: 0.6rem;\n",
              "  font-weight: lighter;\n",
              "  color: var(--sklearn-color-text-muted);\n",
              "}\n",
              "\n",
              "#sk-container-id-1 label.sk-toggleable__label-arrow:before {\n",
              "  /* Arrow on the left of the label */\n",
              "  content: \"▸\";\n",
              "  float: left;\n",
              "  margin-right: 0.25em;\n",
              "  color: var(--sklearn-color-icon);\n",
              "}\n",
              "\n",
              "#sk-container-id-1 label.sk-toggleable__label-arrow:hover:before {\n",
              "  color: var(--sklearn-color-text);\n",
              "}\n",
              "\n",
              "/* Toggleable content - dropdown */\n",
              "\n",
              "#sk-container-id-1 div.sk-toggleable__content {\n",
              "  max-height: 0;\n",
              "  max-width: 0;\n",
              "  overflow: hidden;\n",
              "  text-align: left;\n",
              "  /* unfitted */\n",
              "  background-color: var(--sklearn-color-unfitted-level-0);\n",
              "}\n",
              "\n",
              "#sk-container-id-1 div.sk-toggleable__content.fitted {\n",
              "  /* fitted */\n",
              "  background-color: var(--sklearn-color-fitted-level-0);\n",
              "}\n",
              "\n",
              "#sk-container-id-1 div.sk-toggleable__content pre {\n",
              "  margin: 0.2em;\n",
              "  border-radius: 0.25em;\n",
              "  color: var(--sklearn-color-text);\n",
              "  /* unfitted */\n",
              "  background-color: var(--sklearn-color-unfitted-level-0);\n",
              "}\n",
              "\n",
              "#sk-container-id-1 div.sk-toggleable__content.fitted pre {\n",
              "  /* unfitted */\n",
              "  background-color: var(--sklearn-color-fitted-level-0);\n",
              "}\n",
              "\n",
              "#sk-container-id-1 input.sk-toggleable__control:checked~div.sk-toggleable__content {\n",
              "  /* Expand drop-down */\n",
              "  max-height: 200px;\n",
              "  max-width: 100%;\n",
              "  overflow: auto;\n",
              "}\n",
              "\n",
              "#sk-container-id-1 input.sk-toggleable__control:checked~label.sk-toggleable__label-arrow:before {\n",
              "  content: \"▾\";\n",
              "}\n",
              "\n",
              "/* Pipeline/ColumnTransformer-specific style */\n",
              "\n",
              "#sk-container-id-1 div.sk-label input.sk-toggleable__control:checked~label.sk-toggleable__label {\n",
              "  color: var(--sklearn-color-text);\n",
              "  background-color: var(--sklearn-color-unfitted-level-2);\n",
              "}\n",
              "\n",
              "#sk-container-id-1 div.sk-label.fitted input.sk-toggleable__control:checked~label.sk-toggleable__label {\n",
              "  background-color: var(--sklearn-color-fitted-level-2);\n",
              "}\n",
              "\n",
              "/* Estimator-specific style */\n",
              "\n",
              "/* Colorize estimator box */\n",
              "#sk-container-id-1 div.sk-estimator input.sk-toggleable__control:checked~label.sk-toggleable__label {\n",
              "  /* unfitted */\n",
              "  background-color: var(--sklearn-color-unfitted-level-2);\n",
              "}\n",
              "\n",
              "#sk-container-id-1 div.sk-estimator.fitted input.sk-toggleable__control:checked~label.sk-toggleable__label {\n",
              "  /* fitted */\n",
              "  background-color: var(--sklearn-color-fitted-level-2);\n",
              "}\n",
              "\n",
              "#sk-container-id-1 div.sk-label label.sk-toggleable__label,\n",
              "#sk-container-id-1 div.sk-label label {\n",
              "  /* The background is the default theme color */\n",
              "  color: var(--sklearn-color-text-on-default-background);\n",
              "}\n",
              "\n",
              "/* On hover, darken the color of the background */\n",
              "#sk-container-id-1 div.sk-label:hover label.sk-toggleable__label {\n",
              "  color: var(--sklearn-color-text);\n",
              "  background-color: var(--sklearn-color-unfitted-level-2);\n",
              "}\n",
              "\n",
              "/* Label box, darken color on hover, fitted */\n",
              "#sk-container-id-1 div.sk-label.fitted:hover label.sk-toggleable__label.fitted {\n",
              "  color: var(--sklearn-color-text);\n",
              "  background-color: var(--sklearn-color-fitted-level-2);\n",
              "}\n",
              "\n",
              "/* Estimator label */\n",
              "\n",
              "#sk-container-id-1 div.sk-label label {\n",
              "  font-family: monospace;\n",
              "  font-weight: bold;\n",
              "  display: inline-block;\n",
              "  line-height: 1.2em;\n",
              "}\n",
              "\n",
              "#sk-container-id-1 div.sk-label-container {\n",
              "  text-align: center;\n",
              "}\n",
              "\n",
              "/* Estimator-specific */\n",
              "#sk-container-id-1 div.sk-estimator {\n",
              "  font-family: monospace;\n",
              "  border: 1px dotted var(--sklearn-color-border-box);\n",
              "  border-radius: 0.25em;\n",
              "  box-sizing: border-box;\n",
              "  margin-bottom: 0.5em;\n",
              "  /* unfitted */\n",
              "  background-color: var(--sklearn-color-unfitted-level-0);\n",
              "}\n",
              "\n",
              "#sk-container-id-1 div.sk-estimator.fitted {\n",
              "  /* fitted */\n",
              "  background-color: var(--sklearn-color-fitted-level-0);\n",
              "}\n",
              "\n",
              "/* on hover */\n",
              "#sk-container-id-1 div.sk-estimator:hover {\n",
              "  /* unfitted */\n",
              "  background-color: var(--sklearn-color-unfitted-level-2);\n",
              "}\n",
              "\n",
              "#sk-container-id-1 div.sk-estimator.fitted:hover {\n",
              "  /* fitted */\n",
              "  background-color: var(--sklearn-color-fitted-level-2);\n",
              "}\n",
              "\n",
              "/* Specification for estimator info (e.g. \"i\" and \"?\") */\n",
              "\n",
              "/* Common style for \"i\" and \"?\" */\n",
              "\n",
              ".sk-estimator-doc-link,\n",
              "a:link.sk-estimator-doc-link,\n",
              "a:visited.sk-estimator-doc-link {\n",
              "  float: right;\n",
              "  font-size: smaller;\n",
              "  line-height: 1em;\n",
              "  font-family: monospace;\n",
              "  background-color: var(--sklearn-color-background);\n",
              "  border-radius: 1em;\n",
              "  height: 1em;\n",
              "  width: 1em;\n",
              "  text-decoration: none !important;\n",
              "  margin-left: 0.5em;\n",
              "  text-align: center;\n",
              "  /* unfitted */\n",
              "  border: var(--sklearn-color-unfitted-level-1) 1pt solid;\n",
              "  color: var(--sklearn-color-unfitted-level-1);\n",
              "}\n",
              "\n",
              ".sk-estimator-doc-link.fitted,\n",
              "a:link.sk-estimator-doc-link.fitted,\n",
              "a:visited.sk-estimator-doc-link.fitted {\n",
              "  /* fitted */\n",
              "  border: var(--sklearn-color-fitted-level-1) 1pt solid;\n",
              "  color: var(--sklearn-color-fitted-level-1);\n",
              "}\n",
              "\n",
              "/* On hover */\n",
              "div.sk-estimator:hover .sk-estimator-doc-link:hover,\n",
              ".sk-estimator-doc-link:hover,\n",
              "div.sk-label-container:hover .sk-estimator-doc-link:hover,\n",
              ".sk-estimator-doc-link:hover {\n",
              "  /* unfitted */\n",
              "  background-color: var(--sklearn-color-unfitted-level-3);\n",
              "  color: var(--sklearn-color-background);\n",
              "  text-decoration: none;\n",
              "}\n",
              "\n",
              "div.sk-estimator.fitted:hover .sk-estimator-doc-link.fitted:hover,\n",
              ".sk-estimator-doc-link.fitted:hover,\n",
              "div.sk-label-container:hover .sk-estimator-doc-link.fitted:hover,\n",
              ".sk-estimator-doc-link.fitted:hover {\n",
              "  /* fitted */\n",
              "  background-color: var(--sklearn-color-fitted-level-3);\n",
              "  color: var(--sklearn-color-background);\n",
              "  text-decoration: none;\n",
              "}\n",
              "\n",
              "/* Span, style for the box shown on hovering the info icon */\n",
              ".sk-estimator-doc-link span {\n",
              "  display: none;\n",
              "  z-index: 9999;\n",
              "  position: relative;\n",
              "  font-weight: normal;\n",
              "  right: .2ex;\n",
              "  padding: .5ex;\n",
              "  margin: .5ex;\n",
              "  width: min-content;\n",
              "  min-width: 20ex;\n",
              "  max-width: 50ex;\n",
              "  color: var(--sklearn-color-text);\n",
              "  box-shadow: 2pt 2pt 4pt #999;\n",
              "  /* unfitted */\n",
              "  background: var(--sklearn-color-unfitted-level-0);\n",
              "  border: .5pt solid var(--sklearn-color-unfitted-level-3);\n",
              "}\n",
              "\n",
              ".sk-estimator-doc-link.fitted span {\n",
              "  /* fitted */\n",
              "  background: var(--sklearn-color-fitted-level-0);\n",
              "  border: var(--sklearn-color-fitted-level-3);\n",
              "}\n",
              "\n",
              ".sk-estimator-doc-link:hover span {\n",
              "  display: block;\n",
              "}\n",
              "\n",
              "/* \"?\"-specific style due to the `<a>` HTML tag */\n",
              "\n",
              "#sk-container-id-1 a.estimator_doc_link {\n",
              "  float: right;\n",
              "  font-size: 1rem;\n",
              "  line-height: 1em;\n",
              "  font-family: monospace;\n",
              "  background-color: var(--sklearn-color-background);\n",
              "  border-radius: 1rem;\n",
              "  height: 1rem;\n",
              "  width: 1rem;\n",
              "  text-decoration: none;\n",
              "  /* unfitted */\n",
              "  color: var(--sklearn-color-unfitted-level-1);\n",
              "  border: var(--sklearn-color-unfitted-level-1) 1pt solid;\n",
              "}\n",
              "\n",
              "#sk-container-id-1 a.estimator_doc_link.fitted {\n",
              "  /* fitted */\n",
              "  border: var(--sklearn-color-fitted-level-1) 1pt solid;\n",
              "  color: var(--sklearn-color-fitted-level-1);\n",
              "}\n",
              "\n",
              "/* On hover */\n",
              "#sk-container-id-1 a.estimator_doc_link:hover {\n",
              "  /* unfitted */\n",
              "  background-color: var(--sklearn-color-unfitted-level-3);\n",
              "  color: var(--sklearn-color-background);\n",
              "  text-decoration: none;\n",
              "}\n",
              "\n",
              "#sk-container-id-1 a.estimator_doc_link.fitted:hover {\n",
              "  /* fitted */\n",
              "  background-color: var(--sklearn-color-fitted-level-3);\n",
              "}\n",
              "</style><div id=\"sk-container-id-1\" class=\"sk-top-container\"><div class=\"sk-text-repr-fallback\"><pre>MLPClassifier(hidden_layer_sizes=(100, 50), verbose=True)</pre><b>In a Jupyter environment, please rerun this cell to show the HTML representation or trust the notebook. <br />On GitHub, the HTML representation is unable to render, please try loading this page with nbviewer.org.</b></div><div class=\"sk-container\" hidden><div class=\"sk-item\"><div class=\"sk-estimator fitted sk-toggleable\"><input class=\"sk-toggleable__control sk-hidden--visually\" id=\"sk-estimator-id-1\" type=\"checkbox\" checked><label for=\"sk-estimator-id-1\" class=\"sk-toggleable__label fitted sk-toggleable__label-arrow\"><div><div>MLPClassifier</div></div><div><a class=\"sk-estimator-doc-link fitted\" rel=\"noreferrer\" target=\"_blank\" href=\"https://scikit-learn.org/1.6/modules/generated/sklearn.neural_network.MLPClassifier.html\">?<span>Documentation for MLPClassifier</span></a><span class=\"sk-estimator-doc-link fitted\">i<span>Fitted</span></span></div></label><div class=\"sk-toggleable__content fitted\"><pre>MLPClassifier(hidden_layer_sizes=(100, 50), verbose=True)</pre></div> </div></div></div></div>"
            ]
          },
          "metadata": {},
          "execution_count": 7
        }
      ]
    },
    {
      "cell_type": "markdown",
      "source": [
        "Faça e exiba a predição no split de teste."
      ],
      "metadata": {
        "id": "4qG7Rmp87T5-"
      }
    },
    {
      "cell_type": "code",
      "source": [
        "y_pred = mlp_classifier.predict(X_test)\n",
        "y_pred"
      ],
      "metadata": {
        "id": "j1vGYUekjNIR",
        "outputId": "054ab8ba-56a2-4011-ef75-724f15291063",
        "colab": {
          "base_uri": "https://localhost:8080/"
        }
      },
      "execution_count": 10,
      "outputs": [
        {
          "output_type": "execute_result",
          "data": {
            "text/plain": [
              "array([4, 4, 5, ..., 6, 6, 5])"
            ]
          },
          "metadata": {},
          "execution_count": 10
        }
      ]
    },
    {
      "cell_type": "code",
      "source": [
        "y_test"
      ],
      "metadata": {
        "id": "UXjEK-eJjWPO",
        "outputId": "da9983be-f251-4e6b-ebaa-aad008a0fd66",
        "colab": {
          "base_uri": "https://localhost:8080/"
        }
      },
      "execution_count": 11,
      "outputs": [
        {
          "output_type": "execute_result",
          "data": {
            "text/plain": [
              "array([4, 4, 1, ..., 6, 6, 5])"
            ]
          },
          "metadata": {},
          "execution_count": 11
        }
      ]
    },
    {
      "cell_type": "markdown",
      "source": [
        "Calcule a acurácia."
      ],
      "metadata": {
        "id": "Vubt3uTL7YCy"
      }
    },
    {
      "cell_type": "code",
      "source": [
        "accuracy_score(y_test, y_pred)"
      ],
      "metadata": {
        "id": "hXg217cVchCn",
        "outputId": "05c9fdf5-3646-49eb-fd3a-8d487673118f",
        "colab": {
          "base_uri": "https://localhost:8080/"
        }
      },
      "execution_count": 12,
      "outputs": [
        {
          "output_type": "execute_result",
          "data": {
            "text/plain": [
              "0.774"
            ]
          },
          "metadata": {},
          "execution_count": 12
        }
      ]
    },
    {
      "cell_type": "markdown",
      "source": [
        "Exiba a matriz de confusão."
      ],
      "metadata": {
        "id": "r0-h03rX7Zqd"
      }
    },
    {
      "cell_type": "code",
      "source": [
        "cm = ConfusionMatrix(mlp_classifier)\n",
        "cm.fit(X_train, y_train)\n",
        "cm.score(X_test, y_test)"
      ],
      "metadata": {
        "id": "u3JVQij3cztC",
        "outputId": "8dcb011d-d650-4523-dd52-e5993c7c0400",
        "colab": {
          "base_uri": "https://localhost:8080/",
          "height": 497
        }
      },
      "execution_count": 13,
      "outputs": [
        {
          "output_type": "execute_result",
          "data": {
            "text/plain": [
              "0.774"
            ]
          },
          "metadata": {},
          "execution_count": 13
        },
        {
          "output_type": "display_data",
          "data": {
            "text/plain": [
              "<Figure size 800x550 with 1 Axes>"
            ],
            "image/png": "[encoded data removed]"
          },
          "metadata": {}
        }
      ]
    },
    {
      "cell_type": "markdown",
      "source": [
        "Exiba o reporte de classificação."
      ],
      "metadata": {
        "id": "0lG9940C7bqy"
      }
    },
    {
      "cell_type": "code",
      "source": [
        "print(classification_report(y_test, y_pred))"
      ],
      "metadata": {
        "id": "qnoMxdw2j0Ln",
        "outputId": "f7fe6cd0-c864-459f-8470-8df3fad35b39",
        "colab": {
          "base_uri": "https://localhost:8080/"
        }
      },
      "execution_count": 14,
      "outputs": [
        {
          "output_type": "stream",
          "name": "stdout",
          "text": [
            "              precision    recall  f1-score   support\n",
            "\n",
            "           0       0.50      0.47      0.48        34\n",
            "           1       0.50      0.62      0.56        16\n",
            "           2       0.52      0.45      0.48        67\n",
            "           3       0.83      0.74      0.78        87\n",
            "           4       0.83      0.80      0.81      1230\n",
            "           5       0.70      0.72      0.71       156\n",
            "           6       0.75      0.79      0.77       910\n",
            "\n",
            "    accuracy                           0.77      2500\n",
            "   macro avg       0.66      0.66      0.66      2500\n",
            "weighted avg       0.78      0.77      0.77      2500\n",
            "\n"
          ]
        }
      ]
    }
  ]
}